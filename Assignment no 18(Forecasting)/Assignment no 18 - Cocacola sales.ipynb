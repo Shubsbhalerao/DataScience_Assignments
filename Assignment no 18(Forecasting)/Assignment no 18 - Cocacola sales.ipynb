{
 "cells": [
  {
   "cell_type": "markdown",
   "id": "b490a246",
   "metadata": {},
   "source": [
    "# Forecasting Based on Models"
   ]
  },
  {
   "cell_type": "markdown",
   "id": "8064c647",
   "metadata": {},
   "source": [
    "### Forecast the CocaCola prices data set. Prepare a document for each model explaining how many dummy variables you have created and RMSE value for each model. Finally which model you will use for Forecasting"
   ]
  },
  {
   "cell_type": "code",
   "execution_count": 2,
   "id": "d6a16011",
   "metadata": {},
   "outputs": [],
   "source": [
    "import pandas as pd\n",
    "import numpy as np\n",
    "import matplotlib.pyplot as plt\n",
    "import seaborn as sns"
   ]
  },
  {
   "cell_type": "code",
   "execution_count": 3,
   "id": "634d015b",
   "metadata": {},
   "outputs": [
    {
     "data": {
      "text/html": [
       "<div>\n",
       "<style scoped>\n",
       "    .dataframe tbody tr th:only-of-type {\n",
       "        vertical-align: middle;\n",
       "    }\n",
       "\n",
       "    .dataframe tbody tr th {\n",
       "        vertical-align: top;\n",
       "    }\n",
       "\n",
       "    .dataframe thead th {\n",
       "        text-align: right;\n",
       "    }\n",
       "</style>\n",
       "<table border=\"1\" class=\"dataframe\">\n",
       "  <thead>\n",
       "    <tr style=\"text-align: right;\">\n",
       "      <th></th>\n",
       "      <th>Quarter</th>\n",
       "      <th>Sales</th>\n",
       "    </tr>\n",
       "  </thead>\n",
       "  <tbody>\n",
       "    <tr>\n",
       "      <th>0</th>\n",
       "      <td>Q1_86</td>\n",
       "      <td>1734.827000</td>\n",
       "    </tr>\n",
       "    <tr>\n",
       "      <th>1</th>\n",
       "      <td>Q2_86</td>\n",
       "      <td>2244.960999</td>\n",
       "    </tr>\n",
       "    <tr>\n",
       "      <th>2</th>\n",
       "      <td>Q3_86</td>\n",
       "      <td>2533.804993</td>\n",
       "    </tr>\n",
       "    <tr>\n",
       "      <th>3</th>\n",
       "      <td>Q4_86</td>\n",
       "      <td>2154.962997</td>\n",
       "    </tr>\n",
       "    <tr>\n",
       "      <th>4</th>\n",
       "      <td>Q1_87</td>\n",
       "      <td>1547.818996</td>\n",
       "    </tr>\n",
       "  </tbody>\n",
       "</table>\n",
       "</div>"
      ],
      "text/plain": [
       "  Quarter        Sales\n",
       "0   Q1_86  1734.827000\n",
       "1   Q2_86  2244.960999\n",
       "2   Q3_86  2533.804993\n",
       "3   Q4_86  2154.962997\n",
       "4   Q1_87  1547.818996"
      ]
     },
     "execution_count": 3,
     "metadata": {},
     "output_type": "execute_result"
    }
   ],
   "source": [
    "df=pd.read_csv('CocaCola_Sales_Rawdata.csv')\n",
    "df.head()"
   ]
  },
  {
   "cell_type": "code",
   "execution_count": 4,
   "id": "c796518d",
   "metadata": {},
   "outputs": [
    {
     "data": {
      "text/plain": [
       "Quarter    0\n",
       "Sales      0\n",
       "dtype: int64"
      ]
     },
     "execution_count": 4,
     "metadata": {},
     "output_type": "execute_result"
    }
   ],
   "source": [
    "df.isnull().sum()"
   ]
  },
  {
   "cell_type": "code",
   "execution_count": 5,
   "id": "4aece6f8",
   "metadata": {},
   "outputs": [
    {
     "name": "stdout",
     "output_type": "stream",
     "text": [
      "<class 'pandas.core.frame.DataFrame'>\n",
      "RangeIndex: 42 entries, 0 to 41\n",
      "Data columns (total 2 columns):\n",
      " #   Column   Non-Null Count  Dtype  \n",
      "---  ------   --------------  -----  \n",
      " 0   Quarter  42 non-null     object \n",
      " 1   Sales    42 non-null     float64\n",
      "dtypes: float64(1), object(1)\n",
      "memory usage: 800.0+ bytes\n"
     ]
    }
   ],
   "source": [
    "df.info()"
   ]
  },
  {
   "cell_type": "code",
   "execution_count": 6,
   "id": "d721acc0",
   "metadata": {},
   "outputs": [
    {
     "data": {
      "text/plain": [
       "Quarter     object\n",
       "Sales      float64\n",
       "dtype: object"
      ]
     },
     "execution_count": 6,
     "metadata": {},
     "output_type": "execute_result"
    }
   ],
   "source": [
    "df.dtypes"
   ]
  },
  {
   "cell_type": "code",
   "execution_count": 7,
   "id": "7d5c6b44",
   "metadata": {},
   "outputs": [
    {
     "data": {
      "text/html": [
       "<div>\n",
       "<style scoped>\n",
       "    .dataframe tbody tr th:only-of-type {\n",
       "        vertical-align: middle;\n",
       "    }\n",
       "\n",
       "    .dataframe tbody tr th {\n",
       "        vertical-align: top;\n",
       "    }\n",
       "\n",
       "    .dataframe thead th {\n",
       "        text-align: right;\n",
       "    }\n",
       "</style>\n",
       "<table border=\"1\" class=\"dataframe\">\n",
       "  <thead>\n",
       "    <tr style=\"text-align: right;\">\n",
       "      <th></th>\n",
       "      <th>count</th>\n",
       "      <th>mean</th>\n",
       "      <th>std</th>\n",
       "      <th>min</th>\n",
       "      <th>25%</th>\n",
       "      <th>50%</th>\n",
       "      <th>75%</th>\n",
       "      <th>max</th>\n",
       "    </tr>\n",
       "  </thead>\n",
       "  <tbody>\n",
       "    <tr>\n",
       "      <th>Sales</th>\n",
       "      <td>42.0</td>\n",
       "      <td>2994.353308</td>\n",
       "      <td>977.930896</td>\n",
       "      <td>1547.818996</td>\n",
       "      <td>2159.714247</td>\n",
       "      <td>2782.376999</td>\n",
       "      <td>3609.25</td>\n",
       "      <td>5253.0</td>\n",
       "    </tr>\n",
       "  </tbody>\n",
       "</table>\n",
       "</div>"
      ],
      "text/plain": [
       "       count         mean         std          min          25%          50%  \\\n",
       "Sales   42.0  2994.353308  977.930896  1547.818996  2159.714247  2782.376999   \n",
       "\n",
       "           75%     max  \n",
       "Sales  3609.25  5253.0  "
      ]
     },
     "execution_count": 7,
     "metadata": {},
     "output_type": "execute_result"
    }
   ],
   "source": [
    "df.describe().T"
   ]
  },
  {
   "cell_type": "code",
   "execution_count": 8,
   "id": "de5b7eac",
   "metadata": {},
   "outputs": [
    {
     "name": "stderr",
     "output_type": "stream",
     "text": [
      "C:\\Users\\bhale\\AppData\\Local\\Temp\\ipykernel_11244\\3833982565.py:1: FutureWarning: The default value of regex will change from True to False in a future version.\n",
      "  date=df.Quarter.str.replace(r'(Q\\d)_(\\d+)',r'19\\2-\\1')\n"
     ]
    }
   ],
   "source": [
    "date=df.Quarter.str.replace(r'(Q\\d)_(\\d+)',r'19\\2-\\1')"
   ]
  },
  {
   "cell_type": "code",
   "execution_count": 9,
   "id": "ab7438b7",
   "metadata": {},
   "outputs": [],
   "source": [
    "df['quarter']=pd.to_datetime(date).dt.strftime('%b-%y')"
   ]
  },
  {
   "cell_type": "code",
   "execution_count": 10,
   "id": "0aa2d6fe",
   "metadata": {},
   "outputs": [
    {
     "data": {
      "text/html": [
       "<div>\n",
       "<style scoped>\n",
       "    .dataframe tbody tr th:only-of-type {\n",
       "        vertical-align: middle;\n",
       "    }\n",
       "\n",
       "    .dataframe tbody tr th {\n",
       "        vertical-align: top;\n",
       "    }\n",
       "\n",
       "    .dataframe thead th {\n",
       "        text-align: right;\n",
       "    }\n",
       "</style>\n",
       "<table border=\"1\" class=\"dataframe\">\n",
       "  <thead>\n",
       "    <tr style=\"text-align: right;\">\n",
       "      <th></th>\n",
       "      <th>Quarter</th>\n",
       "      <th>Sales</th>\n",
       "      <th>quarter</th>\n",
       "    </tr>\n",
       "  </thead>\n",
       "  <tbody>\n",
       "    <tr>\n",
       "      <th>0</th>\n",
       "      <td>Q1_86</td>\n",
       "      <td>1734.827000</td>\n",
       "      <td>Jan-86</td>\n",
       "    </tr>\n",
       "    <tr>\n",
       "      <th>1</th>\n",
       "      <td>Q2_86</td>\n",
       "      <td>2244.960999</td>\n",
       "      <td>Apr-86</td>\n",
       "    </tr>\n",
       "    <tr>\n",
       "      <th>2</th>\n",
       "      <td>Q3_86</td>\n",
       "      <td>2533.804993</td>\n",
       "      <td>Jul-86</td>\n",
       "    </tr>\n",
       "    <tr>\n",
       "      <th>3</th>\n",
       "      <td>Q4_86</td>\n",
       "      <td>2154.962997</td>\n",
       "      <td>Oct-86</td>\n",
       "    </tr>\n",
       "    <tr>\n",
       "      <th>4</th>\n",
       "      <td>Q1_87</td>\n",
       "      <td>1547.818996</td>\n",
       "      <td>Jan-87</td>\n",
       "    </tr>\n",
       "  </tbody>\n",
       "</table>\n",
       "</div>"
      ],
      "text/plain": [
       "  Quarter        Sales quarter\n",
       "0   Q1_86  1734.827000  Jan-86\n",
       "1   Q2_86  2244.960999  Apr-86\n",
       "2   Q3_86  2533.804993  Jul-86\n",
       "3   Q4_86  2154.962997  Oct-86\n",
       "4   Q1_87  1547.818996  Jan-87"
      ]
     },
     "execution_count": 10,
     "metadata": {},
     "output_type": "execute_result"
    }
   ],
   "source": [
    "df.head()"
   ]
  },
  {
   "cell_type": "code",
   "execution_count": 11,
   "id": "230292a2",
   "metadata": {},
   "outputs": [],
   "source": [
    "df=df.drop(['Quarter'],axis=1)"
   ]
  },
  {
   "cell_type": "code",
   "execution_count": 12,
   "id": "f47d02b8",
   "metadata": {},
   "outputs": [
    {
     "data": {
      "text/html": [
       "<div>\n",
       "<style scoped>\n",
       "    .dataframe tbody tr th:only-of-type {\n",
       "        vertical-align: middle;\n",
       "    }\n",
       "\n",
       "    .dataframe tbody tr th {\n",
       "        vertical-align: top;\n",
       "    }\n",
       "\n",
       "    .dataframe thead th {\n",
       "        text-align: right;\n",
       "    }\n",
       "</style>\n",
       "<table border=\"1\" class=\"dataframe\">\n",
       "  <thead>\n",
       "    <tr style=\"text-align: right;\">\n",
       "      <th></th>\n",
       "      <th>Sales</th>\n",
       "      <th>quarter</th>\n",
       "    </tr>\n",
       "  </thead>\n",
       "  <tbody>\n",
       "    <tr>\n",
       "      <th>0</th>\n",
       "      <td>1734.827000</td>\n",
       "      <td>Jan-86</td>\n",
       "    </tr>\n",
       "    <tr>\n",
       "      <th>1</th>\n",
       "      <td>2244.960999</td>\n",
       "      <td>Apr-86</td>\n",
       "    </tr>\n",
       "    <tr>\n",
       "      <th>2</th>\n",
       "      <td>2533.804993</td>\n",
       "      <td>Jul-86</td>\n",
       "    </tr>\n",
       "    <tr>\n",
       "      <th>3</th>\n",
       "      <td>2154.962997</td>\n",
       "      <td>Oct-86</td>\n",
       "    </tr>\n",
       "    <tr>\n",
       "      <th>4</th>\n",
       "      <td>1547.818996</td>\n",
       "      <td>Jan-87</td>\n",
       "    </tr>\n",
       "  </tbody>\n",
       "</table>\n",
       "</div>"
      ],
      "text/plain": [
       "         Sales quarter\n",
       "0  1734.827000  Jan-86\n",
       "1  2244.960999  Apr-86\n",
       "2  2533.804993  Jul-86\n",
       "3  2154.962997  Oct-86\n",
       "4  1547.818996  Jan-87"
      ]
     },
     "execution_count": 12,
     "metadata": {},
     "output_type": "execute_result"
    }
   ],
   "source": [
    "df.head()"
   ]
  },
  {
   "cell_type": "code",
   "execution_count": 13,
   "id": "85f53381",
   "metadata": {},
   "outputs": [
    {
     "data": {
      "text/html": [
       "<div>\n",
       "<style scoped>\n",
       "    .dataframe tbody tr th:only-of-type {\n",
       "        vertical-align: middle;\n",
       "    }\n",
       "\n",
       "    .dataframe tbody tr th {\n",
       "        vertical-align: top;\n",
       "    }\n",
       "\n",
       "    .dataframe thead th {\n",
       "        text-align: right;\n",
       "    }\n",
       "</style>\n",
       "<table border=\"1\" class=\"dataframe\">\n",
       "  <thead>\n",
       "    <tr style=\"text-align: right;\">\n",
       "      <th></th>\n",
       "      <th>Sales</th>\n",
       "    </tr>\n",
       "    <tr>\n",
       "      <th>quarter</th>\n",
       "      <th></th>\n",
       "    </tr>\n",
       "  </thead>\n",
       "  <tbody>\n",
       "    <tr>\n",
       "      <th>1986-01-01</th>\n",
       "      <td>1734.827000</td>\n",
       "    </tr>\n",
       "    <tr>\n",
       "      <th>1986-04-01</th>\n",
       "      <td>2244.960999</td>\n",
       "    </tr>\n",
       "    <tr>\n",
       "      <th>1986-07-01</th>\n",
       "      <td>2533.804993</td>\n",
       "    </tr>\n",
       "    <tr>\n",
       "      <th>1986-10-01</th>\n",
       "      <td>2154.962997</td>\n",
       "    </tr>\n",
       "    <tr>\n",
       "      <th>1987-01-01</th>\n",
       "      <td>1547.818996</td>\n",
       "    </tr>\n",
       "  </tbody>\n",
       "</table>\n",
       "</div>"
      ],
      "text/plain": [
       "                  Sales\n",
       "quarter                \n",
       "1986-01-01  1734.827000\n",
       "1986-04-01  2244.960999\n",
       "1986-07-01  2533.804993\n",
       "1986-10-01  2154.962997\n",
       "1987-01-01  1547.818996"
      ]
     },
     "execution_count": 13,
     "metadata": {},
     "output_type": "execute_result"
    }
   ],
   "source": [
    "df['quarter']=pd.to_datetime(df['quarter'])\n",
    "df=df.set_index('quarter')\n",
    "df.head()"
   ]
  },
  {
   "cell_type": "code",
   "execution_count": 14,
   "id": "548814cd",
   "metadata": {},
   "outputs": [
    {
     "data": {
      "text/plain": [
       "<AxesSubplot:xlabel='quarter'>"
      ]
     },
     "execution_count": 14,
     "metadata": {},
     "output_type": "execute_result"
    },
    {
     "data": {
      "image/png": "[encoded data removed]",
      "text/plain": [
       "<Figure size 864x360 with 1 Axes>"
      ]
     },
     "metadata": {
      "needs_background": "light"
     },
     "output_type": "display_data"
    }
   ],
   "source": [
    "# visualize the data \n",
    "df['Sales'].plot(figsize=(12,5),grid=True)"
   ]
  },
  {
   "cell_type": "code",
   "execution_count": 15,
   "id": "95663ddc",
   "metadata": {},
   "outputs": [
    {
     "data": {
      "text/plain": [
       "42"
      ]
     },
     "execution_count": 15,
     "metadata": {},
     "output_type": "execute_result"
    }
   ],
   "source": [
    "len(df)"
   ]
  },
  {
   "cell_type": "code",
   "execution_count": 16,
   "id": "97b15539",
   "metadata": {},
   "outputs": [],
   "source": [
    "# split into train and test data with the last  years as test data\n",
    "train = df.iloc[:len(df)-4]\n",
    "test = df.iloc[len(df)-4:]"
   ]
  },
  {
   "cell_type": "code",
   "execution_count": 17,
   "id": "c3839b36",
   "metadata": {},
   "outputs": [
    {
     "data": {
      "text/plain": [
       "((38, 1), (4, 1))"
      ]
     },
     "execution_count": 17,
     "metadata": {},
     "output_type": "execute_result"
    }
   ],
   "source": [
    "# check the shape of train and test data\n",
    "train.shape, test.shape"
   ]
  },
  {
   "cell_type": "code",
   "execution_count": 18,
   "id": "ea613814",
   "metadata": {},
   "outputs": [
    {
     "data": {
      "image/png": "[encoded data removed]",
      "text/plain": [
       "<Figure size 864x360 with 1 Axes>"
      ]
     },
     "metadata": {
      "needs_background": "light"
     },
     "output_type": "display_data"
    }
   ],
   "source": [
    "# plot the train and test data in different colors and labels\n",
    "train['Sales'].plot(legend=True, label='TRAIN', figsize=(12,5))\n",
    "test['Sales'].plot(legend=True, label='TEST', figsize=(12,5));"
   ]
  },
  {
   "cell_type": "code",
   "execution_count": 19,
   "id": "c43627b6",
   "metadata": {},
   "outputs": [],
   "source": [
    "from statsmodels.tsa.seasonal import seasonal_decompose"
   ]
  },
  {
   "cell_type": "code",
   "execution_count": 20,
   "id": "c0d26a1a",
   "metadata": {},
   "outputs": [
    {
     "data": {
      "image/png": "[encoded data removed]",
      "text/plain": [
       "<Figure size 432x288 with 4 Axes>"
      ]
     },
     "metadata": {
      "needs_background": "light"
     },
     "output_type": "display_data"
    }
   ],
   "source": [
    "ts_add = seasonal_decompose(df['Sales'],model=\"additive\")\n",
    "fig = ts_add.plot()\n",
    "plt.show()"
   ]
  },
  {
   "cell_type": "code",
   "execution_count": 21,
   "id": "b9d05355",
   "metadata": {},
   "outputs": [
    {
     "data": {
      "image/png": "[encoded data removed]",
      "text/plain": [
       "<Figure size 432x288 with 4 Axes>"
      ]
     },
     "metadata": {
      "needs_background": "light"
     },
     "output_type": "display_data"
    }
   ],
   "source": [
    "ts_mult=seasonal_decompose(df['Sales'],model='multiplicative')\n",
    "fig=ts_mult.plot()\n",
    "plt.show()"
   ]
  },
  {
   "cell_type": "code",
   "execution_count": 22,
   "id": "efb388c0",
   "metadata": {},
   "outputs": [],
   "source": [
    "import statsmodels.graphics.tsaplots as tsa_plots"
   ]
  },
  {
   "cell_type": "code",
   "execution_count": 23,
   "id": "a6d9694d",
   "metadata": {},
   "outputs": [
    {
     "data": {
      "image/png": "[encoded data removed]",
      "text/plain": [
       "<Figure size 432x288 with 1 Axes>"
      ]
     },
     "execution_count": 23,
     "metadata": {},
     "output_type": "execute_result"
    },
    {
     "data": {
      "image/png": "[encoded data removed]",
      "text/plain": [
       "<Figure size 432x288 with 1 Axes>"
      ]
     },
     "metadata": {
      "needs_background": "light"
     },
     "output_type": "display_data"
    }
   ],
   "source": [
    "tsa_plots.plot_acf(df['Sales'])"
   ]
  },
  {
   "cell_type": "code",
   "execution_count": 24,
   "id": "947f1b89",
   "metadata": {},
   "outputs": [],
   "source": [
    "# arima model parameters tuning with auto_arima\n",
    "from pmdarima import auto_arima"
   ]
  },
  {
   "cell_type": "code",
   "execution_count": 25,
   "id": "0925e842",
   "metadata": {},
   "outputs": [
    {
     "name": "stdout",
     "output_type": "stream",
     "text": [
      " ARIMA(0,1,0)(0,0,0)[1] intercept   : AIC=553.800, Time=0.08 sec\n",
      " ARIMA(0,1,1)(0,0,0)[1] intercept   : AIC=546.027, Time=0.04 sec\n",
      " ARIMA(0,1,2)(0,0,0)[1] intercept   : AIC=545.356, Time=0.07 sec\n",
      " ARIMA(0,1,3)(0,0,0)[1] intercept   : AIC=inf, Time=0.09 sec\n",
      " ARIMA(1,1,0)(0,0,0)[1] intercept   : AIC=555.167, Time=0.02 sec\n",
      " ARIMA(1,1,1)(0,0,0)[1] intercept   : AIC=inf, Time=0.06 sec\n",
      " ARIMA(1,1,2)(0,0,0)[1] intercept   : AIC=547.243, Time=0.07 sec\n",
      " ARIMA(1,1,3)(0,0,0)[1] intercept   : AIC=inf, Time=0.13 sec\n",
      " ARIMA(2,1,0)(0,0,0)[1] intercept   : AIC=540.789, Time=0.04 sec\n",
      " ARIMA(2,1,1)(0,0,0)[1] intercept   : AIC=536.106, Time=0.10 sec\n",
      " ARIMA(2,1,2)(0,0,0)[1] intercept   : AIC=526.449, Time=0.12 sec\n",
      " ARIMA(2,1,3)(0,0,0)[1] intercept   : AIC=522.489, Time=0.13 sec\n",
      " ARIMA(3,1,0)(0,0,0)[1] intercept   : AIC=523.095, Time=0.02 sec\n",
      " ARIMA(3,1,1)(0,0,0)[1] intercept   : AIC=inf, Time=0.11 sec\n",
      " ARIMA(3,1,2)(0,0,0)[1] intercept   : AIC=510.137, Time=0.11 sec\n",
      "\n",
      "Best model:  ARIMA(3,1,2)(0,0,0)[1] intercept\n",
      "Total fit time: 1.191 seconds\n"
     ]
    }
   ],
   "source": [
    "# implement auto_arima to find best parameter in range of 0 to 3 for p & q and d=1\n",
    "auto_arima_seasonal = auto_arima(train['Sales'], \n",
    "                                    start_p=0, start_q=0, \n",
    "                                    max_p=3, max_q=3, \n",
    "                                    d=1, seasonal=True, trace=True, stepwise=False)"
   ]
  },
  {
   "cell_type": "code",
   "execution_count": 26,
   "id": "60a270d5",
   "metadata": {},
   "outputs": [],
   "source": [
    "from statsmodels.tsa.arima.model import ARIMA"
   ]
  },
  {
   "cell_type": "code",
   "execution_count": 27,
   "id": "01cfe8a3",
   "metadata": {},
   "outputs": [
    {
     "name": "stderr",
     "output_type": "stream",
     "text": [
      "C:\\Users\\bhale\\anaconda3\\lib\\site-packages\\statsmodels\\tsa\\base\\tsa_model.py:471: ValueWarning: No frequency information was provided, so inferred frequency QS-OCT will be used.\n",
      "  self._init_dates(dates, freq)\n",
      "C:\\Users\\bhale\\anaconda3\\lib\\site-packages\\statsmodels\\tsa\\base\\tsa_model.py:471: ValueWarning: No frequency information was provided, so inferred frequency QS-OCT will be used.\n",
      "  self._init_dates(dates, freq)\n",
      "C:\\Users\\bhale\\anaconda3\\lib\\site-packages\\statsmodels\\tsa\\base\\tsa_model.py:471: ValueWarning: No frequency information was provided, so inferred frequency QS-OCT will be used.\n",
      "  self._init_dates(dates, freq)\n",
      "C:\\Users\\bhale\\anaconda3\\lib\\site-packages\\statsmodels\\base\\model.py:604: ConvergenceWarning: Maximum Likelihood optimization failed to converge. Check mle_retvals\n",
      "  warnings.warn(\"Maximum Likelihood optimization failed to \"\n"
     ]
    }
   ],
   "source": [
    "# fit the model with the identified best parameters\n",
    "model_312 = ARIMA(train['Sales'], order=(3,1,2))\n",
    "results_312 = model_312.fit()\n",
    "forecast_312 = results_312.predict(start=len(train), \n",
    "                                    end=len(train)+len(test)-1).rename('ARIMA(3,1,2) Predictions')"
   ]
  },
  {
   "cell_type": "code",
   "execution_count": 28,
   "id": "088e80e3",
   "metadata": {},
   "outputs": [
    {
     "data": {
      "image/png": "[encoded data removed]",
      "text/plain": [
       "<Figure size 864x360 with 1 Axes>"
      ]
     },
     "metadata": {
      "needs_background": "light"
     },
     "output_type": "display_data"
    }
   ],
   "source": [
    "# plot the train,test and forecast data\n",
    "train['Sales'].plot(legend=True, label='TRAIN', figsize=(12,5))\n",
    "test['Sales'].plot(legend=True, label='TEST', figsize=(12,5))\n",
    "forecast_312.plot(legend=True, figsize=(12,5));"
   ]
  },
  {
   "cell_type": "code",
   "execution_count": 29,
   "id": "1361550c",
   "metadata": {},
   "outputs": [
    {
     "data": {
      "text/plain": [
       "1995-07-01    4990.856746\n",
       "1995-10-01    4317.900231\n",
       "1996-01-01    3975.110015\n",
       "1996-04-01    4897.785552\n",
       "Freq: QS-OCT, Name: ARIMA(3,1,2) Predictions, dtype: float64"
      ]
     },
     "execution_count": 29,
     "metadata": {},
     "output_type": "execute_result"
    }
   ],
   "source": [
    "forecast_312"
   ]
  },
  {
   "cell_type": "code",
   "execution_count": 30,
   "id": "df0dbf3c",
   "metadata": {},
   "outputs": [
    {
     "data": {
      "text/html": [
       "<div>\n",
       "<style scoped>\n",
       "    .dataframe tbody tr th:only-of-type {\n",
       "        vertical-align: middle;\n",
       "    }\n",
       "\n",
       "    .dataframe tbody tr th {\n",
       "        vertical-align: top;\n",
       "    }\n",
       "\n",
       "    .dataframe thead th {\n",
       "        text-align: right;\n",
       "    }\n",
       "</style>\n",
       "<table border=\"1\" class=\"dataframe\">\n",
       "  <thead>\n",
       "    <tr style=\"text-align: right;\">\n",
       "      <th></th>\n",
       "      <th>Sales</th>\n",
       "    </tr>\n",
       "    <tr>\n",
       "      <th>quarter</th>\n",
       "      <th></th>\n",
       "    </tr>\n",
       "  </thead>\n",
       "  <tbody>\n",
       "    <tr>\n",
       "      <th>1995-07-01</th>\n",
       "      <td>4895.0</td>\n",
       "    </tr>\n",
       "    <tr>\n",
       "      <th>1995-10-01</th>\n",
       "      <td>4333.0</td>\n",
       "    </tr>\n",
       "    <tr>\n",
       "      <th>1996-01-01</th>\n",
       "      <td>4194.0</td>\n",
       "    </tr>\n",
       "    <tr>\n",
       "      <th>1996-04-01</th>\n",
       "      <td>5253.0</td>\n",
       "    </tr>\n",
       "  </tbody>\n",
       "</table>\n",
       "</div>"
      ],
      "text/plain": [
       "             Sales\n",
       "quarter           \n",
       "1995-07-01  4895.0\n",
       "1995-10-01  4333.0\n",
       "1996-01-01  4194.0\n",
       "1996-04-01  5253.0"
      ]
     },
     "execution_count": 30,
     "metadata": {},
     "output_type": "execute_result"
    }
   ],
   "source": [
    "df.tail(4)"
   ]
  },
  {
   "cell_type": "code",
   "execution_count": 31,
   "id": "bca46f55",
   "metadata": {},
   "outputs": [],
   "source": [
    "from statsmodels.tools.eval_measures import rmse"
   ]
  },
  {
   "cell_type": "code",
   "execution_count": 32,
   "id": "3abbb206",
   "metadata": {},
   "outputs": [
    {
     "data": {
      "text/plain": [
       "214.18837994929217"
      ]
     },
     "execution_count": 32,
     "metadata": {},
     "output_type": "execute_result"
    }
   ],
   "source": [
    "# caluclate the rmse for the model\n",
    "rmse_312 = rmse(test['Sales'], forecast_312)\n",
    "rmse_312"
   ]
  },
  {
   "cell_type": "code",
   "execution_count": 33,
   "id": "d3b418af",
   "metadata": {},
   "outputs": [
    {
     "data": {
      "text/plain": [
       "4668.75"
      ]
     },
     "execution_count": 33,
     "metadata": {},
     "output_type": "execute_result"
    }
   ],
   "source": [
    "test['Sales'].mean()"
   ]
  },
  {
   "cell_type": "code",
   "execution_count": 34,
   "id": "8df60247",
   "metadata": {},
   "outputs": [
    {
     "data": {
      "text/plain": [
       "4.587702917253916"
      ]
     },
     "execution_count": 34,
     "metadata": {},
     "output_type": "execute_result"
    }
   ],
   "source": [
    "rmse_312*100/test['Sales'].mean()"
   ]
  },
  {
   "cell_type": "code",
   "execution_count": 35,
   "id": "3b61c7ae",
   "metadata": {
    "scrolled": true
   },
   "outputs": [
    {
     "name": "stdout",
     "output_type": "stream",
     "text": [
      " ARIMA(0,1,0)(0,1,0)[4]             : AIC=438.589, Time=0.02 sec\n",
      " ARIMA(0,1,0)(0,1,1)[4]             : AIC=439.657, Time=0.03 sec\n",
      " ARIMA(0,1,0)(0,1,2)[4]             : AIC=441.492, Time=0.03 sec\n",
      " ARIMA(0,1,0)(0,1,3)[4]             : AIC=inf, Time=0.11 sec\n",
      " ARIMA(0,1,0)(0,1,4)[4]             : AIC=inf, Time=0.16 sec\n",
      " ARIMA(0,1,0)(0,1,5)[4]             : AIC=inf, Time=0.24 sec\n",
      " ARIMA(0,1,0)(1,1,0)[4]             : AIC=439.844, Time=0.02 sec\n",
      " ARIMA(0,1,0)(1,1,1)[4]             : AIC=inf, Time=0.11 sec\n",
      " ARIMA(0,1,0)(1,1,2)[4]             : AIC=inf, Time=0.13 sec\n",
      " ARIMA(0,1,0)(1,1,3)[4]             : AIC=inf, Time=0.13 sec\n",
      " ARIMA(0,1,0)(1,1,4)[4]             : AIC=inf, Time=0.18 sec\n",
      " ARIMA(0,1,0)(2,1,0)[4]             : AIC=441.786, Time=0.04 sec\n",
      " ARIMA(0,1,0)(2,1,1)[4]             : AIC=inf, Time=0.12 sec\n",
      " ARIMA(0,1,0)(2,1,2)[4]             : AIC=inf, Time=0.16 sec\n",
      " ARIMA(0,1,0)(2,1,3)[4]             : AIC=inf, Time=0.15 sec\n",
      " ARIMA(0,1,0)(3,1,0)[4]             : AIC=442.172, Time=0.05 sec\n",
      " ARIMA(0,1,0)(3,1,1)[4]             : AIC=inf, Time=0.08 sec\n",
      " ARIMA(0,1,0)(3,1,2)[4]             : AIC=inf, Time=0.11 sec\n",
      " ARIMA(0,1,0)(4,1,0)[4]             : AIC=444.128, Time=0.08 sec\n",
      " ARIMA(0,1,0)(4,1,1)[4]             : AIC=445.868, Time=0.10 sec\n",
      " ARIMA(0,1,0)(5,1,0)[4]             : AIC=445.570, Time=0.10 sec\n",
      " ARIMA(0,1,1)(0,1,0)[4]             : AIC=440.470, Time=0.04 sec\n",
      " ARIMA(0,1,1)(0,1,1)[4]             : AIC=441.403, Time=0.03 sec\n",
      " ARIMA(0,1,1)(0,1,2)[4]             : AIC=443.365, Time=0.06 sec\n",
      " ARIMA(0,1,1)(0,1,3)[4]             : AIC=inf, Time=0.14 sec\n",
      " ARIMA(0,1,1)(0,1,4)[4]             : AIC=inf, Time=0.18 sec\n",
      " ARIMA(0,1,1)(1,1,0)[4]             : AIC=441.442, Time=0.03 sec\n",
      " ARIMA(0,1,1)(1,1,1)[4]             : AIC=inf, Time=0.06 sec\n",
      " ARIMA(0,1,1)(1,1,2)[4]             : AIC=inf, Time=0.11 sec\n",
      " ARIMA(0,1,1)(1,1,3)[4]             : AIC=inf, Time=0.18 sec\n",
      " ARIMA(0,1,1)(2,1,0)[4]             : AIC=443.387, Time=0.04 sec\n",
      " ARIMA(0,1,1)(2,1,1)[4]             : AIC=inf, Time=0.06 sec\n",
      " ARIMA(0,1,1)(2,1,2)[4]             : AIC=inf, Time=0.11 sec\n",
      " ARIMA(0,1,1)(3,1,0)[4]             : AIC=443.236, Time=0.06 sec\n",
      " ARIMA(0,1,1)(3,1,1)[4]             : AIC=inf, Time=0.16 sec\n",
      " ARIMA(0,1,1)(4,1,0)[4]             : AIC=444.902, Time=0.08 sec\n",
      " ARIMA(0,1,2)(0,1,0)[4]             : AIC=438.930, Time=0.03 sec\n",
      " ARIMA(0,1,2)(0,1,1)[4]             : AIC=439.817, Time=0.04 sec\n",
      " ARIMA(0,1,2)(0,1,2)[4]             : AIC=441.739, Time=0.08 sec\n",
      " ARIMA(0,1,2)(0,1,3)[4]             : AIC=442.726, Time=0.14 sec\n",
      " ARIMA(0,1,2)(1,1,0)[4]             : AIC=439.937, Time=0.04 sec\n",
      " ARIMA(0,1,2)(1,1,1)[4]             : AIC=inf, Time=0.07 sec\n",
      " ARIMA(0,1,2)(1,1,2)[4]             : AIC=inf, Time=0.14 sec\n",
      " ARIMA(0,1,2)(2,1,0)[4]             : AIC=441.934, Time=0.05 sec\n",
      " ARIMA(0,1,2)(2,1,1)[4]             : AIC=inf, Time=0.09 sec\n",
      " ARIMA(0,1,2)(3,1,0)[4]             : AIC=442.206, Time=0.06 sec\n",
      " ARIMA(0,1,3)(0,1,0)[4]             : AIC=440.878, Time=0.04 sec\n",
      " ARIMA(0,1,3)(0,1,1)[4]             : AIC=441.813, Time=0.06 sec\n",
      " ARIMA(0,1,3)(0,1,2)[4]             : AIC=443.738, Time=0.08 sec\n",
      " ARIMA(0,1,3)(1,1,0)[4]             : AIC=441.932, Time=0.05 sec\n",
      " ARIMA(0,1,3)(1,1,1)[4]             : AIC=inf, Time=0.14 sec\n",
      " ARIMA(0,1,3)(2,1,0)[4]             : AIC=443.931, Time=0.08 sec\n",
      " ARIMA(1,1,0)(0,1,0)[4]             : AIC=440.527, Time=0.02 sec\n",
      " ARIMA(1,1,0)(0,1,1)[4]             : AIC=441.551, Time=0.04 sec\n",
      " ARIMA(1,1,0)(0,1,2)[4]             : AIC=443.446, Time=0.05 sec\n",
      " ARIMA(1,1,0)(0,1,3)[4]             : AIC=inf, Time=0.13 sec\n",
      " ARIMA(1,1,0)(0,1,4)[4]             : AIC=inf, Time=0.18 sec\n",
      " ARIMA(1,1,0)(1,1,0)[4]             : AIC=441.683, Time=0.04 sec\n",
      " ARIMA(1,1,0)(1,1,1)[4]             : AIC=inf, Time=0.12 sec\n",
      " ARIMA(1,1,0)(1,1,2)[4]             : AIC=inf, Time=0.10 sec\n",
      " ARIMA(1,1,0)(1,1,3)[4]             : AIC=inf, Time=0.17 sec\n",
      " ARIMA(1,1,0)(2,1,0)[4]             : AIC=443.676, Time=0.06 sec\n",
      " ARIMA(1,1,0)(2,1,1)[4]             : AIC=inf, Time=0.10 sec\n",
      " ARIMA(1,1,0)(2,1,2)[4]             : AIC=inf, Time=0.11 sec\n",
      " ARIMA(1,1,0)(3,1,0)[4]             : AIC=443.902, Time=0.05 sec\n",
      " ARIMA(1,1,0)(3,1,1)[4]             : AIC=inf, Time=0.10 sec\n",
      " ARIMA(1,1,0)(4,1,0)[4]             : AIC=445.767, Time=0.08 sec\n",
      " ARIMA(1,1,1)(0,1,0)[4]             : AIC=440.017, Time=0.04 sec\n",
      " ARIMA(1,1,1)(0,1,1)[4]             : AIC=441.392, Time=0.06 sec\n",
      " ARIMA(1,1,1)(0,1,2)[4]             : AIC=443.392, Time=0.08 sec\n",
      " ARIMA(1,1,1)(0,1,3)[4]             : AIC=inf, Time=0.12 sec\n",
      " ARIMA(1,1,1)(1,1,0)[4]             : AIC=441.367, Time=0.06 sec\n",
      " ARIMA(1,1,1)(1,1,1)[4]             : AIC=inf, Time=0.06 sec\n",
      " ARIMA(1,1,1)(1,1,2)[4]             : AIC=inf, Time=0.10 sec\n",
      " ARIMA(1,1,1)(2,1,0)[4]             : AIC=443.310, Time=0.06 sec\n",
      " ARIMA(1,1,1)(2,1,1)[4]             : AIC=inf, Time=0.09 sec\n",
      " ARIMA(1,1,1)(3,1,0)[4]             : AIC=443.753, Time=0.08 sec\n",
      " ARIMA(1,1,2)(0,1,0)[4]             : AIC=inf, Time=0.07 sec\n",
      " ARIMA(1,1,2)(0,1,1)[4]             : AIC=441.814, Time=0.06 sec\n",
      " ARIMA(1,1,2)(0,1,2)[4]             : AIC=443.738, Time=0.08 sec\n",
      " ARIMA(1,1,2)(1,1,0)[4]             : AIC=inf, Time=0.07 sec\n",
      " ARIMA(1,1,2)(1,1,1)[4]             : AIC=inf, Time=0.14 sec\n",
      " ARIMA(1,1,2)(2,1,0)[4]             : AIC=inf, Time=0.10 sec\n",
      " ARIMA(1,1,3)(0,1,0)[4]             : AIC=442.814, Time=0.06 sec\n",
      " ARIMA(1,1,3)(0,1,1)[4]             : AIC=442.482, Time=0.14 sec\n",
      " ARIMA(1,1,3)(1,1,0)[4]             : AIC=inf, Time=0.13 sec\n",
      " ARIMA(2,1,0)(0,1,0)[4]             : AIC=440.349, Time=0.02 sec\n",
      " ARIMA(2,1,0)(0,1,1)[4]             : AIC=439.890, Time=0.04 sec\n",
      " ARIMA(2,1,0)(0,1,2)[4]             : AIC=441.832, Time=0.04 sec\n",
      " ARIMA(2,1,0)(0,1,3)[4]             : AIC=443.009, Time=0.11 sec\n",
      " ARIMA(2,1,0)(1,1,0)[4]             : AIC=440.244, Time=0.04 sec\n",
      " ARIMA(2,1,0)(1,1,1)[4]             : AIC=inf, Time=0.08 sec\n",
      " ARIMA(2,1,0)(1,1,2)[4]             : AIC=inf, Time=0.12 sec\n",
      " ARIMA(2,1,0)(2,1,0)[4]             : AIC=442.238, Time=0.06 sec\n",
      " ARIMA(2,1,0)(2,1,1)[4]             : AIC=inf, Time=0.11 sec\n",
      " ARIMA(2,1,0)(3,1,0)[4]             : AIC=442.037, Time=0.08 sec\n",
      " ARIMA(2,1,1)(0,1,0)[4]             : AIC=440.805, Time=0.04 sec\n",
      " ARIMA(2,1,1)(0,1,1)[4]             : AIC=441.615, Time=0.06 sec\n",
      " ARIMA(2,1,1)(0,1,2)[4]             : AIC=443.580, Time=0.08 sec\n",
      " ARIMA(2,1,1)(1,1,0)[4]             : AIC=441.839, Time=0.06 sec\n",
      " ARIMA(2,1,1)(1,1,1)[4]             : AIC=inf, Time=0.10 sec\n",
      " ARIMA(2,1,1)(2,1,0)[4]             : AIC=443.838, Time=0.08 sec\n",
      " ARIMA(2,1,2)(0,1,0)[4]             : AIC=inf, Time=0.06 sec\n",
      " ARIMA(2,1,2)(0,1,1)[4]             : AIC=442.803, Time=0.15 sec\n",
      " ARIMA(2,1,2)(1,1,0)[4]             : AIC=inf, Time=0.14 sec\n",
      " ARIMA(2,1,3)(0,1,0)[4]             : AIC=inf, Time=0.10 sec\n",
      " ARIMA(3,1,0)(0,1,0)[4]             : AIC=441.948, Time=0.03 sec\n",
      " ARIMA(3,1,0)(0,1,1)[4]             : AIC=441.562, Time=0.06 sec\n",
      " ARIMA(3,1,0)(0,1,2)[4]             : AIC=443.539, Time=0.08 sec\n",
      " ARIMA(3,1,0)(1,1,0)[4]             : AIC=441.821, Time=0.06 sec\n",
      " ARIMA(3,1,0)(1,1,1)[4]             : AIC=inf, Time=0.11 sec\n",
      " ARIMA(3,1,0)(2,1,0)[4]             : AIC=443.821, Time=0.08 sec\n",
      " ARIMA(3,1,1)(0,1,0)[4]             : AIC=442.778, Time=0.07 sec\n",
      " ARIMA(3,1,1)(0,1,1)[4]             : AIC=inf, Time=0.16 sec\n",
      " ARIMA(3,1,1)(1,1,0)[4]             : AIC=inf, Time=0.14 sec\n",
      " ARIMA(3,1,2)(0,1,0)[4]             : AIC=inf, Time=0.08 sec\n",
      "\n",
      "Best model:  ARIMA(0,1,0)(0,1,0)[4]          \n",
      "Total fit time: 10.148 seconds\n"
     ]
    }
   ],
   "source": [
    "# implement auto_arima to find the best parameters in the range of 2 to 5 for p & q and d=1\n",
    "auto_arima_model = auto_arima(train['Sales'], seasonal = True, \n",
    "           trace = True, error_action = 'ignore', suppress_warnings = True,\n",
    "           start_p=2,\n",
    "           start_q=2,\n",
    "           max_p=5, max_q=5, stepwise=False, d=1, max_d=5, \n",
    "           start_P=0, D=1, max_P=5, max_D=5,m=4, start_Q=0, max_Q=5)\n",
    "# We use m=4 because the dataset in quarter format."
   ]
  },
  {
   "cell_type": "code",
   "execution_count": 36,
   "id": "1debffa4",
   "metadata": {},
   "outputs": [
    {
     "data": {
      "text/plain": [
       "{'maxiter': 50,\n",
       " 'method': 'lbfgs',\n",
       " 'order': (0, 1, 0),\n",
       " 'out_of_sample_size': 0,\n",
       " 'scoring': 'mse',\n",
       " 'scoring_args': {},\n",
       " 'seasonal_order': (0, 1, 0, 4),\n",
       " 'start_params': None,\n",
       " 'suppress_warnings': True,\n",
       " 'trend': None,\n",
       " 'with_intercept': False}"
      ]
     },
     "execution_count": 36,
     "metadata": {},
     "output_type": "execute_result"
    }
   ],
   "source": [
    "auto_arima_model.get_params()"
   ]
  },
  {
   "cell_type": "code",
   "execution_count": 37,
   "id": "6ee52a4d",
   "metadata": {},
   "outputs": [],
   "source": [
    "# import the SARIMAX model\n",
    "from statsmodels.tsa.statespace.sarimax import SARIMAX"
   ]
  },
  {
   "cell_type": "code",
   "execution_count": 38,
   "id": "afc4f52e",
   "metadata": {},
   "outputs": [
    {
     "name": "stderr",
     "output_type": "stream",
     "text": [
      "C:\\Users\\bhale\\anaconda3\\lib\\site-packages\\statsmodels\\tsa\\base\\tsa_model.py:471: ValueWarning: No frequency information was provided, so inferred frequency QS-OCT will be used.\n",
      "  self._init_dates(dates, freq)\n",
      "C:\\Users\\bhale\\anaconda3\\lib\\site-packages\\statsmodels\\tsa\\base\\tsa_model.py:471: ValueWarning: No frequency information was provided, so inferred frequency QS-OCT will be used.\n",
      "  self._init_dates(dates, freq)\n"
     ]
    },
    {
     "data": {
      "text/plain": [
       "1995-07-01    5055.0\n",
       "1995-10-01    4611.0\n",
       "1996-01-01    4448.0\n",
       "1996-04-01    5530.0\n",
       "Freq: QS-OCT, Name: SARIMA Forecast, dtype: float64"
      ]
     },
     "execution_count": 38,
     "metadata": {},
     "output_type": "execute_result"
    }
   ],
   "source": [
    "# fit a SARIMAX model with the above best parameters & forecast the test data\n",
    "model = SARIMAX(train['Sales'], order=(0, 1, 0), seasonal_order=(0, 1, 0, 4))\n",
    "results = model.fit()\n",
    "forecast = results.predict(start=len(train), \n",
    "                            end=len(train)+len(test)-1).rename('SARIMA Forecast')\n",
    "forecast"
   ]
  },
  {
   "cell_type": "code",
   "execution_count": 39,
   "id": "9859ab54",
   "metadata": {},
   "outputs": [
    {
     "data": {
      "text/html": [
       "<div>\n",
       "<style scoped>\n",
       "    .dataframe tbody tr th:only-of-type {\n",
       "        vertical-align: middle;\n",
       "    }\n",
       "\n",
       "    .dataframe tbody tr th {\n",
       "        vertical-align: top;\n",
       "    }\n",
       "\n",
       "    .dataframe thead th {\n",
       "        text-align: right;\n",
       "    }\n",
       "</style>\n",
       "<table border=\"1\" class=\"dataframe\">\n",
       "  <thead>\n",
       "    <tr style=\"text-align: right;\">\n",
       "      <th></th>\n",
       "      <th>Sales</th>\n",
       "    </tr>\n",
       "    <tr>\n",
       "      <th>quarter</th>\n",
       "      <th></th>\n",
       "    </tr>\n",
       "  </thead>\n",
       "  <tbody>\n",
       "    <tr>\n",
       "      <th>1995-07-01</th>\n",
       "      <td>4895.0</td>\n",
       "    </tr>\n",
       "    <tr>\n",
       "      <th>1995-10-01</th>\n",
       "      <td>4333.0</td>\n",
       "    </tr>\n",
       "    <tr>\n",
       "      <th>1996-01-01</th>\n",
       "      <td>4194.0</td>\n",
       "    </tr>\n",
       "    <tr>\n",
       "      <th>1996-04-01</th>\n",
       "      <td>5253.0</td>\n",
       "    </tr>\n",
       "  </tbody>\n",
       "</table>\n",
       "</div>"
      ],
      "text/plain": [
       "             Sales\n",
       "quarter           \n",
       "1995-07-01  4895.0\n",
       "1995-10-01  4333.0\n",
       "1996-01-01  4194.0\n",
       "1996-04-01  5253.0"
      ]
     },
     "execution_count": 39,
     "metadata": {},
     "output_type": "execute_result"
    }
   ],
   "source": [
    "df.tail(4)"
   ]
  },
  {
   "cell_type": "code",
   "execution_count": 40,
   "id": "51a6a859",
   "metadata": {},
   "outputs": [
    {
     "data": {
      "image/png": "[encoded data removed]",
      "text/plain": [
       "<Figure size 864x360 with 1 Axes>"
      ]
     },
     "metadata": {
      "needs_background": "light"
     },
     "output_type": "display_data"
    }
   ],
   "source": [
    "# plot the train, test and forecast data\n",
    "train['Sales'].plot(legend=True, label='TRAIN', figsize=(12,5))\n",
    "test['Sales'].plot(legend=True, label='TEST', figsize=(12,5))\n",
    "forecast.plot(legend=True, figsize=(12,5));"
   ]
  },
  {
   "cell_type": "code",
   "execution_count": 41,
   "id": "181de79b",
   "metadata": {},
   "outputs": [
    {
     "data": {
      "text/plain": [
       "247.0470602941881"
      ]
     },
     "execution_count": 41,
     "metadata": {},
     "output_type": "execute_result"
    }
   ],
   "source": [
    "# calculate the rmse for the sarimax model\n",
    "rmse_sarimax = rmse(test['Sales'], forecast)\n",
    "rmse_sarimax"
   ]
  },
  {
   "cell_type": "code",
   "execution_count": 42,
   "id": "5cad5671",
   "metadata": {},
   "outputs": [
    {
     "data": {
      "text/plain": [
       "5.291503299473908"
      ]
     },
     "execution_count": 42,
     "metadata": {},
     "output_type": "execute_result"
    }
   ],
   "source": [
    "error=rmse_sarimax*100/test['Sales'].mean()\n",
    "error"
   ]
  },
  {
   "cell_type": "markdown",
   "id": "1e0f3f41",
   "metadata": {},
   "source": [
    "#### From the above value of error\n",
    "#### error=5.29% . is less then 10%, Because of this model is acceptable¶"
   ]
  },
  {
   "cell_type": "markdown",
   "id": "8423e3b3",
   "metadata": {},
   "source": [
    "## Forecasting based on multiple models,like addive ,quadratic,quadratic with additive trend"
   ]
  },
  {
   "cell_type": "code",
   "execution_count": 43,
   "id": "489b2a65",
   "metadata": {},
   "outputs": [
    {
     "data": {
      "text/html": [
       "<div>\n",
       "<style scoped>\n",
       "    .dataframe tbody tr th:only-of-type {\n",
       "        vertical-align: middle;\n",
       "    }\n",
       "\n",
       "    .dataframe tbody tr th {\n",
       "        vertical-align: top;\n",
       "    }\n",
       "\n",
       "    .dataframe thead th {\n",
       "        text-align: right;\n",
       "    }\n",
       "</style>\n",
       "<table border=\"1\" class=\"dataframe\">\n",
       "  <thead>\n",
       "    <tr style=\"text-align: right;\">\n",
       "      <th></th>\n",
       "      <th>Quarter</th>\n",
       "      <th>Sales</th>\n",
       "    </tr>\n",
       "  </thead>\n",
       "  <tbody>\n",
       "    <tr>\n",
       "      <th>0</th>\n",
       "      <td>Q1_86</td>\n",
       "      <td>1734.827000</td>\n",
       "    </tr>\n",
       "    <tr>\n",
       "      <th>1</th>\n",
       "      <td>Q2_86</td>\n",
       "      <td>2244.960999</td>\n",
       "    </tr>\n",
       "    <tr>\n",
       "      <th>2</th>\n",
       "      <td>Q3_86</td>\n",
       "      <td>2533.804993</td>\n",
       "    </tr>\n",
       "    <tr>\n",
       "      <th>3</th>\n",
       "      <td>Q4_86</td>\n",
       "      <td>2154.962997</td>\n",
       "    </tr>\n",
       "    <tr>\n",
       "      <th>4</th>\n",
       "      <td>Q1_87</td>\n",
       "      <td>1547.818996</td>\n",
       "    </tr>\n",
       "  </tbody>\n",
       "</table>\n",
       "</div>"
      ],
      "text/plain": [
       "  Quarter        Sales\n",
       "0   Q1_86  1734.827000\n",
       "1   Q2_86  2244.960999\n",
       "2   Q3_86  2533.804993\n",
       "3   Q4_86  2154.962997\n",
       "4   Q1_87  1547.818996"
      ]
     },
     "execution_count": 43,
     "metadata": {},
     "output_type": "execute_result"
    }
   ],
   "source": [
    "df=pd.read_csv('CocaCola_Sales_Rawdata.csv')\n",
    "df.head()"
   ]
  },
  {
   "cell_type": "code",
   "execution_count": 44,
   "id": "a3398447",
   "metadata": {},
   "outputs": [],
   "source": [
    "df=pd.get_dummies(df,columns=['Quarter'])"
   ]
  },
  {
   "cell_type": "code",
   "execution_count": 45,
   "id": "78331829",
   "metadata": {},
   "outputs": [
    {
     "data": {
      "text/html": [
       "<div>\n",
       "<style scoped>\n",
       "    .dataframe tbody tr th:only-of-type {\n",
       "        vertical-align: middle;\n",
       "    }\n",
       "\n",
       "    .dataframe tbody tr th {\n",
       "        vertical-align: top;\n",
       "    }\n",
       "\n",
       "    .dataframe thead th {\n",
       "        text-align: right;\n",
       "    }\n",
       "</style>\n",
       "<table border=\"1\" class=\"dataframe\">\n",
       "  <thead>\n",
       "    <tr style=\"text-align: right;\">\n",
       "      <th></th>\n",
       "      <th>Sales</th>\n",
       "      <th>Quarter_Q1_86</th>\n",
       "      <th>Quarter_Q1_87</th>\n",
       "      <th>Quarter_Q1_88</th>\n",
       "      <th>Quarter_Q1_89</th>\n",
       "      <th>Quarter_Q1_90</th>\n",
       "      <th>Quarter_Q1_91</th>\n",
       "      <th>Quarter_Q1_92</th>\n",
       "      <th>Quarter_Q1_93</th>\n",
       "      <th>Quarter_Q1_94</th>\n",
       "      <th>...</th>\n",
       "      <th>Quarter_Q4_86</th>\n",
       "      <th>Quarter_Q4_87</th>\n",
       "      <th>Quarter_Q4_88</th>\n",
       "      <th>Quarter_Q4_89</th>\n",
       "      <th>Quarter_Q4_90</th>\n",
       "      <th>Quarter_Q4_91</th>\n",
       "      <th>Quarter_Q4_92</th>\n",
       "      <th>Quarter_Q4_93</th>\n",
       "      <th>Quarter_Q4_94</th>\n",
       "      <th>Quarter_Q4_95</th>\n",
       "    </tr>\n",
       "  </thead>\n",
       "  <tbody>\n",
       "    <tr>\n",
       "      <th>0</th>\n",
       "      <td>1734.827000</td>\n",
       "      <td>1</td>\n",
       "      <td>0</td>\n",
       "      <td>0</td>\n",
       "      <td>0</td>\n",
       "      <td>0</td>\n",
       "      <td>0</td>\n",
       "      <td>0</td>\n",
       "      <td>0</td>\n",
       "      <td>0</td>\n",
       "      <td>...</td>\n",
       "      <td>0</td>\n",
       "      <td>0</td>\n",
       "      <td>0</td>\n",
       "      <td>0</td>\n",
       "      <td>0</td>\n",
       "      <td>0</td>\n",
       "      <td>0</td>\n",
       "      <td>0</td>\n",
       "      <td>0</td>\n",
       "      <td>0</td>\n",
       "    </tr>\n",
       "    <tr>\n",
       "      <th>1</th>\n",
       "      <td>2244.960999</td>\n",
       "      <td>0</td>\n",
       "      <td>0</td>\n",
       "      <td>0</td>\n",
       "      <td>0</td>\n",
       "      <td>0</td>\n",
       "      <td>0</td>\n",
       "      <td>0</td>\n",
       "      <td>0</td>\n",
       "      <td>0</td>\n",
       "      <td>...</td>\n",
       "      <td>0</td>\n",
       "      <td>0</td>\n",
       "      <td>0</td>\n",
       "      <td>0</td>\n",
       "      <td>0</td>\n",
       "      <td>0</td>\n",
       "      <td>0</td>\n",
       "      <td>0</td>\n",
       "      <td>0</td>\n",
       "      <td>0</td>\n",
       "    </tr>\n",
       "    <tr>\n",
       "      <th>2</th>\n",
       "      <td>2533.804993</td>\n",
       "      <td>0</td>\n",
       "      <td>0</td>\n",
       "      <td>0</td>\n",
       "      <td>0</td>\n",
       "      <td>0</td>\n",
       "      <td>0</td>\n",
       "      <td>0</td>\n",
       "      <td>0</td>\n",
       "      <td>0</td>\n",
       "      <td>...</td>\n",
       "      <td>0</td>\n",
       "      <td>0</td>\n",
       "      <td>0</td>\n",
       "      <td>0</td>\n",
       "      <td>0</td>\n",
       "      <td>0</td>\n",
       "      <td>0</td>\n",
       "      <td>0</td>\n",
       "      <td>0</td>\n",
       "      <td>0</td>\n",
       "    </tr>\n",
       "    <tr>\n",
       "      <th>3</th>\n",
       "      <td>2154.962997</td>\n",
       "      <td>0</td>\n",
       "      <td>0</td>\n",
       "      <td>0</td>\n",
       "      <td>0</td>\n",
       "      <td>0</td>\n",
       "      <td>0</td>\n",
       "      <td>0</td>\n",
       "      <td>0</td>\n",
       "      <td>0</td>\n",
       "      <td>...</td>\n",
       "      <td>1</td>\n",
       "      <td>0</td>\n",
       "      <td>0</td>\n",
       "      <td>0</td>\n",
       "      <td>0</td>\n",
       "      <td>0</td>\n",
       "      <td>0</td>\n",
       "      <td>0</td>\n",
       "      <td>0</td>\n",
       "      <td>0</td>\n",
       "    </tr>\n",
       "    <tr>\n",
       "      <th>4</th>\n",
       "      <td>1547.818996</td>\n",
       "      <td>0</td>\n",
       "      <td>1</td>\n",
       "      <td>0</td>\n",
       "      <td>0</td>\n",
       "      <td>0</td>\n",
       "      <td>0</td>\n",
       "      <td>0</td>\n",
       "      <td>0</td>\n",
       "      <td>0</td>\n",
       "      <td>...</td>\n",
       "      <td>0</td>\n",
       "      <td>0</td>\n",
       "      <td>0</td>\n",
       "      <td>0</td>\n",
       "      <td>0</td>\n",
       "      <td>0</td>\n",
       "      <td>0</td>\n",
       "      <td>0</td>\n",
       "      <td>0</td>\n",
       "      <td>0</td>\n",
       "    </tr>\n",
       "  </tbody>\n",
       "</table>\n",
       "<p>5 rows × 43 columns</p>\n",
       "</div>"
      ],
      "text/plain": [
       "         Sales  Quarter_Q1_86  Quarter_Q1_87  Quarter_Q1_88  Quarter_Q1_89  \\\n",
       "0  1734.827000              1              0              0              0   \n",
       "1  2244.960999              0              0              0              0   \n",
       "2  2533.804993              0              0              0              0   \n",
       "3  2154.962997              0              0              0              0   \n",
       "4  1547.818996              0              1              0              0   \n",
       "\n",
       "   Quarter_Q1_90  Quarter_Q1_91  Quarter_Q1_92  Quarter_Q1_93  Quarter_Q1_94  \\\n",
       "0              0              0              0              0              0   \n",
       "1              0              0              0              0              0   \n",
       "2              0              0              0              0              0   \n",
       "3              0              0              0              0              0   \n",
       "4              0              0              0              0              0   \n",
       "\n",
       "   ...  Quarter_Q4_86  Quarter_Q4_87  Quarter_Q4_88  Quarter_Q4_89  \\\n",
       "0  ...              0              0              0              0   \n",
       "1  ...              0              0              0              0   \n",
       "2  ...              0              0              0              0   \n",
       "3  ...              1              0              0              0   \n",
       "4  ...              0              0              0              0   \n",
       "\n",
       "   Quarter_Q4_90  Quarter_Q4_91  Quarter_Q4_92  Quarter_Q4_93  Quarter_Q4_94  \\\n",
       "0              0              0              0              0              0   \n",
       "1              0              0              0              0              0   \n",
       "2              0              0              0              0              0   \n",
       "3              0              0              0              0              0   \n",
       "4              0              0              0              0              0   \n",
       "\n",
       "   Quarter_Q4_95  \n",
       "0              0  \n",
       "1              0  \n",
       "2              0  \n",
       "3              0  \n",
       "4              0  \n",
       "\n",
       "[5 rows x 43 columns]"
      ]
     },
     "execution_count": 45,
     "metadata": {},
     "output_type": "execute_result"
    }
   ],
   "source": [
    "df.head()"
   ]
  },
  {
   "cell_type": "code",
   "execution_count": 46,
   "id": "e078a1ff",
   "metadata": {},
   "outputs": [],
   "source": [
    "df.columns = ['Sales','Q1','Q1','Q1','Q1','Q1','Q1','Q1','Q1','Q1','Q1','Q1','Q2','Q2','Q2','Q2','Q2','Q2','Q2','Q2','Q2','Q2','Q2','Q3','Q3','Q3','Q3','Q3','Q3','Q3','Q3','Q3','Q3','Q4','Q4','Q4','Q4','Q4','Q4','Q4','Q4','Q4','Q4']"
   ]
  },
  {
   "cell_type": "code",
   "execution_count": 47,
   "id": "8d845331",
   "metadata": {},
   "outputs": [
    {
     "data": {
      "text/html": [
       "<div>\n",
       "<style scoped>\n",
       "    .dataframe tbody tr th:only-of-type {\n",
       "        vertical-align: middle;\n",
       "    }\n",
       "\n",
       "    .dataframe tbody tr th {\n",
       "        vertical-align: top;\n",
       "    }\n",
       "\n",
       "    .dataframe thead th {\n",
       "        text-align: right;\n",
       "    }\n",
       "</style>\n",
       "<table border=\"1\" class=\"dataframe\">\n",
       "  <thead>\n",
       "    <tr style=\"text-align: right;\">\n",
       "      <th></th>\n",
       "      <th>Sales</th>\n",
       "      <th>Q1</th>\n",
       "      <th>Q1</th>\n",
       "      <th>Q1</th>\n",
       "      <th>Q1</th>\n",
       "      <th>Q1</th>\n",
       "      <th>Q1</th>\n",
       "      <th>Q1</th>\n",
       "      <th>Q1</th>\n",
       "      <th>Q1</th>\n",
       "      <th>...</th>\n",
       "      <th>Q4</th>\n",
       "      <th>Q4</th>\n",
       "      <th>Q4</th>\n",
       "      <th>Q4</th>\n",
       "      <th>Q4</th>\n",
       "      <th>Q4</th>\n",
       "      <th>Q4</th>\n",
       "      <th>Q4</th>\n",
       "      <th>Q4</th>\n",
       "      <th>Q4</th>\n",
       "    </tr>\n",
       "  </thead>\n",
       "  <tbody>\n",
       "    <tr>\n",
       "      <th>0</th>\n",
       "      <td>1734.827000</td>\n",
       "      <td>1</td>\n",
       "      <td>0</td>\n",
       "      <td>0</td>\n",
       "      <td>0</td>\n",
       "      <td>0</td>\n",
       "      <td>0</td>\n",
       "      <td>0</td>\n",
       "      <td>0</td>\n",
       "      <td>0</td>\n",
       "      <td>...</td>\n",
       "      <td>0</td>\n",
       "      <td>0</td>\n",
       "      <td>0</td>\n",
       "      <td>0</td>\n",
       "      <td>0</td>\n",
       "      <td>0</td>\n",
       "      <td>0</td>\n",
       "      <td>0</td>\n",
       "      <td>0</td>\n",
       "      <td>0</td>\n",
       "    </tr>\n",
       "    <tr>\n",
       "      <th>1</th>\n",
       "      <td>2244.960999</td>\n",
       "      <td>0</td>\n",
       "      <td>0</td>\n",
       "      <td>0</td>\n",
       "      <td>0</td>\n",
       "      <td>0</td>\n",
       "      <td>0</td>\n",
       "      <td>0</td>\n",
       "      <td>0</td>\n",
       "      <td>0</td>\n",
       "      <td>...</td>\n",
       "      <td>0</td>\n",
       "      <td>0</td>\n",
       "      <td>0</td>\n",
       "      <td>0</td>\n",
       "      <td>0</td>\n",
       "      <td>0</td>\n",
       "      <td>0</td>\n",
       "      <td>0</td>\n",
       "      <td>0</td>\n",
       "      <td>0</td>\n",
       "    </tr>\n",
       "    <tr>\n",
       "      <th>2</th>\n",
       "      <td>2533.804993</td>\n",
       "      <td>0</td>\n",
       "      <td>0</td>\n",
       "      <td>0</td>\n",
       "      <td>0</td>\n",
       "      <td>0</td>\n",
       "      <td>0</td>\n",
       "      <td>0</td>\n",
       "      <td>0</td>\n",
       "      <td>0</td>\n",
       "      <td>...</td>\n",
       "      <td>0</td>\n",
       "      <td>0</td>\n",
       "      <td>0</td>\n",
       "      <td>0</td>\n",
       "      <td>0</td>\n",
       "      <td>0</td>\n",
       "      <td>0</td>\n",
       "      <td>0</td>\n",
       "      <td>0</td>\n",
       "      <td>0</td>\n",
       "    </tr>\n",
       "    <tr>\n",
       "      <th>3</th>\n",
       "      <td>2154.962997</td>\n",
       "      <td>0</td>\n",
       "      <td>0</td>\n",
       "      <td>0</td>\n",
       "      <td>0</td>\n",
       "      <td>0</td>\n",
       "      <td>0</td>\n",
       "      <td>0</td>\n",
       "      <td>0</td>\n",
       "      <td>0</td>\n",
       "      <td>...</td>\n",
       "      <td>1</td>\n",
       "      <td>0</td>\n",
       "      <td>0</td>\n",
       "      <td>0</td>\n",
       "      <td>0</td>\n",
       "      <td>0</td>\n",
       "      <td>0</td>\n",
       "      <td>0</td>\n",
       "      <td>0</td>\n",
       "      <td>0</td>\n",
       "    </tr>\n",
       "    <tr>\n",
       "      <th>4</th>\n",
       "      <td>1547.818996</td>\n",
       "      <td>0</td>\n",
       "      <td>1</td>\n",
       "      <td>0</td>\n",
       "      <td>0</td>\n",
       "      <td>0</td>\n",
       "      <td>0</td>\n",
       "      <td>0</td>\n",
       "      <td>0</td>\n",
       "      <td>0</td>\n",
       "      <td>...</td>\n",
       "      <td>0</td>\n",
       "      <td>0</td>\n",
       "      <td>0</td>\n",
       "      <td>0</td>\n",
       "      <td>0</td>\n",
       "      <td>0</td>\n",
       "      <td>0</td>\n",
       "      <td>0</td>\n",
       "      <td>0</td>\n",
       "      <td>0</td>\n",
       "    </tr>\n",
       "  </tbody>\n",
       "</table>\n",
       "<p>5 rows × 43 columns</p>\n",
       "</div>"
      ],
      "text/plain": [
       "         Sales  Q1  Q1  Q1  Q1  Q1  Q1  Q1  Q1  Q1  ...  Q4  Q4  Q4  Q4  Q4  \\\n",
       "0  1734.827000   1   0   0   0   0   0   0   0   0  ...   0   0   0   0   0   \n",
       "1  2244.960999   0   0   0   0   0   0   0   0   0  ...   0   0   0   0   0   \n",
       "2  2533.804993   0   0   0   0   0   0   0   0   0  ...   0   0   0   0   0   \n",
       "3  2154.962997   0   0   0   0   0   0   0   0   0  ...   1   0   0   0   0   \n",
       "4  1547.818996   0   1   0   0   0   0   0   0   0  ...   0   0   0   0   0   \n",
       "\n",
       "   Q4  Q4  Q4  Q4  Q4  \n",
       "0   0   0   0   0   0  \n",
       "1   0   0   0   0   0  \n",
       "2   0   0   0   0   0  \n",
       "3   0   0   0   0   0  \n",
       "4   0   0   0   0   0  \n",
       "\n",
       "[5 rows x 43 columns]"
      ]
     },
     "execution_count": 47,
     "metadata": {},
     "output_type": "execute_result"
    }
   ],
   "source": [
    "df.head()"
   ]
  },
  {
   "cell_type": "code",
   "execution_count": 48,
   "id": "e390b220",
   "metadata": {},
   "outputs": [],
   "source": [
    "t=np.arange(1,43)"
   ]
  },
  {
   "cell_type": "code",
   "execution_count": 49,
   "id": "b8cfeb72",
   "metadata": {},
   "outputs": [],
   "source": [
    "df['t']=t"
   ]
  },
  {
   "cell_type": "code",
   "execution_count": 57,
   "id": "7aa8423d",
   "metadata": {},
   "outputs": [],
   "source": [
    "df['t_sq']=df['t']*df['t']"
   ]
  },
  {
   "cell_type": "code",
   "execution_count": 58,
   "id": "35101933",
   "metadata": {},
   "outputs": [],
   "source": [
    "log_sales=np.log(df['Sales'])\n",
    "df['log_sales']=log_sales"
   ]
  },
  {
   "cell_type": "code",
   "execution_count": 59,
   "id": "f46676b3",
   "metadata": {
    "scrolled": true
   },
   "outputs": [
    {
     "data": {
      "text/html": [
       "<div>\n",
       "<style scoped>\n",
       "    .dataframe tbody tr th:only-of-type {\n",
       "        vertical-align: middle;\n",
       "    }\n",
       "\n",
       "    .dataframe tbody tr th {\n",
       "        vertical-align: top;\n",
       "    }\n",
       "\n",
       "    .dataframe thead th {\n",
       "        text-align: right;\n",
       "    }\n",
       "</style>\n",
       "<table border=\"1\" class=\"dataframe\">\n",
       "  <thead>\n",
       "    <tr style=\"text-align: right;\">\n",
       "      <th></th>\n",
       "      <th>Sales</th>\n",
       "      <th>Q1</th>\n",
       "      <th>Q1</th>\n",
       "      <th>Q1</th>\n",
       "      <th>Q1</th>\n",
       "      <th>Q1</th>\n",
       "      <th>Q1</th>\n",
       "      <th>Q1</th>\n",
       "      <th>Q1</th>\n",
       "      <th>Q1</th>\n",
       "      <th>...</th>\n",
       "      <th>Q4</th>\n",
       "      <th>Q4</th>\n",
       "      <th>Q4</th>\n",
       "      <th>Q4</th>\n",
       "      <th>Q4</th>\n",
       "      <th>Q4</th>\n",
       "      <th>Q4</th>\n",
       "      <th>t</th>\n",
       "      <th>t_sq</th>\n",
       "      <th>log_sales</th>\n",
       "    </tr>\n",
       "  </thead>\n",
       "  <tbody>\n",
       "    <tr>\n",
       "      <th>0</th>\n",
       "      <td>1734.827000</td>\n",
       "      <td>1</td>\n",
       "      <td>0</td>\n",
       "      <td>0</td>\n",
       "      <td>0</td>\n",
       "      <td>0</td>\n",
       "      <td>0</td>\n",
       "      <td>0</td>\n",
       "      <td>0</td>\n",
       "      <td>0</td>\n",
       "      <td>...</td>\n",
       "      <td>0</td>\n",
       "      <td>0</td>\n",
       "      <td>0</td>\n",
       "      <td>0</td>\n",
       "      <td>0</td>\n",
       "      <td>0</td>\n",
       "      <td>0</td>\n",
       "      <td>1</td>\n",
       "      <td>1</td>\n",
       "      <td>7.458663</td>\n",
       "    </tr>\n",
       "    <tr>\n",
       "      <th>1</th>\n",
       "      <td>2244.960999</td>\n",
       "      <td>0</td>\n",
       "      <td>0</td>\n",
       "      <td>0</td>\n",
       "      <td>0</td>\n",
       "      <td>0</td>\n",
       "      <td>0</td>\n",
       "      <td>0</td>\n",
       "      <td>0</td>\n",
       "      <td>0</td>\n",
       "      <td>...</td>\n",
       "      <td>0</td>\n",
       "      <td>0</td>\n",
       "      <td>0</td>\n",
       "      <td>0</td>\n",
       "      <td>0</td>\n",
       "      <td>0</td>\n",
       "      <td>0</td>\n",
       "      <td>2</td>\n",
       "      <td>4</td>\n",
       "      <td>7.716443</td>\n",
       "    </tr>\n",
       "    <tr>\n",
       "      <th>2</th>\n",
       "      <td>2533.804993</td>\n",
       "      <td>0</td>\n",
       "      <td>0</td>\n",
       "      <td>0</td>\n",
       "      <td>0</td>\n",
       "      <td>0</td>\n",
       "      <td>0</td>\n",
       "      <td>0</td>\n",
       "      <td>0</td>\n",
       "      <td>0</td>\n",
       "      <td>...</td>\n",
       "      <td>0</td>\n",
       "      <td>0</td>\n",
       "      <td>0</td>\n",
       "      <td>0</td>\n",
       "      <td>0</td>\n",
       "      <td>0</td>\n",
       "      <td>0</td>\n",
       "      <td>3</td>\n",
       "      <td>9</td>\n",
       "      <td>7.837477</td>\n",
       "    </tr>\n",
       "    <tr>\n",
       "      <th>3</th>\n",
       "      <td>2154.962997</td>\n",
       "      <td>0</td>\n",
       "      <td>0</td>\n",
       "      <td>0</td>\n",
       "      <td>0</td>\n",
       "      <td>0</td>\n",
       "      <td>0</td>\n",
       "      <td>0</td>\n",
       "      <td>0</td>\n",
       "      <td>0</td>\n",
       "      <td>...</td>\n",
       "      <td>0</td>\n",
       "      <td>0</td>\n",
       "      <td>0</td>\n",
       "      <td>0</td>\n",
       "      <td>0</td>\n",
       "      <td>0</td>\n",
       "      <td>0</td>\n",
       "      <td>4</td>\n",
       "      <td>16</td>\n",
       "      <td>7.675529</td>\n",
       "    </tr>\n",
       "    <tr>\n",
       "      <th>4</th>\n",
       "      <td>1547.818996</td>\n",
       "      <td>0</td>\n",
       "      <td>1</td>\n",
       "      <td>0</td>\n",
       "      <td>0</td>\n",
       "      <td>0</td>\n",
       "      <td>0</td>\n",
       "      <td>0</td>\n",
       "      <td>0</td>\n",
       "      <td>0</td>\n",
       "      <td>...</td>\n",
       "      <td>0</td>\n",
       "      <td>0</td>\n",
       "      <td>0</td>\n",
       "      <td>0</td>\n",
       "      <td>0</td>\n",
       "      <td>0</td>\n",
       "      <td>0</td>\n",
       "      <td>5</td>\n",
       "      <td>25</td>\n",
       "      <td>7.344602</td>\n",
       "    </tr>\n",
       "    <tr>\n",
       "      <th>5</th>\n",
       "      <td>2104.411995</td>\n",
       "      <td>0</td>\n",
       "      <td>0</td>\n",
       "      <td>0</td>\n",
       "      <td>0</td>\n",
       "      <td>0</td>\n",
       "      <td>0</td>\n",
       "      <td>0</td>\n",
       "      <td>0</td>\n",
       "      <td>0</td>\n",
       "      <td>...</td>\n",
       "      <td>0</td>\n",
       "      <td>0</td>\n",
       "      <td>0</td>\n",
       "      <td>0</td>\n",
       "      <td>0</td>\n",
       "      <td>0</td>\n",
       "      <td>0</td>\n",
       "      <td>6</td>\n",
       "      <td>36</td>\n",
       "      <td>7.651791</td>\n",
       "    </tr>\n",
       "    <tr>\n",
       "      <th>6</th>\n",
       "      <td>2014.362999</td>\n",
       "      <td>0</td>\n",
       "      <td>0</td>\n",
       "      <td>0</td>\n",
       "      <td>0</td>\n",
       "      <td>0</td>\n",
       "      <td>0</td>\n",
       "      <td>0</td>\n",
       "      <td>0</td>\n",
       "      <td>0</td>\n",
       "      <td>...</td>\n",
       "      <td>0</td>\n",
       "      <td>0</td>\n",
       "      <td>0</td>\n",
       "      <td>0</td>\n",
       "      <td>0</td>\n",
       "      <td>0</td>\n",
       "      <td>0</td>\n",
       "      <td>7</td>\n",
       "      <td>49</td>\n",
       "      <td>7.608058</td>\n",
       "    </tr>\n",
       "    <tr>\n",
       "      <th>7</th>\n",
       "      <td>1991.746998</td>\n",
       "      <td>0</td>\n",
       "      <td>0</td>\n",
       "      <td>0</td>\n",
       "      <td>0</td>\n",
       "      <td>0</td>\n",
       "      <td>0</td>\n",
       "      <td>0</td>\n",
       "      <td>0</td>\n",
       "      <td>0</td>\n",
       "      <td>...</td>\n",
       "      <td>0</td>\n",
       "      <td>0</td>\n",
       "      <td>0</td>\n",
       "      <td>0</td>\n",
       "      <td>0</td>\n",
       "      <td>0</td>\n",
       "      <td>0</td>\n",
       "      <td>8</td>\n",
       "      <td>64</td>\n",
       "      <td>7.596767</td>\n",
       "    </tr>\n",
       "    <tr>\n",
       "      <th>8</th>\n",
       "      <td>1869.049999</td>\n",
       "      <td>0</td>\n",
       "      <td>0</td>\n",
       "      <td>1</td>\n",
       "      <td>0</td>\n",
       "      <td>0</td>\n",
       "      <td>0</td>\n",
       "      <td>0</td>\n",
       "      <td>0</td>\n",
       "      <td>0</td>\n",
       "      <td>...</td>\n",
       "      <td>0</td>\n",
       "      <td>0</td>\n",
       "      <td>0</td>\n",
       "      <td>0</td>\n",
       "      <td>0</td>\n",
       "      <td>0</td>\n",
       "      <td>0</td>\n",
       "      <td>9</td>\n",
       "      <td>81</td>\n",
       "      <td>7.533186</td>\n",
       "    </tr>\n",
       "    <tr>\n",
       "      <th>9</th>\n",
       "      <td>2313.631996</td>\n",
       "      <td>0</td>\n",
       "      <td>0</td>\n",
       "      <td>0</td>\n",
       "      <td>0</td>\n",
       "      <td>0</td>\n",
       "      <td>0</td>\n",
       "      <td>0</td>\n",
       "      <td>0</td>\n",
       "      <td>0</td>\n",
       "      <td>...</td>\n",
       "      <td>0</td>\n",
       "      <td>0</td>\n",
       "      <td>0</td>\n",
       "      <td>0</td>\n",
       "      <td>0</td>\n",
       "      <td>0</td>\n",
       "      <td>0</td>\n",
       "      <td>10</td>\n",
       "      <td>100</td>\n",
       "      <td>7.746574</td>\n",
       "    </tr>\n",
       "    <tr>\n",
       "      <th>10</th>\n",
       "      <td>2128.320000</td>\n",
       "      <td>0</td>\n",
       "      <td>0</td>\n",
       "      <td>0</td>\n",
       "      <td>0</td>\n",
       "      <td>0</td>\n",
       "      <td>0</td>\n",
       "      <td>0</td>\n",
       "      <td>0</td>\n",
       "      <td>0</td>\n",
       "      <td>...</td>\n",
       "      <td>0</td>\n",
       "      <td>0</td>\n",
       "      <td>0</td>\n",
       "      <td>0</td>\n",
       "      <td>0</td>\n",
       "      <td>0</td>\n",
       "      <td>0</td>\n",
       "      <td>11</td>\n",
       "      <td>121</td>\n",
       "      <td>7.663088</td>\n",
       "    </tr>\n",
       "    <tr>\n",
       "      <th>11</th>\n",
       "      <td>2026.828999</td>\n",
       "      <td>0</td>\n",
       "      <td>0</td>\n",
       "      <td>0</td>\n",
       "      <td>0</td>\n",
       "      <td>0</td>\n",
       "      <td>0</td>\n",
       "      <td>0</td>\n",
       "      <td>0</td>\n",
       "      <td>0</td>\n",
       "      <td>...</td>\n",
       "      <td>0</td>\n",
       "      <td>0</td>\n",
       "      <td>0</td>\n",
       "      <td>0</td>\n",
       "      <td>0</td>\n",
       "      <td>0</td>\n",
       "      <td>0</td>\n",
       "      <td>12</td>\n",
       "      <td>144</td>\n",
       "      <td>7.614228</td>\n",
       "    </tr>\n",
       "    <tr>\n",
       "      <th>12</th>\n",
       "      <td>1910.603996</td>\n",
       "      <td>0</td>\n",
       "      <td>0</td>\n",
       "      <td>0</td>\n",
       "      <td>1</td>\n",
       "      <td>0</td>\n",
       "      <td>0</td>\n",
       "      <td>0</td>\n",
       "      <td>0</td>\n",
       "      <td>0</td>\n",
       "      <td>...</td>\n",
       "      <td>0</td>\n",
       "      <td>0</td>\n",
       "      <td>0</td>\n",
       "      <td>0</td>\n",
       "      <td>0</td>\n",
       "      <td>0</td>\n",
       "      <td>0</td>\n",
       "      <td>13</td>\n",
       "      <td>169</td>\n",
       "      <td>7.555175</td>\n",
       "    </tr>\n",
       "    <tr>\n",
       "      <th>13</th>\n",
       "      <td>2331.164993</td>\n",
       "      <td>0</td>\n",
       "      <td>0</td>\n",
       "      <td>0</td>\n",
       "      <td>0</td>\n",
       "      <td>0</td>\n",
       "      <td>0</td>\n",
       "      <td>0</td>\n",
       "      <td>0</td>\n",
       "      <td>0</td>\n",
       "      <td>...</td>\n",
       "      <td>0</td>\n",
       "      <td>0</td>\n",
       "      <td>0</td>\n",
       "      <td>0</td>\n",
       "      <td>0</td>\n",
       "      <td>0</td>\n",
       "      <td>0</td>\n",
       "      <td>14</td>\n",
       "      <td>196</td>\n",
       "      <td>7.754123</td>\n",
       "    </tr>\n",
       "    <tr>\n",
       "      <th>14</th>\n",
       "      <td>2206.549995</td>\n",
       "      <td>0</td>\n",
       "      <td>0</td>\n",
       "      <td>0</td>\n",
       "      <td>0</td>\n",
       "      <td>0</td>\n",
       "      <td>0</td>\n",
       "      <td>0</td>\n",
       "      <td>0</td>\n",
       "      <td>0</td>\n",
       "      <td>...</td>\n",
       "      <td>0</td>\n",
       "      <td>0</td>\n",
       "      <td>0</td>\n",
       "      <td>0</td>\n",
       "      <td>0</td>\n",
       "      <td>0</td>\n",
       "      <td>0</td>\n",
       "      <td>15</td>\n",
       "      <td>225</td>\n",
       "      <td>7.699185</td>\n",
       "    </tr>\n",
       "    <tr>\n",
       "      <th>15</th>\n",
       "      <td>2173.967995</td>\n",
       "      <td>0</td>\n",
       "      <td>0</td>\n",
       "      <td>0</td>\n",
       "      <td>0</td>\n",
       "      <td>0</td>\n",
       "      <td>0</td>\n",
       "      <td>0</td>\n",
       "      <td>0</td>\n",
       "      <td>0</td>\n",
       "      <td>...</td>\n",
       "      <td>1</td>\n",
       "      <td>0</td>\n",
       "      <td>0</td>\n",
       "      <td>0</td>\n",
       "      <td>0</td>\n",
       "      <td>0</td>\n",
       "      <td>0</td>\n",
       "      <td>16</td>\n",
       "      <td>256</td>\n",
       "      <td>7.684309</td>\n",
       "    </tr>\n",
       "    <tr>\n",
       "      <th>16</th>\n",
       "      <td>2148.278000</td>\n",
       "      <td>0</td>\n",
       "      <td>0</td>\n",
       "      <td>0</td>\n",
       "      <td>0</td>\n",
       "      <td>1</td>\n",
       "      <td>0</td>\n",
       "      <td>0</td>\n",
       "      <td>0</td>\n",
       "      <td>0</td>\n",
       "      <td>...</td>\n",
       "      <td>0</td>\n",
       "      <td>0</td>\n",
       "      <td>0</td>\n",
       "      <td>0</td>\n",
       "      <td>0</td>\n",
       "      <td>0</td>\n",
       "      <td>0</td>\n",
       "      <td>17</td>\n",
       "      <td>289</td>\n",
       "      <td>7.672422</td>\n",
       "    </tr>\n",
       "    <tr>\n",
       "      <th>17</th>\n",
       "      <td>2739.307999</td>\n",
       "      <td>0</td>\n",
       "      <td>0</td>\n",
       "      <td>0</td>\n",
       "      <td>0</td>\n",
       "      <td>0</td>\n",
       "      <td>0</td>\n",
       "      <td>0</td>\n",
       "      <td>0</td>\n",
       "      <td>0</td>\n",
       "      <td>...</td>\n",
       "      <td>0</td>\n",
       "      <td>0</td>\n",
       "      <td>0</td>\n",
       "      <td>0</td>\n",
       "      <td>0</td>\n",
       "      <td>0</td>\n",
       "      <td>0</td>\n",
       "      <td>18</td>\n",
       "      <td>324</td>\n",
       "      <td>7.915461</td>\n",
       "    </tr>\n",
       "    <tr>\n",
       "      <th>18</th>\n",
       "      <td>2792.753998</td>\n",
       "      <td>0</td>\n",
       "      <td>0</td>\n",
       "      <td>0</td>\n",
       "      <td>0</td>\n",
       "      <td>0</td>\n",
       "      <td>0</td>\n",
       "      <td>0</td>\n",
       "      <td>0</td>\n",
       "      <td>0</td>\n",
       "      <td>...</td>\n",
       "      <td>0</td>\n",
       "      <td>0</td>\n",
       "      <td>0</td>\n",
       "      <td>0</td>\n",
       "      <td>0</td>\n",
       "      <td>0</td>\n",
       "      <td>0</td>\n",
       "      <td>19</td>\n",
       "      <td>361</td>\n",
       "      <td>7.934783</td>\n",
       "    </tr>\n",
       "    <tr>\n",
       "      <th>19</th>\n",
       "      <td>2556.009995</td>\n",
       "      <td>0</td>\n",
       "      <td>0</td>\n",
       "      <td>0</td>\n",
       "      <td>0</td>\n",
       "      <td>0</td>\n",
       "      <td>0</td>\n",
       "      <td>0</td>\n",
       "      <td>0</td>\n",
       "      <td>0</td>\n",
       "      <td>...</td>\n",
       "      <td>0</td>\n",
       "      <td>1</td>\n",
       "      <td>0</td>\n",
       "      <td>0</td>\n",
       "      <td>0</td>\n",
       "      <td>0</td>\n",
       "      <td>0</td>\n",
       "      <td>20</td>\n",
       "      <td>400</td>\n",
       "      <td>7.846203</td>\n",
       "    </tr>\n",
       "    <tr>\n",
       "      <th>20</th>\n",
       "      <td>2480.973999</td>\n",
       "      <td>0</td>\n",
       "      <td>0</td>\n",
       "      <td>0</td>\n",
       "      <td>0</td>\n",
       "      <td>0</td>\n",
       "      <td>1</td>\n",
       "      <td>0</td>\n",
       "      <td>0</td>\n",
       "      <td>0</td>\n",
       "      <td>...</td>\n",
       "      <td>0</td>\n",
       "      <td>0</td>\n",
       "      <td>0</td>\n",
       "      <td>0</td>\n",
       "      <td>0</td>\n",
       "      <td>0</td>\n",
       "      <td>0</td>\n",
       "      <td>21</td>\n",
       "      <td>441</td>\n",
       "      <td>7.816407</td>\n",
       "    </tr>\n",
       "    <tr>\n",
       "      <th>21</th>\n",
       "      <td>3039.522995</td>\n",
       "      <td>0</td>\n",
       "      <td>0</td>\n",
       "      <td>0</td>\n",
       "      <td>0</td>\n",
       "      <td>0</td>\n",
       "      <td>0</td>\n",
       "      <td>0</td>\n",
       "      <td>0</td>\n",
       "      <td>0</td>\n",
       "      <td>...</td>\n",
       "      <td>0</td>\n",
       "      <td>0</td>\n",
       "      <td>0</td>\n",
       "      <td>0</td>\n",
       "      <td>0</td>\n",
       "      <td>0</td>\n",
       "      <td>0</td>\n",
       "      <td>22</td>\n",
       "      <td>484</td>\n",
       "      <td>8.019456</td>\n",
       "    </tr>\n",
       "    <tr>\n",
       "      <th>22</th>\n",
       "      <td>3172.115997</td>\n",
       "      <td>0</td>\n",
       "      <td>0</td>\n",
       "      <td>0</td>\n",
       "      <td>0</td>\n",
       "      <td>0</td>\n",
       "      <td>0</td>\n",
       "      <td>0</td>\n",
       "      <td>0</td>\n",
       "      <td>0</td>\n",
       "      <td>...</td>\n",
       "      <td>0</td>\n",
       "      <td>0</td>\n",
       "      <td>0</td>\n",
       "      <td>0</td>\n",
       "      <td>0</td>\n",
       "      <td>0</td>\n",
       "      <td>0</td>\n",
       "      <td>23</td>\n",
       "      <td>529</td>\n",
       "      <td>8.062154</td>\n",
       "    </tr>\n",
       "    <tr>\n",
       "      <th>23</th>\n",
       "      <td>2879.000999</td>\n",
       "      <td>0</td>\n",
       "      <td>0</td>\n",
       "      <td>0</td>\n",
       "      <td>0</td>\n",
       "      <td>0</td>\n",
       "      <td>0</td>\n",
       "      <td>0</td>\n",
       "      <td>0</td>\n",
       "      <td>0</td>\n",
       "      <td>...</td>\n",
       "      <td>0</td>\n",
       "      <td>0</td>\n",
       "      <td>1</td>\n",
       "      <td>0</td>\n",
       "      <td>0</td>\n",
       "      <td>0</td>\n",
       "      <td>0</td>\n",
       "      <td>24</td>\n",
       "      <td>576</td>\n",
       "      <td>7.965199</td>\n",
       "    </tr>\n",
       "    <tr>\n",
       "      <th>24</th>\n",
       "      <td>2772.000000</td>\n",
       "      <td>0</td>\n",
       "      <td>0</td>\n",
       "      <td>0</td>\n",
       "      <td>0</td>\n",
       "      <td>0</td>\n",
       "      <td>0</td>\n",
       "      <td>1</td>\n",
       "      <td>0</td>\n",
       "      <td>0</td>\n",
       "      <td>...</td>\n",
       "      <td>0</td>\n",
       "      <td>0</td>\n",
       "      <td>0</td>\n",
       "      <td>0</td>\n",
       "      <td>0</td>\n",
       "      <td>0</td>\n",
       "      <td>0</td>\n",
       "      <td>25</td>\n",
       "      <td>625</td>\n",
       "      <td>7.927324</td>\n",
       "    </tr>\n",
       "    <tr>\n",
       "      <th>25</th>\n",
       "      <td>3550.000000</td>\n",
       "      <td>0</td>\n",
       "      <td>0</td>\n",
       "      <td>0</td>\n",
       "      <td>0</td>\n",
       "      <td>0</td>\n",
       "      <td>0</td>\n",
       "      <td>0</td>\n",
       "      <td>0</td>\n",
       "      <td>0</td>\n",
       "      <td>...</td>\n",
       "      <td>0</td>\n",
       "      <td>0</td>\n",
       "      <td>0</td>\n",
       "      <td>0</td>\n",
       "      <td>0</td>\n",
       "      <td>0</td>\n",
       "      <td>0</td>\n",
       "      <td>26</td>\n",
       "      <td>676</td>\n",
       "      <td>8.174703</td>\n",
       "    </tr>\n",
       "    <tr>\n",
       "      <th>26</th>\n",
       "      <td>3508.000000</td>\n",
       "      <td>0</td>\n",
       "      <td>0</td>\n",
       "      <td>0</td>\n",
       "      <td>0</td>\n",
       "      <td>0</td>\n",
       "      <td>0</td>\n",
       "      <td>0</td>\n",
       "      <td>0</td>\n",
       "      <td>0</td>\n",
       "      <td>...</td>\n",
       "      <td>0</td>\n",
       "      <td>0</td>\n",
       "      <td>0</td>\n",
       "      <td>0</td>\n",
       "      <td>0</td>\n",
       "      <td>0</td>\n",
       "      <td>0</td>\n",
       "      <td>27</td>\n",
       "      <td>729</td>\n",
       "      <td>8.162801</td>\n",
       "    </tr>\n",
       "    <tr>\n",
       "      <th>27</th>\n",
       "      <td>3243.859993</td>\n",
       "      <td>0</td>\n",
       "      <td>0</td>\n",
       "      <td>0</td>\n",
       "      <td>0</td>\n",
       "      <td>0</td>\n",
       "      <td>0</td>\n",
       "      <td>0</td>\n",
       "      <td>0</td>\n",
       "      <td>0</td>\n",
       "      <td>...</td>\n",
       "      <td>0</td>\n",
       "      <td>0</td>\n",
       "      <td>0</td>\n",
       "      <td>1</td>\n",
       "      <td>0</td>\n",
       "      <td>0</td>\n",
       "      <td>0</td>\n",
       "      <td>28</td>\n",
       "      <td>784</td>\n",
       "      <td>8.084519</td>\n",
       "    </tr>\n",
       "    <tr>\n",
       "      <th>28</th>\n",
       "      <td>3056.000000</td>\n",
       "      <td>0</td>\n",
       "      <td>0</td>\n",
       "      <td>0</td>\n",
       "      <td>0</td>\n",
       "      <td>0</td>\n",
       "      <td>0</td>\n",
       "      <td>0</td>\n",
       "      <td>1</td>\n",
       "      <td>0</td>\n",
       "      <td>...</td>\n",
       "      <td>0</td>\n",
       "      <td>0</td>\n",
       "      <td>0</td>\n",
       "      <td>0</td>\n",
       "      <td>0</td>\n",
       "      <td>0</td>\n",
       "      <td>0</td>\n",
       "      <td>29</td>\n",
       "      <td>841</td>\n",
       "      <td>8.024862</td>\n",
       "    </tr>\n",
       "    <tr>\n",
       "      <th>29</th>\n",
       "      <td>3899.000000</td>\n",
       "      <td>0</td>\n",
       "      <td>0</td>\n",
       "      <td>0</td>\n",
       "      <td>0</td>\n",
       "      <td>0</td>\n",
       "      <td>0</td>\n",
       "      <td>0</td>\n",
       "      <td>0</td>\n",
       "      <td>0</td>\n",
       "      <td>...</td>\n",
       "      <td>0</td>\n",
       "      <td>0</td>\n",
       "      <td>0</td>\n",
       "      <td>0</td>\n",
       "      <td>0</td>\n",
       "      <td>0</td>\n",
       "      <td>0</td>\n",
       "      <td>30</td>\n",
       "      <td>900</td>\n",
       "      <td>8.268475</td>\n",
       "    </tr>\n",
       "    <tr>\n",
       "      <th>30</th>\n",
       "      <td>3629.000000</td>\n",
       "      <td>0</td>\n",
       "      <td>0</td>\n",
       "      <td>0</td>\n",
       "      <td>0</td>\n",
       "      <td>0</td>\n",
       "      <td>0</td>\n",
       "      <td>0</td>\n",
       "      <td>0</td>\n",
       "      <td>0</td>\n",
       "      <td>...</td>\n",
       "      <td>0</td>\n",
       "      <td>0</td>\n",
       "      <td>0</td>\n",
       "      <td>0</td>\n",
       "      <td>0</td>\n",
       "      <td>0</td>\n",
       "      <td>0</td>\n",
       "      <td>31</td>\n",
       "      <td>961</td>\n",
       "      <td>8.196712</td>\n",
       "    </tr>\n",
       "    <tr>\n",
       "      <th>31</th>\n",
       "      <td>3373.000000</td>\n",
       "      <td>0</td>\n",
       "      <td>0</td>\n",
       "      <td>0</td>\n",
       "      <td>0</td>\n",
       "      <td>0</td>\n",
       "      <td>0</td>\n",
       "      <td>0</td>\n",
       "      <td>0</td>\n",
       "      <td>0</td>\n",
       "      <td>...</td>\n",
       "      <td>0</td>\n",
       "      <td>0</td>\n",
       "      <td>0</td>\n",
       "      <td>0</td>\n",
       "      <td>1</td>\n",
       "      <td>0</td>\n",
       "      <td>0</td>\n",
       "      <td>32</td>\n",
       "      <td>1024</td>\n",
       "      <td>8.123558</td>\n",
       "    </tr>\n",
       "    <tr>\n",
       "      <th>32</th>\n",
       "      <td>3352.000000</td>\n",
       "      <td>0</td>\n",
       "      <td>0</td>\n",
       "      <td>0</td>\n",
       "      <td>0</td>\n",
       "      <td>0</td>\n",
       "      <td>0</td>\n",
       "      <td>0</td>\n",
       "      <td>0</td>\n",
       "      <td>1</td>\n",
       "      <td>...</td>\n",
       "      <td>0</td>\n",
       "      <td>0</td>\n",
       "      <td>0</td>\n",
       "      <td>0</td>\n",
       "      <td>0</td>\n",
       "      <td>0</td>\n",
       "      <td>0</td>\n",
       "      <td>33</td>\n",
       "      <td>1089</td>\n",
       "      <td>8.117312</td>\n",
       "    </tr>\n",
       "    <tr>\n",
       "      <th>33</th>\n",
       "      <td>4342.000000</td>\n",
       "      <td>0</td>\n",
       "      <td>0</td>\n",
       "      <td>0</td>\n",
       "      <td>0</td>\n",
       "      <td>0</td>\n",
       "      <td>0</td>\n",
       "      <td>0</td>\n",
       "      <td>0</td>\n",
       "      <td>0</td>\n",
       "      <td>...</td>\n",
       "      <td>0</td>\n",
       "      <td>0</td>\n",
       "      <td>0</td>\n",
       "      <td>0</td>\n",
       "      <td>0</td>\n",
       "      <td>0</td>\n",
       "      <td>0</td>\n",
       "      <td>34</td>\n",
       "      <td>1156</td>\n",
       "      <td>8.376090</td>\n",
       "    </tr>\n",
       "    <tr>\n",
       "      <th>34</th>\n",
       "      <td>4461.000000</td>\n",
       "      <td>0</td>\n",
       "      <td>0</td>\n",
       "      <td>0</td>\n",
       "      <td>0</td>\n",
       "      <td>0</td>\n",
       "      <td>0</td>\n",
       "      <td>0</td>\n",
       "      <td>0</td>\n",
       "      <td>0</td>\n",
       "      <td>...</td>\n",
       "      <td>0</td>\n",
       "      <td>0</td>\n",
       "      <td>0</td>\n",
       "      <td>0</td>\n",
       "      <td>0</td>\n",
       "      <td>0</td>\n",
       "      <td>0</td>\n",
       "      <td>35</td>\n",
       "      <td>1225</td>\n",
       "      <td>8.403128</td>\n",
       "    </tr>\n",
       "    <tr>\n",
       "      <th>35</th>\n",
       "      <td>4017.000000</td>\n",
       "      <td>0</td>\n",
       "      <td>0</td>\n",
       "      <td>0</td>\n",
       "      <td>0</td>\n",
       "      <td>0</td>\n",
       "      <td>0</td>\n",
       "      <td>0</td>\n",
       "      <td>0</td>\n",
       "      <td>0</td>\n",
       "      <td>...</td>\n",
       "      <td>0</td>\n",
       "      <td>0</td>\n",
       "      <td>0</td>\n",
       "      <td>0</td>\n",
       "      <td>0</td>\n",
       "      <td>1</td>\n",
       "      <td>0</td>\n",
       "      <td>36</td>\n",
       "      <td>1296</td>\n",
       "      <td>8.298291</td>\n",
       "    </tr>\n",
       "    <tr>\n",
       "      <th>36</th>\n",
       "      <td>3854.000000</td>\n",
       "      <td>0</td>\n",
       "      <td>0</td>\n",
       "      <td>0</td>\n",
       "      <td>0</td>\n",
       "      <td>0</td>\n",
       "      <td>0</td>\n",
       "      <td>0</td>\n",
       "      <td>0</td>\n",
       "      <td>0</td>\n",
       "      <td>...</td>\n",
       "      <td>0</td>\n",
       "      <td>0</td>\n",
       "      <td>0</td>\n",
       "      <td>0</td>\n",
       "      <td>0</td>\n",
       "      <td>0</td>\n",
       "      <td>0</td>\n",
       "      <td>37</td>\n",
       "      <td>1369</td>\n",
       "      <td>8.256867</td>\n",
       "    </tr>\n",
       "    <tr>\n",
       "      <th>37</th>\n",
       "      <td>4936.000000</td>\n",
       "      <td>0</td>\n",
       "      <td>0</td>\n",
       "      <td>0</td>\n",
       "      <td>0</td>\n",
       "      <td>0</td>\n",
       "      <td>0</td>\n",
       "      <td>0</td>\n",
       "      <td>0</td>\n",
       "      <td>0</td>\n",
       "      <td>...</td>\n",
       "      <td>0</td>\n",
       "      <td>0</td>\n",
       "      <td>0</td>\n",
       "      <td>0</td>\n",
       "      <td>0</td>\n",
       "      <td>0</td>\n",
       "      <td>0</td>\n",
       "      <td>38</td>\n",
       "      <td>1444</td>\n",
       "      <td>8.504311</td>\n",
       "    </tr>\n",
       "    <tr>\n",
       "      <th>38</th>\n",
       "      <td>4895.000000</td>\n",
       "      <td>0</td>\n",
       "      <td>0</td>\n",
       "      <td>0</td>\n",
       "      <td>0</td>\n",
       "      <td>0</td>\n",
       "      <td>0</td>\n",
       "      <td>0</td>\n",
       "      <td>0</td>\n",
       "      <td>0</td>\n",
       "      <td>...</td>\n",
       "      <td>0</td>\n",
       "      <td>0</td>\n",
       "      <td>0</td>\n",
       "      <td>0</td>\n",
       "      <td>0</td>\n",
       "      <td>0</td>\n",
       "      <td>0</td>\n",
       "      <td>39</td>\n",
       "      <td>1521</td>\n",
       "      <td>8.495970</td>\n",
       "    </tr>\n",
       "    <tr>\n",
       "      <th>39</th>\n",
       "      <td>4333.000000</td>\n",
       "      <td>0</td>\n",
       "      <td>0</td>\n",
       "      <td>0</td>\n",
       "      <td>0</td>\n",
       "      <td>0</td>\n",
       "      <td>0</td>\n",
       "      <td>0</td>\n",
       "      <td>0</td>\n",
       "      <td>0</td>\n",
       "      <td>...</td>\n",
       "      <td>0</td>\n",
       "      <td>0</td>\n",
       "      <td>0</td>\n",
       "      <td>0</td>\n",
       "      <td>0</td>\n",
       "      <td>0</td>\n",
       "      <td>1</td>\n",
       "      <td>40</td>\n",
       "      <td>1600</td>\n",
       "      <td>8.374015</td>\n",
       "    </tr>\n",
       "    <tr>\n",
       "      <th>40</th>\n",
       "      <td>4194.000000</td>\n",
       "      <td>0</td>\n",
       "      <td>0</td>\n",
       "      <td>0</td>\n",
       "      <td>0</td>\n",
       "      <td>0</td>\n",
       "      <td>0</td>\n",
       "      <td>0</td>\n",
       "      <td>0</td>\n",
       "      <td>0</td>\n",
       "      <td>...</td>\n",
       "      <td>0</td>\n",
       "      <td>0</td>\n",
       "      <td>0</td>\n",
       "      <td>0</td>\n",
       "      <td>0</td>\n",
       "      <td>0</td>\n",
       "      <td>0</td>\n",
       "      <td>41</td>\n",
       "      <td>1681</td>\n",
       "      <td>8.341410</td>\n",
       "    </tr>\n",
       "    <tr>\n",
       "      <th>41</th>\n",
       "      <td>5253.000000</td>\n",
       "      <td>0</td>\n",
       "      <td>0</td>\n",
       "      <td>0</td>\n",
       "      <td>0</td>\n",
       "      <td>0</td>\n",
       "      <td>0</td>\n",
       "      <td>0</td>\n",
       "      <td>0</td>\n",
       "      <td>0</td>\n",
       "      <td>...</td>\n",
       "      <td>0</td>\n",
       "      <td>0</td>\n",
       "      <td>0</td>\n",
       "      <td>0</td>\n",
       "      <td>0</td>\n",
       "      <td>0</td>\n",
       "      <td>0</td>\n",
       "      <td>42</td>\n",
       "      <td>1764</td>\n",
       "      <td>8.566555</td>\n",
       "    </tr>\n",
       "  </tbody>\n",
       "</table>\n",
       "<p>42 rows × 46 columns</p>\n",
       "</div>"
      ],
      "text/plain": [
       "          Sales  Q1  Q1  Q1  Q1  Q1  Q1  Q1  Q1  Q1  ...  Q4  Q4  Q4  Q4  Q4  \\\n",
       "0   1734.827000   1   0   0   0   0   0   0   0   0  ...   0   0   0   0   0   \n",
       "1   2244.960999   0   0   0   0   0   0   0   0   0  ...   0   0   0   0   0   \n",
       "2   2533.804993   0   0   0   0   0   0   0   0   0  ...   0   0   0   0   0   \n",
       "3   2154.962997   0   0   0   0   0   0   0   0   0  ...   0   0   0   0   0   \n",
       "4   1547.818996   0   1   0   0   0   0   0   0   0  ...   0   0   0   0   0   \n",
       "5   2104.411995   0   0   0   0   0   0   0   0   0  ...   0   0   0   0   0   \n",
       "6   2014.362999   0   0   0   0   0   0   0   0   0  ...   0   0   0   0   0   \n",
       "7   1991.746998   0   0   0   0   0   0   0   0   0  ...   0   0   0   0   0   \n",
       "8   1869.049999   0   0   1   0   0   0   0   0   0  ...   0   0   0   0   0   \n",
       "9   2313.631996   0   0   0   0   0   0   0   0   0  ...   0   0   0   0   0   \n",
       "10  2128.320000   0   0   0   0   0   0   0   0   0  ...   0   0   0   0   0   \n",
       "11  2026.828999   0   0   0   0   0   0   0   0   0  ...   0   0   0   0   0   \n",
       "12  1910.603996   0   0   0   1   0   0   0   0   0  ...   0   0   0   0   0   \n",
       "13  2331.164993   0   0   0   0   0   0   0   0   0  ...   0   0   0   0   0   \n",
       "14  2206.549995   0   0   0   0   0   0   0   0   0  ...   0   0   0   0   0   \n",
       "15  2173.967995   0   0   0   0   0   0   0   0   0  ...   1   0   0   0   0   \n",
       "16  2148.278000   0   0   0   0   1   0   0   0   0  ...   0   0   0   0   0   \n",
       "17  2739.307999   0   0   0   0   0   0   0   0   0  ...   0   0   0   0   0   \n",
       "18  2792.753998   0   0   0   0   0   0   0   0   0  ...   0   0   0   0   0   \n",
       "19  2556.009995   0   0   0   0   0   0   0   0   0  ...   0   1   0   0   0   \n",
       "20  2480.973999   0   0   0   0   0   1   0   0   0  ...   0   0   0   0   0   \n",
       "21  3039.522995   0   0   0   0   0   0   0   0   0  ...   0   0   0   0   0   \n",
       "22  3172.115997   0   0   0   0   0   0   0   0   0  ...   0   0   0   0   0   \n",
       "23  2879.000999   0   0   0   0   0   0   0   0   0  ...   0   0   1   0   0   \n",
       "24  2772.000000   0   0   0   0   0   0   1   0   0  ...   0   0   0   0   0   \n",
       "25  3550.000000   0   0   0   0   0   0   0   0   0  ...   0   0   0   0   0   \n",
       "26  3508.000000   0   0   0   0   0   0   0   0   0  ...   0   0   0   0   0   \n",
       "27  3243.859993   0   0   0   0   0   0   0   0   0  ...   0   0   0   1   0   \n",
       "28  3056.000000   0   0   0   0   0   0   0   1   0  ...   0   0   0   0   0   \n",
       "29  3899.000000   0   0   0   0   0   0   0   0   0  ...   0   0   0   0   0   \n",
       "30  3629.000000   0   0   0   0   0   0   0   0   0  ...   0   0   0   0   0   \n",
       "31  3373.000000   0   0   0   0   0   0   0   0   0  ...   0   0   0   0   1   \n",
       "32  3352.000000   0   0   0   0   0   0   0   0   1  ...   0   0   0   0   0   \n",
       "33  4342.000000   0   0   0   0   0   0   0   0   0  ...   0   0   0   0   0   \n",
       "34  4461.000000   0   0   0   0   0   0   0   0   0  ...   0   0   0   0   0   \n",
       "35  4017.000000   0   0   0   0   0   0   0   0   0  ...   0   0   0   0   0   \n",
       "36  3854.000000   0   0   0   0   0   0   0   0   0  ...   0   0   0   0   0   \n",
       "37  4936.000000   0   0   0   0   0   0   0   0   0  ...   0   0   0   0   0   \n",
       "38  4895.000000   0   0   0   0   0   0   0   0   0  ...   0   0   0   0   0   \n",
       "39  4333.000000   0   0   0   0   0   0   0   0   0  ...   0   0   0   0   0   \n",
       "40  4194.000000   0   0   0   0   0   0   0   0   0  ...   0   0   0   0   0   \n",
       "41  5253.000000   0   0   0   0   0   0   0   0   0  ...   0   0   0   0   0   \n",
       "\n",
       "    Q4  Q4   t  t_sq  log_sales  \n",
       "0    0   0   1     1   7.458663  \n",
       "1    0   0   2     4   7.716443  \n",
       "2    0   0   3     9   7.837477  \n",
       "3    0   0   4    16   7.675529  \n",
       "4    0   0   5    25   7.344602  \n",
       "5    0   0   6    36   7.651791  \n",
       "6    0   0   7    49   7.608058  \n",
       "7    0   0   8    64   7.596767  \n",
       "8    0   0   9    81   7.533186  \n",
       "9    0   0  10   100   7.746574  \n",
       "10   0   0  11   121   7.663088  \n",
       "11   0   0  12   144   7.614228  \n",
       "12   0   0  13   169   7.555175  \n",
       "13   0   0  14   196   7.754123  \n",
       "14   0   0  15   225   7.699185  \n",
       "15   0   0  16   256   7.684309  \n",
       "16   0   0  17   289   7.672422  \n",
       "17   0   0  18   324   7.915461  \n",
       "18   0   0  19   361   7.934783  \n",
       "19   0   0  20   400   7.846203  \n",
       "20   0   0  21   441   7.816407  \n",
       "21   0   0  22   484   8.019456  \n",
       "22   0   0  23   529   8.062154  \n",
       "23   0   0  24   576   7.965199  \n",
       "24   0   0  25   625   7.927324  \n",
       "25   0   0  26   676   8.174703  \n",
       "26   0   0  27   729   8.162801  \n",
       "27   0   0  28   784   8.084519  \n",
       "28   0   0  29   841   8.024862  \n",
       "29   0   0  30   900   8.268475  \n",
       "30   0   0  31   961   8.196712  \n",
       "31   0   0  32  1024   8.123558  \n",
       "32   0   0  33  1089   8.117312  \n",
       "33   0   0  34  1156   8.376090  \n",
       "34   0   0  35  1225   8.403128  \n",
       "35   1   0  36  1296   8.298291  \n",
       "36   0   0  37  1369   8.256867  \n",
       "37   0   0  38  1444   8.504311  \n",
       "38   0   0  39  1521   8.495970  \n",
       "39   0   1  40  1600   8.374015  \n",
       "40   0   0  41  1681   8.341410  \n",
       "41   0   0  42  1764   8.566555  \n",
       "\n",
       "[42 rows x 46 columns]"
      ]
     },
     "execution_count": 59,
     "metadata": {},
     "output_type": "execute_result"
    }
   ],
   "source": [
    "df.head(43)"
   ]
  },
  {
   "cell_type": "code",
   "execution_count": 60,
   "id": "49e602f9",
   "metadata": {},
   "outputs": [],
   "source": [
    "# split the dataset into train and test with last 12 months in the test dataset\n",
    "train=df.iloc[:len(df)-4]\n",
    "test=df.iloc[len(df)-4:]"
   ]
  },
  {
   "cell_type": "code",
   "execution_count": 61,
   "id": "bb94853b",
   "metadata": {},
   "outputs": [
    {
     "data": {
      "text/html": [
       "<div>\n",
       "<style scoped>\n",
       "    .dataframe tbody tr th:only-of-type {\n",
       "        vertical-align: middle;\n",
       "    }\n",
       "\n",
       "    .dataframe tbody tr th {\n",
       "        vertical-align: top;\n",
       "    }\n",
       "\n",
       "    .dataframe thead th {\n",
       "        text-align: right;\n",
       "    }\n",
       "</style>\n",
       "<table border=\"1\" class=\"dataframe\">\n",
       "  <thead>\n",
       "    <tr style=\"text-align: right;\">\n",
       "      <th></th>\n",
       "      <th>Sales</th>\n",
       "      <th>Q1</th>\n",
       "      <th>Q1</th>\n",
       "      <th>Q1</th>\n",
       "      <th>Q1</th>\n",
       "      <th>Q1</th>\n",
       "      <th>Q1</th>\n",
       "      <th>Q1</th>\n",
       "      <th>Q1</th>\n",
       "      <th>Q1</th>\n",
       "      <th>...</th>\n",
       "      <th>Q4</th>\n",
       "      <th>Q4</th>\n",
       "      <th>Q4</th>\n",
       "      <th>Q4</th>\n",
       "      <th>Q4</th>\n",
       "      <th>Q4</th>\n",
       "      <th>Q4</th>\n",
       "      <th>t</th>\n",
       "      <th>t_sq</th>\n",
       "      <th>log_sales</th>\n",
       "    </tr>\n",
       "  </thead>\n",
       "  <tbody>\n",
       "    <tr>\n",
       "      <th>38</th>\n",
       "      <td>4895.0</td>\n",
       "      <td>0</td>\n",
       "      <td>0</td>\n",
       "      <td>0</td>\n",
       "      <td>0</td>\n",
       "      <td>0</td>\n",
       "      <td>0</td>\n",
       "      <td>0</td>\n",
       "      <td>0</td>\n",
       "      <td>0</td>\n",
       "      <td>...</td>\n",
       "      <td>0</td>\n",
       "      <td>0</td>\n",
       "      <td>0</td>\n",
       "      <td>0</td>\n",
       "      <td>0</td>\n",
       "      <td>0</td>\n",
       "      <td>0</td>\n",
       "      <td>39</td>\n",
       "      <td>1521</td>\n",
       "      <td>8.495970</td>\n",
       "    </tr>\n",
       "    <tr>\n",
       "      <th>39</th>\n",
       "      <td>4333.0</td>\n",
       "      <td>0</td>\n",
       "      <td>0</td>\n",
       "      <td>0</td>\n",
       "      <td>0</td>\n",
       "      <td>0</td>\n",
       "      <td>0</td>\n",
       "      <td>0</td>\n",
       "      <td>0</td>\n",
       "      <td>0</td>\n",
       "      <td>...</td>\n",
       "      <td>0</td>\n",
       "      <td>0</td>\n",
       "      <td>0</td>\n",
       "      <td>0</td>\n",
       "      <td>0</td>\n",
       "      <td>0</td>\n",
       "      <td>1</td>\n",
       "      <td>40</td>\n",
       "      <td>1600</td>\n",
       "      <td>8.374015</td>\n",
       "    </tr>\n",
       "    <tr>\n",
       "      <th>40</th>\n",
       "      <td>4194.0</td>\n",
       "      <td>0</td>\n",
       "      <td>0</td>\n",
       "      <td>0</td>\n",
       "      <td>0</td>\n",
       "      <td>0</td>\n",
       "      <td>0</td>\n",
       "      <td>0</td>\n",
       "      <td>0</td>\n",
       "      <td>0</td>\n",
       "      <td>...</td>\n",
       "      <td>0</td>\n",
       "      <td>0</td>\n",
       "      <td>0</td>\n",
       "      <td>0</td>\n",
       "      <td>0</td>\n",
       "      <td>0</td>\n",
       "      <td>0</td>\n",
       "      <td>41</td>\n",
       "      <td>1681</td>\n",
       "      <td>8.341410</td>\n",
       "    </tr>\n",
       "    <tr>\n",
       "      <th>41</th>\n",
       "      <td>5253.0</td>\n",
       "      <td>0</td>\n",
       "      <td>0</td>\n",
       "      <td>0</td>\n",
       "      <td>0</td>\n",
       "      <td>0</td>\n",
       "      <td>0</td>\n",
       "      <td>0</td>\n",
       "      <td>0</td>\n",
       "      <td>0</td>\n",
       "      <td>...</td>\n",
       "      <td>0</td>\n",
       "      <td>0</td>\n",
       "      <td>0</td>\n",
       "      <td>0</td>\n",
       "      <td>0</td>\n",
       "      <td>0</td>\n",
       "      <td>0</td>\n",
       "      <td>42</td>\n",
       "      <td>1764</td>\n",
       "      <td>8.566555</td>\n",
       "    </tr>\n",
       "  </tbody>\n",
       "</table>\n",
       "<p>4 rows × 46 columns</p>\n",
       "</div>"
      ],
      "text/plain": [
       "     Sales  Q1  Q1  Q1  Q1  Q1  Q1  Q1  Q1  Q1  ...  Q4  Q4  Q4  Q4  Q4  Q4  \\\n",
       "38  4895.0   0   0   0   0   0   0   0   0   0  ...   0   0   0   0   0   0   \n",
       "39  4333.0   0   0   0   0   0   0   0   0   0  ...   0   0   0   0   0   0   \n",
       "40  4194.0   0   0   0   0   0   0   0   0   0  ...   0   0   0   0   0   0   \n",
       "41  5253.0   0   0   0   0   0   0   0   0   0  ...   0   0   0   0   0   0   \n",
       "\n",
       "    Q4   t  t_sq  log_sales  \n",
       "38   0  39  1521   8.495970  \n",
       "39   1  40  1600   8.374015  \n",
       "40   0  41  1681   8.341410  \n",
       "41   0  42  1764   8.566555  \n",
       "\n",
       "[4 rows x 46 columns]"
      ]
     },
     "execution_count": 61,
     "metadata": {},
     "output_type": "execute_result"
    }
   ],
   "source": [
    "test.head()"
   ]
  },
  {
   "cell_type": "markdown",
   "id": "090e041b",
   "metadata": {},
   "source": [
    "## Forecasting Models"
   ]
  },
  {
   "cell_type": "markdown",
   "id": "d1995a9d",
   "metadata": {},
   "source": [
    "### 1.Linear Regression"
   ]
  },
  {
   "cell_type": "code",
   "execution_count": 62,
   "id": "6f40c04b",
   "metadata": {},
   "outputs": [],
   "source": [
    "from statsmodels.formula.api import ols\n",
    "from statsmodels.tools.eval_measures import rmse"
   ]
  },
  {
   "cell_type": "code",
   "execution_count": 63,
   "id": "32045ee3",
   "metadata": {},
   "outputs": [],
   "source": [
    "# fit the linear model on the train dataset with sales as the target variable and t as the feature\n",
    "model=ols('Sales~t',data=train).fit()"
   ]
  },
  {
   "cell_type": "code",
   "execution_count": 64,
   "id": "8f40b1b9",
   "metadata": {},
   "outputs": [
    {
     "name": "stdout",
     "output_type": "stream",
     "text": [
      "RMSE of Linear Model: 591.5532957485534\n"
     ]
    }
   ],
   "source": [
    "# predict the sales on the test dataset $ compute the RMSE\n",
    "pred=model.predict(test['t'])\n",
    "rmse_lin=rmse(test['Sales'],pred)\n",
    "print('RMSE of Linear Model:',rmse_lin)"
   ]
  },
  {
   "cell_type": "code",
   "execution_count": 65,
   "id": "f0bb0e23",
   "metadata": {},
   "outputs": [
    {
     "data": {
      "text/plain": [
       "12.67048558497571"
      ]
     },
     "execution_count": 65,
     "metadata": {},
     "output_type": "execute_result"
    }
   ],
   "source": [
    "rmse_lin*100/np.mean(test['Sales'])"
   ]
  },
  {
   "cell_type": "markdown",
   "id": "4042e357",
   "metadata": {},
   "source": [
    "### 2. Exponential Model"
   ]
  },
  {
   "cell_type": "code",
   "execution_count": 66,
   "id": "7c487c2f",
   "metadata": {},
   "outputs": [],
   "source": [
    "model=ols('log_sales~t',data=train).fit()"
   ]
  },
  {
   "cell_type": "code",
   "execution_count": 67,
   "id": "be303720",
   "metadata": {},
   "outputs": [
    {
     "name": "stdout",
     "output_type": "stream",
     "text": [
      "RMSE of Exponential Model: 466.247973132103\n"
     ]
    }
   ],
   "source": [
    "# predict the log_sales on the test dataset & compute the RMSE\n",
    "pred=model.predict(test['t'])\n",
    "rmse_log=rmse(test['Sales'],np.exp(pred))\n",
    "print('RMSE of Exponential Model:',rmse_log)"
   ]
  },
  {
   "cell_type": "code",
   "execution_count": 68,
   "id": "8a7a3093",
   "metadata": {},
   "outputs": [
    {
     "data": {
      "text/plain": [
       "9.986569705640761"
      ]
     },
     "execution_count": 68,
     "metadata": {},
     "output_type": "execute_result"
    }
   ],
   "source": [
    "rmse_log*100/np.mean(test['Sales'])"
   ]
  },
  {
   "cell_type": "markdown",
   "id": "c0d9e8eb",
   "metadata": {},
   "source": [
    "### 3. Quadratic Model"
   ]
  },
  {
   "cell_type": "code",
   "execution_count": 70,
   "id": "bc628ed3",
   "metadata": {},
   "outputs": [],
   "source": [
    "# fit the model with sales as the target and t, t^2 as the feature\n",
    "model=ols('Sales~t+I(t**2)',data=train).fit()"
   ]
  },
  {
   "cell_type": "code",
   "execution_count": 71,
   "id": "10da45a9",
   "metadata": {},
   "outputs": [
    {
     "name": "stdout",
     "output_type": "stream",
     "text": [
      "RMSE of Quadratic Model:  475.56183519820405\n"
     ]
    }
   ],
   "source": [
    "# predict the Sales on the test dataset & compute the rmse\n",
    "pred=model.predict(test[['t','t_sq']])\n",
    "rmse_quad=rmse(test['Sales'],pred)\n",
    "print('RMSE of Quadratic Model: ', rmse_quad)"
   ]
  },
  {
   "cell_type": "code",
   "execution_count": 72,
   "id": "ef31a52f",
   "metadata": {},
   "outputs": [
    {
     "data": {
      "text/plain": [
       "10.186063404513073"
      ]
     },
     "execution_count": 72,
     "metadata": {},
     "output_type": "execute_result"
    }
   ],
   "source": [
    "rmse_quad*100/np.mean(test['Sales'])"
   ]
  },
  {
   "cell_type": "markdown",
   "id": "b283406f",
   "metadata": {},
   "source": [
    "### 4. Additive Seasonality Model"
   ]
  },
  {
   "cell_type": "code",
   "execution_count": 79,
   "id": "5ac80691",
   "metadata": {},
   "outputs": [],
   "source": [
    "# fit the model with sales as the target feature and quarters are the feature\n",
    "model=ols('Sales~Q1+Q2+Q3+Q4',data=train).fit()"
   ]
  },
  {
   "cell_type": "code",
   "execution_count": 80,
   "id": "7147ee8f",
   "metadata": {},
   "outputs": [
    {
     "name": "stdout",
     "output_type": "stream",
     "text": [
      "RMSE of Additive Model:  1969.832041761209\n"
     ]
    }
   ],
   "source": [
    "# predict the sales on the test dataset & compute the RMSE\n",
    "pred = model.predict(test[['Q1','Q2','Q3','Q4']])\n",
    "rmse_additive = rmse(test['Sales'], pred)\n",
    "print('RMSE of Additive Model: ', rmse_additive)"
   ]
  },
  {
   "cell_type": "code",
   "execution_count": 81,
   "id": "51d139db",
   "metadata": {},
   "outputs": [
    {
     "data": {
      "text/plain": [
       "42.19185096141813"
      ]
     },
     "execution_count": 81,
     "metadata": {},
     "output_type": "execute_result"
    }
   ],
   "source": [
    "rmse_additive*100/np.mean(test['Sales'])"
   ]
  },
  {
   "cell_type": "markdown",
   "id": "f2805a47",
   "metadata": {},
   "source": [
    "### 5. Quadratic Model With Additive Seasonality"
   ]
  },
  {
   "cell_type": "code",
   "execution_count": 82,
   "id": "a65b8fb1",
   "metadata": {},
   "outputs": [],
   "source": [
    "# fit a model with sales as the target and the months as the features\n",
    "model = ols('Sales ~Q1+Q2+Q3+Q4+t+t_sq',data=train).fit()"
   ]
  },
  {
   "cell_type": "code",
   "execution_count": 83,
   "id": "3432c449",
   "metadata": {},
   "outputs": [
    {
     "name": "stdout",
     "output_type": "stream",
     "text": [
      "RMSE of Quadratic with Additive Model:  415.1481077341724\n"
     ]
    }
   ],
   "source": [
    "# predict the sales on the test dataset & compute the RMSE\n",
    "pred = model.predict(test[['Q1','Q2','Q3','Q4','t','t_sq']])\n",
    "rmse_quad__with_additive = rmse(test['Sales'], pred)\n",
    "print('RMSE of Quadratic with Additive Model: ', rmse_quad__with_additive)"
   ]
  },
  {
   "cell_type": "code",
   "execution_count": 84,
   "id": "c93c6d5f",
   "metadata": {},
   "outputs": [
    {
     "data": {
      "text/plain": [
       "8.892061209835019"
      ]
     },
     "execution_count": 84,
     "metadata": {},
     "output_type": "execute_result"
    }
   ],
   "source": [
    "rmse_quad__with_additive*100/np.mean(test['Sales'])"
   ]
  },
  {
   "cell_type": "markdown",
   "id": "0557e737",
   "metadata": {},
   "source": [
    "### 6. Multiplicative Seasonality Model"
   ]
  },
  {
   "cell_type": "code",
   "execution_count": 86,
   "id": "c03aa80e",
   "metadata": {},
   "outputs": [],
   "source": [
    "# fit a model with log_sales as the target with months as the features\n",
    "model = ols('log_sales~Q1+Q2+Q3+Q4', data=train).fit()"
   ]
  },
  {
   "cell_type": "code",
   "execution_count": 88,
   "id": "f5e6b3fd",
   "metadata": {},
   "outputs": [
    {
     "name": "stdout",
     "output_type": "stream",
     "text": [
      "RMSE of Multiplicative Seasonality Model: 2497.791229872743\n"
     ]
    }
   ],
   "source": [
    "# predict the sales on the test dataset and compute the rmse\n",
    "pred=model.predict(test[['Q1','Q2','Q3','Q4']])\n",
    "rmse_multi=rmse(test['Sales'],np.exp(pred))\n",
    "print('RMSE of Multiplicative Seasonality Model:',rmse_multi)"
   ]
  },
  {
   "cell_type": "code",
   "execution_count": 89,
   "id": "d6b107fe",
   "metadata": {},
   "outputs": [
    {
     "data": {
      "text/plain": [
       "53.5002137589878"
      ]
     },
     "execution_count": 89,
     "metadata": {},
     "output_type": "execute_result"
    }
   ],
   "source": [
    "rmse_multi*100/np.mean(test['Sales'])"
   ]
  },
  {
   "cell_type": "markdown",
   "id": "913f476d",
   "metadata": {},
   "source": [
    "### 7.Multiplicative Seasonality with Additive trend"
   ]
  },
  {
   "cell_type": "code",
   "execution_count": 90,
   "id": "720659b4",
   "metadata": {},
   "outputs": [],
   "source": [
    "# fit a model with log_sales as the target with months as the features\n",
    "model = ols('log_sales~Q1+Q2+Q3+Q4+t', data=train).fit() "
   ]
  },
  {
   "cell_type": "code",
   "execution_count": 93,
   "id": "72562c15",
   "metadata": {},
   "outputs": [
    {
     "name": "stdout",
     "output_type": "stream",
     "text": [
      "RMSE of Multiplicative Model with additive trend: 2204.162785426985\n"
     ]
    }
   ],
   "source": [
    "# predict the sales on the test dataset and compute the rmse\n",
    "pred=model.predict(test[['Q1','Q2','Q3','Q4','t']])\n",
    "rmse_multi_with_additive=rmse(test['Sales'],np.exp(pred))\n",
    "print('RMSE of Multiplicative Model with additive trend:',rmse_multi_with_additive)"
   ]
  },
  {
   "cell_type": "code",
   "execution_count": 94,
   "id": "41508714",
   "metadata": {},
   "outputs": [
    {
     "data": {
      "text/plain": [
       "47.210983355865814"
      ]
     },
     "execution_count": 94,
     "metadata": {},
     "output_type": "execute_result"
    }
   ],
   "source": [
    "rmse_multi_with_additive*100/np.mean(test['Sales'])"
   ]
  },
  {
   "cell_type": "markdown",
   "id": "6d44c4b1",
   "metadata": {},
   "source": [
    "# Model comparison"
   ]
  },
  {
   "cell_type": "code",
   "execution_count": 97,
   "id": "f4168aaa",
   "metadata": {},
   "outputs": [
    {
     "data": {
      "text/html": [
       "<div>\n",
       "<style scoped>\n",
       "    .dataframe tbody tr th:only-of-type {\n",
       "        vertical-align: middle;\n",
       "    }\n",
       "\n",
       "    .dataframe tbody tr th {\n",
       "        vertical-align: top;\n",
       "    }\n",
       "\n",
       "    .dataframe thead th {\n",
       "        text-align: right;\n",
       "    }\n",
       "</style>\n",
       "<table border=\"1\" class=\"dataframe\">\n",
       "  <thead>\n",
       "    <tr style=\"text-align: right;\">\n",
       "      <th></th>\n",
       "      <th>Model</th>\n",
       "      <th>RMSE</th>\n",
       "    </tr>\n",
       "  </thead>\n",
       "  <tbody>\n",
       "    <tr>\n",
       "      <th>0</th>\n",
       "      <td>Linear</td>\n",
       "      <td>591.553296</td>\n",
       "    </tr>\n",
       "    <tr>\n",
       "      <th>1</th>\n",
       "      <td>Exponential</td>\n",
       "      <td>466.247973</td>\n",
       "    </tr>\n",
       "    <tr>\n",
       "      <th>2</th>\n",
       "      <td>Quadratic</td>\n",
       "      <td>475.561835</td>\n",
       "    </tr>\n",
       "    <tr>\n",
       "      <th>3</th>\n",
       "      <td>Additive</td>\n",
       "      <td>1969.832042</td>\n",
       "    </tr>\n",
       "    <tr>\n",
       "      <th>4</th>\n",
       "      <td>Quadratic Model with Additive Seasonality</td>\n",
       "      <td>415.148108</td>\n",
       "    </tr>\n",
       "    <tr>\n",
       "      <th>5</th>\n",
       "      <td>Multiplicative Model</td>\n",
       "      <td>2497.791230</td>\n",
       "    </tr>\n",
       "    <tr>\n",
       "      <th>6</th>\n",
       "      <td>Multiplicative Model with Additive Trend</td>\n",
       "      <td>2204.162785</td>\n",
       "    </tr>\n",
       "  </tbody>\n",
       "</table>\n",
       "</div>"
      ],
      "text/plain": [
       "                                       Model         RMSE\n",
       "0                                     Linear   591.553296\n",
       "1                                Exponential   466.247973\n",
       "2                                  Quadratic   475.561835\n",
       "3                                   Additive  1969.832042\n",
       "4  Quadratic Model with Additive Seasonality   415.148108\n",
       "5                       Multiplicative Model  2497.791230\n",
       "6   Multiplicative Model with Additive Trend  2204.162785"
      ]
     },
     "execution_count": 97,
     "metadata": {},
     "output_type": "execute_result"
    }
   ],
   "source": [
    "# compare the RMSE of all the models in a dataframe \n",
    "rmse_df=pd.DataFrame({'Model':['Linear',\n",
    "                              'Exponential',\n",
    "                              'Quadratic',\n",
    "                              'Additive',\n",
    "                              'Quadratic Model with Additive Seasonality',\n",
    "                              'Multiplicative Model',\n",
    "                              'Multiplicative Model with Additive Trend'],\n",
    "                     'RMSE':[rmse_lin,\n",
    "                            rmse_log,\n",
    "                            rmse_quad,\n",
    "                            rmse_additive,\n",
    "                            rmse_quad__with_additive,\n",
    "                            rmse_multi,\n",
    "                            rmse_multi_with_additive]})\n",
    "rmse_df"
   ]
  },
  {
   "cell_type": "code",
   "execution_count": 98,
   "id": "899a9b3a",
   "metadata": {
    "scrolled": true
   },
   "outputs": [
    {
     "data": {
      "text/html": [
       "<div>\n",
       "<style scoped>\n",
       "    .dataframe tbody tr th:only-of-type {\n",
       "        vertical-align: middle;\n",
       "    }\n",
       "\n",
       "    .dataframe tbody tr th {\n",
       "        vertical-align: top;\n",
       "    }\n",
       "\n",
       "    .dataframe thead th {\n",
       "        text-align: right;\n",
       "    }\n",
       "</style>\n",
       "<table border=\"1\" class=\"dataframe\">\n",
       "  <thead>\n",
       "    <tr style=\"text-align: right;\">\n",
       "      <th></th>\n",
       "      <th>Model</th>\n",
       "      <th>RMSE</th>\n",
       "    </tr>\n",
       "  </thead>\n",
       "  <tbody>\n",
       "    <tr>\n",
       "      <th>4</th>\n",
       "      <td>Quadratic Model with Additive Seasonality</td>\n",
       "      <td>415.148108</td>\n",
       "    </tr>\n",
       "    <tr>\n",
       "      <th>1</th>\n",
       "      <td>Exponential</td>\n",
       "      <td>466.247973</td>\n",
       "    </tr>\n",
       "    <tr>\n",
       "      <th>2</th>\n",
       "      <td>Quadratic</td>\n",
       "      <td>475.561835</td>\n",
       "    </tr>\n",
       "    <tr>\n",
       "      <th>0</th>\n",
       "      <td>Linear</td>\n",
       "      <td>591.553296</td>\n",
       "    </tr>\n",
       "    <tr>\n",
       "      <th>3</th>\n",
       "      <td>Additive</td>\n",
       "      <td>1969.832042</td>\n",
       "    </tr>\n",
       "    <tr>\n",
       "      <th>6</th>\n",
       "      <td>Multiplicative Model with Additive Trend</td>\n",
       "      <td>2204.162785</td>\n",
       "    </tr>\n",
       "    <tr>\n",
       "      <th>5</th>\n",
       "      <td>Multiplicative Model</td>\n",
       "      <td>2497.791230</td>\n",
       "    </tr>\n",
       "  </tbody>\n",
       "</table>\n",
       "</div>"
      ],
      "text/plain": [
       "                                       Model         RMSE\n",
       "4  Quadratic Model with Additive Seasonality   415.148108\n",
       "1                                Exponential   466.247973\n",
       "2                                  Quadratic   475.561835\n",
       "0                                     Linear   591.553296\n",
       "3                                   Additive  1969.832042\n",
       "6   Multiplicative Model with Additive Trend  2204.162785\n",
       "5                       Multiplicative Model  2497.791230"
      ]
     },
     "execution_count": 98,
     "metadata": {},
     "output_type": "execute_result"
    }
   ],
   "source": [
    "# sort the dataframe by RMSE in descending order\n",
    "rmse_df.sort_values(by='RMSE', ascending=True)"
   ]
  },
  {
   "cell_type": "markdown",
   "id": "0db5acd2",
   "metadata": {},
   "source": [
    "#### From the above Dataframe we select the Quadratic Model with Additive trend because it has best RMSE value"
   ]
  },
  {
   "cell_type": "code",
   "execution_count": null,
   "id": "a1f9ad88",
   "metadata": {},
   "outputs": [],
   "source": []
  }
 ],
 "metadata": {
  "kernelspec": {
   "display_name": "Python 3 (ipykernel)",
   "language": "python",
   "name": "python3"
  },
  "language_info": {
   "codemirror_mode": {
    "name": "ipython",
    "version": 3
   },
   "file_extension": ".py",
   "mimetype": "text/x-python",
   "name": "python",
   "nbconvert_exporter": "python",
   "pygments_lexer": "ipython3",
   "version": "3.9.12"
  },
  "varInspector": {
   "cols": {
    "lenName": 16,
    "lenType": 16,
    "lenVar": 40
   },
   "kernels_config": {
    "python": {
     "delete_cmd_postfix": "",
     "delete_cmd_prefix": "del ",
     "library": "var_list.py",
     "varRefreshCmd": "print(var_dic_list())"
    },
    "r": {
     "delete_cmd_postfix": ") ",
     "delete_cmd_prefix": "rm(",
     "library": "var_list.r",
     "varRefreshCmd": "cat(var_dic_list()) "
    }
   },
   "types_to_exclude": [
    "module",
    "function",
    "builtin_function_or_method",
    "instance",
    "_Feature"
   ],
   "window_display": false
  }
 },
 "nbformat": 4,
 "nbformat_minor": 5
}
