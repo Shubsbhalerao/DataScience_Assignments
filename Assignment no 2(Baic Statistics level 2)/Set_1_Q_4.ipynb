{
 "cells": [
  {
   "cell_type": "markdown",
   "id": "3e794367",
   "metadata": {},
   "source": [
    "## 4.\tAT&T was running commercials in 1990 aimed at luring back customers who had switched to one of the other long-distance phone service providers. One such commercial shows a businessman trying to reach Phoenix and mistakenly getting Fiji, where a half-naked native on a beach responds incomprehensibly in Polynesian. When asked about this advertisement, AT&T admitted that the portrayed incident did not actually take place but added that this was an enactment of something that “could happen.” Suppose that one in 200 long-distance telephone calls is misdirected. What is the probability that at least one in five attempted telephone calls reaches the wrong number? (Assume independence of attempts."
   ]
  },
  {
   "cell_type": "code",
   "execution_count": 1,
   "id": "1ca6b04b",
   "metadata": {},
   "outputs": [],
   "source": [
    "from scipy.stats import binom"
   ]
  },
  {
   "cell_type": "markdown",
   "id": "fae5894e",
   "metadata": {},
   "source": [
    "### What is the probability that at least one in five attempted telephone calls reaches the wrong number? (Assume independence of attempts.)"
   ]
  },
  {
   "cell_type": "code",
   "execution_count": 5,
   "id": "0bd48d52",
   "metadata": {},
   "outputs": [],
   "source": [
    "n=5\n",
    "# success is telephone calls reaches the wrong number.\n",
    "# p= 1/200\n",
    "p=0.005"
   ]
  },
  {
   "cell_type": "code",
   "execution_count": 6,
   "id": "789f2387",
   "metadata": {},
   "outputs": [
    {
     "data": {
      "text/plain": [
       "0.02475124687812502"
      ]
     },
     "execution_count": 6,
     "metadata": {},
     "output_type": "execute_result"
    }
   ],
   "source": [
    "k=0\n",
    "1- binom.pmf(n=n, p=p,k=k)"
   ]
  },
  {
   "cell_type": "markdown",
   "id": "9809b7ec",
   "metadata": {},
   "source": [
    "## the probability that at least one in five attempted telephone calls reaches the wrong number is 0.02475"
   ]
  },
  {
   "cell_type": "code",
   "execution_count": null,
   "id": "94162f15",
   "metadata": {},
   "outputs": [],
   "source": []
  }
 ],
 "metadata": {
  "kernelspec": {
   "display_name": "Python 3 (ipykernel)",
   "language": "python",
   "name": "python3"
  },
  "language_info": {
   "codemirror_mode": {
    "name": "ipython",
    "version": 3
   },
   "file_extension": ".py",
   "mimetype": "text/x-python",
   "name": "python",
   "nbconvert_exporter": "python",
   "pygments_lexer": "ipython3",
   "version": "3.9.12"
  },
  "varInspector": {
   "cols": {
    "lenName": 16,
    "lenType": 16,
    "lenVar": 40
   },
   "kernels_config": {
    "python": {
     "delete_cmd_postfix": "",
     "delete_cmd_prefix": "del ",
     "library": "var_list.py",
     "varRefreshCmd": "print(var_dic_list())"
    },
    "r": {
     "delete_cmd_postfix": ") ",
     "delete_cmd_prefix": "rm(",
     "library": "var_list.r",
     "varRefreshCmd": "cat(var_dic_list()) "
    }
   },
   "types_to_exclude": [
    "module",
    "function",
    "builtin_function_or_method",
    "instance",
    "_Feature"
   ],
   "window_display": false
  }
 },
 "nbformat": 4,
 "nbformat_minor": 5
}
