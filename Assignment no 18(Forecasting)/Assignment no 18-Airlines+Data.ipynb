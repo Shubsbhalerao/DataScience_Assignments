{
 "cells": [
  {
   "cell_type": "markdown",
   "id": "596d9a47",
   "metadata": {},
   "source": [
    "## Forecasting based on Arima and SARIMAX model"
   ]
  },
  {
   "cell_type": "code",
   "execution_count": 1,
   "id": "e18c22d4",
   "metadata": {},
   "outputs": [],
   "source": [
    "import pandas as pd\n",
    "import numpy as np\n",
    "import matplotlib.pyplot as plt\n",
    "import seaborn as sns\n",
    "plt.style.use('ggplot')"
   ]
  },
  {
   "cell_type": "code",
   "execution_count": 2,
   "id": "c5798f19",
   "metadata": {},
   "outputs": [
    {
     "data": {
      "text/html": [
       "<div>\n",
       "<style scoped>\n",
       "    .dataframe tbody tr th:only-of-type {\n",
       "        vertical-align: middle;\n",
       "    }\n",
       "\n",
       "    .dataframe tbody tr th {\n",
       "        vertical-align: top;\n",
       "    }\n",
       "\n",
       "    .dataframe thead th {\n",
       "        text-align: right;\n",
       "    }\n",
       "</style>\n",
       "<table border=\"1\" class=\"dataframe\">\n",
       "  <thead>\n",
       "    <tr style=\"text-align: right;\">\n",
       "      <th></th>\n",
       "      <th>Month</th>\n",
       "      <th>Passengers</th>\n",
       "    </tr>\n",
       "  </thead>\n",
       "  <tbody>\n",
       "    <tr>\n",
       "      <th>0</th>\n",
       "      <td>Jan-95</td>\n",
       "      <td>112</td>\n",
       "    </tr>\n",
       "    <tr>\n",
       "      <th>1</th>\n",
       "      <td>Feb-95</td>\n",
       "      <td>118</td>\n",
       "    </tr>\n",
       "    <tr>\n",
       "      <th>2</th>\n",
       "      <td>Mar-95</td>\n",
       "      <td>132</td>\n",
       "    </tr>\n",
       "    <tr>\n",
       "      <th>3</th>\n",
       "      <td>Apr-95</td>\n",
       "      <td>129</td>\n",
       "    </tr>\n",
       "    <tr>\n",
       "      <th>4</th>\n",
       "      <td>May-95</td>\n",
       "      <td>121</td>\n",
       "    </tr>\n",
       "  </tbody>\n",
       "</table>\n",
       "</div>"
      ],
      "text/plain": [
       "    Month  Passengers\n",
       "0  Jan-95         112\n",
       "1  Feb-95         118\n",
       "2  Mar-95         132\n",
       "3  Apr-95         129\n",
       "4  May-95         121"
      ]
     },
     "execution_count": 2,
     "metadata": {},
     "output_type": "execute_result"
    }
   ],
   "source": [
    "df=pd.read_csv('Airlines+Data.csv')\n",
    "df.head()"
   ]
  },
  {
   "cell_type": "code",
   "execution_count": 3,
   "id": "8cf7b54c",
   "metadata": {},
   "outputs": [
    {
     "data": {
      "text/plain": [
       "96"
      ]
     },
     "execution_count": 3,
     "metadata": {},
     "output_type": "execute_result"
    }
   ],
   "source": [
    "# Length of the dataset\n",
    "len(df)"
   ]
  },
  {
   "cell_type": "code",
   "execution_count": 4,
   "id": "e4f4a524",
   "metadata": {
    "scrolled": true
   },
   "outputs": [
    {
     "data": {
      "text/plain": [
       "DatetimeIndex(['1995-01-01', '1995-02-01', '1995-03-01', '1995-04-01',\n",
       "               '1995-05-01', '1995-06-01', '1995-07-01', '1995-08-01',\n",
       "               '1995-09-01', '1995-10-01', '1995-11-01', '1995-12-01',\n",
       "               '1996-01-01', '1996-02-01', '1996-03-01', '1996-04-01',\n",
       "               '1996-05-01', '1996-06-01', '1996-07-01', '1996-08-01',\n",
       "               '1996-09-01', '1996-10-01', '1996-11-01', '1996-12-01',\n",
       "               '1997-01-01', '1997-02-01', '1997-03-01', '1997-04-01',\n",
       "               '1997-05-01', '1997-06-01', '1997-07-01', '1997-08-01',\n",
       "               '1997-09-01', '1997-10-01', '1997-11-01', '1997-12-01',\n",
       "               '1998-01-01', '1998-02-01', '1998-03-01', '1998-04-01',\n",
       "               '1998-05-01', '1998-06-01', '1998-07-01', '1998-08-01',\n",
       "               '1998-09-01', '1998-10-01', '1998-11-01', '1998-12-01',\n",
       "               '1999-01-01', '1999-02-01', '1999-03-01', '1999-04-01',\n",
       "               '1999-05-01', '1999-06-01', '1999-07-01', '1999-08-01',\n",
       "               '1999-09-01', '1999-10-01', '1999-11-01', '1999-12-01',\n",
       "               '2000-01-01', '2000-02-01', '2000-03-01', '2000-04-01',\n",
       "               '2000-05-01', '2000-06-01', '2000-07-01', '2000-08-01',\n",
       "               '2000-09-01', '2000-10-01', '2000-11-01', '2000-12-01',\n",
       "               '2001-01-01', '2001-02-01', '2001-03-01', '2001-04-01',\n",
       "               '2001-05-01', '2001-06-01', '2001-07-01', '2001-08-01',\n",
       "               '2001-09-01', '2001-10-01', '2001-11-01', '2001-12-01',\n",
       "               '2002-01-01', '2002-02-01', '2002-03-01', '2002-04-01',\n",
       "               '2002-05-01', '2002-06-01', '2002-07-01', '2002-08-01',\n",
       "               '2002-09-01', '2002-10-01', '2002-11-01', '2002-12-01'],\n",
       "              dtype='datetime64[ns]', freq='MS')"
      ]
     },
     "execution_count": 4,
     "metadata": {},
     "output_type": "execute_result"
    }
   ],
   "source": [
    "# create a daterange object starting from january 1995 forthe next 96 months\n",
    "date =pd.date_range(start='1995-01-01', periods=96,freq='MS')\n",
    "date"
   ]
  },
  {
   "cell_type": "code",
   "execution_count": 5,
   "id": "1eae331a",
   "metadata": {},
   "outputs": [
    {
     "data": {
      "text/html": [
       "<div>\n",
       "<style scoped>\n",
       "    .dataframe tbody tr th:only-of-type {\n",
       "        vertical-align: middle;\n",
       "    }\n",
       "\n",
       "    .dataframe tbody tr th {\n",
       "        vertical-align: top;\n",
       "    }\n",
       "\n",
       "    .dataframe thead th {\n",
       "        text-align: right;\n",
       "    }\n",
       "</style>\n",
       "<table border=\"1\" class=\"dataframe\">\n",
       "  <thead>\n",
       "    <tr style=\"text-align: right;\">\n",
       "      <th></th>\n",
       "      <th>Month</th>\n",
       "      <th>Passengers</th>\n",
       "    </tr>\n",
       "  </thead>\n",
       "  <tbody>\n",
       "    <tr>\n",
       "      <th>0</th>\n",
       "      <td>1995-01-01</td>\n",
       "      <td>112</td>\n",
       "    </tr>\n",
       "    <tr>\n",
       "      <th>1</th>\n",
       "      <td>1995-02-01</td>\n",
       "      <td>118</td>\n",
       "    </tr>\n",
       "    <tr>\n",
       "      <th>2</th>\n",
       "      <td>1995-03-01</td>\n",
       "      <td>132</td>\n",
       "    </tr>\n",
       "    <tr>\n",
       "      <th>3</th>\n",
       "      <td>1995-04-01</td>\n",
       "      <td>129</td>\n",
       "    </tr>\n",
       "    <tr>\n",
       "      <th>4</th>\n",
       "      <td>1995-05-01</td>\n",
       "      <td>121</td>\n",
       "    </tr>\n",
       "  </tbody>\n",
       "</table>\n",
       "</div>"
      ],
      "text/plain": [
       "       Month  Passengers\n",
       "0 1995-01-01         112\n",
       "1 1995-02-01         118\n",
       "2 1995-03-01         132\n",
       "3 1995-04-01         129\n",
       "4 1995-05-01         121"
      ]
     },
     "execution_count": 5,
     "metadata": {},
     "output_type": "execute_result"
    }
   ],
   "source": [
    "df['Month'] = date\n",
    "df.head()"
   ]
  },
  {
   "cell_type": "code",
   "execution_count": 6,
   "id": "71a56a9c",
   "metadata": {},
   "outputs": [
    {
     "data": {
      "text/html": [
       "<div>\n",
       "<style scoped>\n",
       "    .dataframe tbody tr th:only-of-type {\n",
       "        vertical-align: middle;\n",
       "    }\n",
       "\n",
       "    .dataframe tbody tr th {\n",
       "        vertical-align: top;\n",
       "    }\n",
       "\n",
       "    .dataframe thead th {\n",
       "        text-align: right;\n",
       "    }\n",
       "</style>\n",
       "<table border=\"1\" class=\"dataframe\">\n",
       "  <thead>\n",
       "    <tr style=\"text-align: right;\">\n",
       "      <th></th>\n",
       "      <th>Passengers</th>\n",
       "    </tr>\n",
       "    <tr>\n",
       "      <th>Month</th>\n",
       "      <th></th>\n",
       "    </tr>\n",
       "  </thead>\n",
       "  <tbody>\n",
       "    <tr>\n",
       "      <th>1995-01-01</th>\n",
       "      <td>112</td>\n",
       "    </tr>\n",
       "    <tr>\n",
       "      <th>1995-02-01</th>\n",
       "      <td>118</td>\n",
       "    </tr>\n",
       "    <tr>\n",
       "      <th>1995-03-01</th>\n",
       "      <td>132</td>\n",
       "    </tr>\n",
       "    <tr>\n",
       "      <th>1995-04-01</th>\n",
       "      <td>129</td>\n",
       "    </tr>\n",
       "    <tr>\n",
       "      <th>1995-05-01</th>\n",
       "      <td>121</td>\n",
       "    </tr>\n",
       "  </tbody>\n",
       "</table>\n",
       "</div>"
      ],
      "text/plain": [
       "            Passengers\n",
       "Month                 \n",
       "1995-01-01         112\n",
       "1995-02-01         118\n",
       "1995-03-01         132\n",
       "1995-04-01         129\n",
       "1995-05-01         121"
      ]
     },
     "execution_count": 6,
     "metadata": {},
     "output_type": "execute_result"
    }
   ],
   "source": [
    "# set the Month column as the index\n",
    "df.set_index('Month', inplace=True) # df = df.set_index('Month')\n",
    "df.head()"
   ]
  },
  {
   "cell_type": "code",
   "execution_count": 7,
   "id": "6692fcfc",
   "metadata": {},
   "outputs": [
    {
     "data": {
      "text/plain": [
       "Passengers    0\n",
       "dtype: int64"
      ]
     },
     "execution_count": 7,
     "metadata": {},
     "output_type": "execute_result"
    }
   ],
   "source": [
    "df.isnull().sum()"
   ]
  },
  {
   "cell_type": "code",
   "execution_count": 8,
   "id": "61582f41",
   "metadata": {},
   "outputs": [
    {
     "data": {
      "text/plain": [
       "Passengers    int64\n",
       "dtype: object"
      ]
     },
     "execution_count": 8,
     "metadata": {},
     "output_type": "execute_result"
    }
   ],
   "source": [
    "df.dtypes"
   ]
  },
  {
   "cell_type": "code",
   "execution_count": 9,
   "id": "f7084123",
   "metadata": {},
   "outputs": [
    {
     "data": {
      "text/html": [
       "<div>\n",
       "<style scoped>\n",
       "    .dataframe tbody tr th:only-of-type {\n",
       "        vertical-align: middle;\n",
       "    }\n",
       "\n",
       "    .dataframe tbody tr th {\n",
       "        vertical-align: top;\n",
       "    }\n",
       "\n",
       "    .dataframe thead th {\n",
       "        text-align: right;\n",
       "    }\n",
       "</style>\n",
       "<table border=\"1\" class=\"dataframe\">\n",
       "  <thead>\n",
       "    <tr style=\"text-align: right;\">\n",
       "      <th></th>\n",
       "      <th>Passengers</th>\n",
       "    </tr>\n",
       "  </thead>\n",
       "  <tbody>\n",
       "    <tr>\n",
       "      <th>count</th>\n",
       "      <td>96.000000</td>\n",
       "    </tr>\n",
       "    <tr>\n",
       "      <th>mean</th>\n",
       "      <td>213.708333</td>\n",
       "    </tr>\n",
       "    <tr>\n",
       "      <th>std</th>\n",
       "      <td>71.918216</td>\n",
       "    </tr>\n",
       "    <tr>\n",
       "      <th>min</th>\n",
       "      <td>104.000000</td>\n",
       "    </tr>\n",
       "    <tr>\n",
       "      <th>25%</th>\n",
       "      <td>156.000000</td>\n",
       "    </tr>\n",
       "    <tr>\n",
       "      <th>50%</th>\n",
       "      <td>200.000000</td>\n",
       "    </tr>\n",
       "    <tr>\n",
       "      <th>75%</th>\n",
       "      <td>264.750000</td>\n",
       "    </tr>\n",
       "    <tr>\n",
       "      <th>max</th>\n",
       "      <td>413.000000</td>\n",
       "    </tr>\n",
       "  </tbody>\n",
       "</table>\n",
       "</div>"
      ],
      "text/plain": [
       "       Passengers\n",
       "count   96.000000\n",
       "mean   213.708333\n",
       "std     71.918216\n",
       "min    104.000000\n",
       "25%    156.000000\n",
       "50%    200.000000\n",
       "75%    264.750000\n",
       "max    413.000000"
      ]
     },
     "execution_count": 9,
     "metadata": {},
     "output_type": "execute_result"
    }
   ],
   "source": [
    "df.describe()"
   ]
  },
  {
   "cell_type": "code",
   "execution_count": 10,
   "id": "64b92716",
   "metadata": {},
   "outputs": [
    {
     "data": {
      "text/plain": [
       "<AxesSubplot:xlabel='Month'>"
      ]
     },
     "execution_count": 10,
     "metadata": {},
     "output_type": "execute_result"
    },
    {
     "data": {
      "image/png": "[encoded data removed]",
      "text/plain": [
       "<Figure size 864x360 with 1 Axes>"
      ]
     },
     "metadata": {},
     "output_type": "display_data"
    }
   ],
   "source": [
    "# visualize the data \n",
    "df['Passengers'].plot(figsize=(12,5))"
   ]
  },
  {
   "cell_type": "code",
   "execution_count": 11,
   "id": "98d7394a",
   "metadata": {},
   "outputs": [
    {
     "data": {
      "text/plain": [
       "96"
      ]
     },
     "execution_count": 11,
     "metadata": {},
     "output_type": "execute_result"
    }
   ],
   "source": [
    "len(df)"
   ]
  },
  {
   "cell_type": "code",
   "execution_count": 12,
   "id": "31c381d9",
   "metadata": {},
   "outputs": [],
   "source": [
    "# split into train and test data with the last 10 years as test data\n",
    "train = df.iloc[:len(df)-10]\n",
    "test = df.iloc[len(df)-10:]"
   ]
  },
  {
   "cell_type": "code",
   "execution_count": 13,
   "id": "cf5e94d7",
   "metadata": {},
   "outputs": [
    {
     "data": {
      "text/plain": [
       "((86, 1), (10, 1))"
      ]
     },
     "execution_count": 13,
     "metadata": {},
     "output_type": "execute_result"
    }
   ],
   "source": [
    "# check the shape of train and test data\n",
    "train.shape, test.shape"
   ]
  },
  {
   "cell_type": "code",
   "execution_count": 14,
   "id": "578daa20",
   "metadata": {},
   "outputs": [
    {
     "data": {
      "image/png": "[encoded data removed]",
      "text/plain": [
       "<Figure size 864x360 with 1 Axes>"
      ]
     },
     "metadata": {},
     "output_type": "display_data"
    }
   ],
   "source": [
    "# plot the train and test data in different colors and labels\n",
    "train['Passengers'].plot(legend=True, label='TRAIN', figsize=(12,5))\n",
    "test['Passengers'].plot(legend=True, label='TEST', figsize=(12,5));"
   ]
  },
  {
   "cell_type": "code",
   "execution_count": 15,
   "id": "4530f2b5",
   "metadata": {},
   "outputs": [],
   "source": [
    "from statsmodels.tsa.seasonal import seasonal_decompose"
   ]
  },
  {
   "cell_type": "code",
   "execution_count": 16,
   "id": "5817dee3",
   "metadata": {},
   "outputs": [
    {
     "data": {
      "image/png": "[encoded data removed]",
      "text/plain": [
       "<Figure size 432x288 with 4 Axes>"
      ]
     },
     "metadata": {},
     "output_type": "display_data"
    }
   ],
   "source": [
    "ts_add = seasonal_decompose(df['Passengers'],model=\"additive\")\n",
    "fig = ts_add.plot()\n",
    "plt.show()"
   ]
  },
  {
   "cell_type": "code",
   "execution_count": 17,
   "id": "8845f7f9",
   "metadata": {},
   "outputs": [
    {
     "data": {
      "image/png": "[encoded data removed]",
      "text/plain": [
       "<Figure size 432x288 with 4 Axes>"
      ]
     },
     "metadata": {},
     "output_type": "display_data"
    }
   ],
   "source": [
    "ts_mult=seasonal_decompose(df['Passengers'],model='multiplicative')\n",
    "fig=ts_mult.plot()\n",
    "plt.show()"
   ]
  },
  {
   "cell_type": "code",
   "execution_count": 18,
   "id": "22e12403",
   "metadata": {},
   "outputs": [],
   "source": [
    "import statsmodels.graphics.tsaplots as tsa_plots"
   ]
  },
  {
   "cell_type": "code",
   "execution_count": 19,
   "id": "2a849d49",
   "metadata": {},
   "outputs": [
    {
     "data": {
      "image/png": "[encoded data removed]",
      "text/plain": [
       "<Figure size 432x288 with 1 Axes>"
      ]
     },
     "execution_count": 19,
     "metadata": {},
     "output_type": "execute_result"
    },
    {
     "data": {
      "image/png": "[encoded data removed]",
      "text/plain": [
       "<Figure size 432x288 with 1 Axes>"
      ]
     },
     "metadata": {},
     "output_type": "display_data"
    }
   ],
   "source": [
    "tsa_plots.plot_acf(df['Passengers'])"
   ]
  },
  {
   "cell_type": "code",
   "execution_count": 20,
   "id": "38ab381b",
   "metadata": {},
   "outputs": [],
   "source": [
    "# arima model parameters tuning with auto_arima\n",
    "from pmdarima import auto_arima"
   ]
  },
  {
   "cell_type": "code",
   "execution_count": 21,
   "id": "5da11f1f",
   "metadata": {},
   "outputs": [
    {
     "name": "stdout",
     "output_type": "stream",
     "text": [
      " ARIMA(0,1,0)(0,0,0)[1] intercept   : AIC=763.249, Time=0.06 sec\n",
      " ARIMA(0,1,1)(0,0,0)[1] intercept   : AIC=759.915, Time=0.06 sec\n",
      " ARIMA(0,1,2)(0,0,0)[1] intercept   : AIC=inf, Time=0.14 sec\n",
      " ARIMA(0,1,3)(0,0,0)[1] intercept   : AIC=inf, Time=0.14 sec\n",
      " ARIMA(1,1,0)(0,0,0)[1] intercept   : AIC=761.709, Time=0.04 sec\n",
      " ARIMA(1,1,1)(0,0,0)[1] intercept   : AIC=758.379, Time=0.07 sec\n",
      " ARIMA(1,1,2)(0,0,0)[1] intercept   : AIC=inf, Time=0.14 sec\n",
      " ARIMA(1,1,3)(0,0,0)[1] intercept   : AIC=inf, Time=0.21 sec\n",
      " ARIMA(2,1,0)(0,0,0)[1] intercept   : AIC=759.543, Time=0.08 sec\n",
      " ARIMA(2,1,1)(0,0,0)[1] intercept   : AIC=inf, Time=0.14 sec\n",
      " ARIMA(2,1,2)(0,0,0)[1] intercept   : AIC=740.215, Time=0.21 sec\n",
      " ARIMA(2,1,3)(0,0,0)[1] intercept   : AIC=inf, Time=0.23 sec\n",
      " ARIMA(3,1,0)(0,0,0)[1] intercept   : AIC=760.387, Time=0.06 sec\n",
      " ARIMA(3,1,1)(0,0,0)[1] intercept   : AIC=inf, Time=0.19 sec\n",
      " ARIMA(3,1,2)(0,0,0)[1] intercept   : AIC=inf, Time=0.23 sec\n",
      "\n",
      "Best model:  ARIMA(2,1,2)(0,0,0)[1] intercept\n",
      "Total fit time: 2.002 seconds\n"
     ]
    }
   ],
   "source": [
    "# implement auto_arima to find best parameter in range of 0 to 3 for p & q and d=1\n",
    "auto_arima_no_seasonal = auto_arima(train['Passengers'], \n",
    "                                    start_p=0, start_q=0, \n",
    "                                    max_p=3, max_q=3, \n",
    "                                    d=1, seasonal=True, trace=True, stepwise=False)"
   ]
  },
  {
   "cell_type": "code",
   "execution_count": 22,
   "id": "6f029ddd",
   "metadata": {},
   "outputs": [],
   "source": [
    "from statsmodels.tsa.arima.model import ARIMA"
   ]
  },
  {
   "cell_type": "code",
   "execution_count": 23,
   "id": "39bd3c8d",
   "metadata": {},
   "outputs": [
    {
     "name": "stderr",
     "output_type": "stream",
     "text": [
      "C:\\Users\\bhale\\anaconda3\\lib\\site-packages\\statsmodels\\tsa\\base\\tsa_model.py:471: ValueWarning: No frequency information was provided, so inferred frequency MS will be used.\n",
      "  self._init_dates(dates, freq)\n",
      "C:\\Users\\bhale\\anaconda3\\lib\\site-packages\\statsmodels\\tsa\\base\\tsa_model.py:471: ValueWarning: No frequency information was provided, so inferred frequency MS will be used.\n",
      "  self._init_dates(dates, freq)\n",
      "C:\\Users\\bhale\\anaconda3\\lib\\site-packages\\statsmodels\\tsa\\base\\tsa_model.py:471: ValueWarning: No frequency information was provided, so inferred frequency MS will be used.\n",
      "  self._init_dates(dates, freq)\n"
     ]
    }
   ],
   "source": [
    "# fit the model with the identified best parameters\n",
    "model_212 = ARIMA(train['Passengers'], order=(2,1,2))\n",
    "results_212 = model_212.fit()\n",
    "forecast_212 = results_212.predict(start=len(train), \n",
    "                                    end=len(train)+len(test)-1).rename('ARIMA(2,1,2) Predictions')"
   ]
  },
  {
   "cell_type": "code",
   "execution_count": 24,
   "id": "ed0c464a",
   "metadata": {},
   "outputs": [
    {
     "data": {
      "image/png": "[encoded data removed]",
      "text/plain": [
       "<Figure size 864x360 with 1 Axes>"
      ]
     },
     "metadata": {},
     "output_type": "display_data"
    }
   ],
   "source": [
    "# plot the train,test and forecast data\n",
    "train['Passengers'].plot(legend=True, label='TRAIN', figsize=(12,5))\n",
    "test['Passengers'].plot(legend=True, label='TEST', figsize=(12,5))\n",
    "forecast_212.plot(legend=True, figsize=(12,5));"
   ]
  },
  {
   "cell_type": "code",
   "execution_count": 25,
   "id": "15be81c3",
   "metadata": {},
   "outputs": [
    {
     "data": {
      "text/plain": [
       "2002-03-01    276.789580\n",
       "2002-04-01    278.096728\n",
       "2002-05-01    279.640623\n",
       "2002-06-01    280.713590\n",
       "2002-07-01    281.152689\n",
       "2002-08-01    281.119550\n",
       "2002-09-01    280.871134\n",
       "2002-10-01    280.613007\n",
       "2002-11-01    280.448027\n",
       "2002-12-01    280.390516\n",
       "Freq: MS, Name: ARIMA(2,1,2) Predictions, dtype: float64"
      ]
     },
     "execution_count": 25,
     "metadata": {},
     "output_type": "execute_result"
    }
   ],
   "source": [
    "forecast_212"
   ]
  },
  {
   "cell_type": "code",
   "execution_count": 26,
   "id": "1a3e2036",
   "metadata": {},
   "outputs": [],
   "source": [
    "from statsmodels.tools.eval_measures import rmse"
   ]
  },
  {
   "cell_type": "code",
   "execution_count": 27,
   "id": "b949f98a",
   "metadata": {},
   "outputs": [
    {
     "data": {
      "text/plain": [
       "72.54218835594352"
      ]
     },
     "execution_count": 27,
     "metadata": {},
     "output_type": "execute_result"
    }
   ],
   "source": [
    "# caluclate the rmse for the model\n",
    "rmse_212 = rmse(test['Passengers'], forecast_212)\n",
    "rmse_212"
   ]
  },
  {
   "cell_type": "code",
   "execution_count": 28,
   "id": "84d32b1a",
   "metadata": {},
   "outputs": [
    {
     "data": {
      "text/plain": [
       "337.8"
      ]
     },
     "execution_count": 28,
     "metadata": {},
     "output_type": "execute_result"
    }
   ],
   "source": [
    "test['Passengers'].mean()"
   ]
  },
  {
   "cell_type": "code",
   "execution_count": 29,
   "id": "4f4151f3",
   "metadata": {},
   "outputs": [
    {
     "data": {
      "text/plain": [
       "21.474245115452934"
      ]
     },
     "execution_count": 29,
     "metadata": {},
     "output_type": "execute_result"
    }
   ],
   "source": [
    "72.54*100/337.8"
   ]
  },
  {
   "cell_type": "code",
   "execution_count": 30,
   "id": "363c45d4",
   "metadata": {
    "scrolled": true
   },
   "outputs": [
    {
     "name": "stdout",
     "output_type": "stream",
     "text": [
      " ARIMA(0,1,0)(0,1,0)[12]             : AIC=549.719, Time=0.02 sec\n",
      " ARIMA(0,1,0)(0,1,1)[12]             : AIC=546.173, Time=0.05 sec\n",
      " ARIMA(0,1,0)(0,1,2)[12]             : AIC=547.986, Time=0.11 sec\n",
      " ARIMA(0,1,0)(0,1,3)[12]             : AIC=549.202, Time=0.23 sec\n",
      " ARIMA(0,1,0)(0,1,4)[12]             : AIC=550.850, Time=0.34 sec\n",
      " ARIMA(0,1,0)(0,1,5)[12]             : AIC=inf, Time=2.58 sec\n",
      " ARIMA(0,1,0)(1,1,0)[12]             : AIC=546.324, Time=0.04 sec\n",
      " ARIMA(0,1,0)(1,1,1)[12]             : AIC=548.069, Time=0.07 sec\n",
      " ARIMA(0,1,0)(1,1,2)[12]             : AIC=inf, Time=0.41 sec\n",
      " ARIMA(0,1,0)(1,1,3)[12]             : AIC=inf, Time=0.71 sec\n",
      " ARIMA(0,1,0)(1,1,4)[12]             : AIC=inf, Time=1.34 sec\n",
      " ARIMA(0,1,0)(2,1,0)[12]             : AIC=547.859, Time=0.07 sec\n",
      " ARIMA(0,1,0)(2,1,1)[12]             : AIC=inf, Time=0.35 sec\n",
      " ARIMA(0,1,0)(2,1,2)[12]             : AIC=inf, Time=0.49 sec\n",
      " ARIMA(0,1,0)(2,1,3)[12]             : AIC=inf, Time=1.20 sec\n",
      " ARIMA(0,1,0)(3,1,0)[12]             : AIC=548.692, Time=0.18 sec\n",
      " ARIMA(0,1,0)(3,1,1)[12]             : AIC=inf, Time=0.98 sec\n",
      " ARIMA(0,1,0)(3,1,2)[12]             : AIC=inf, Time=1.18 sec\n",
      " ARIMA(0,1,0)(4,1,0)[12]             : AIC=550.029, Time=0.34 sec\n",
      " ARIMA(0,1,0)(4,1,1)[12]             : AIC=inf, Time=1.49 sec\n",
      " ARIMA(0,1,0)(5,1,0)[12]             : AIC=inf, Time=0.99 sec\n",
      " ARIMA(0,1,1)(0,1,0)[12]             : AIC=546.640, Time=0.02 sec\n",
      " ARIMA(0,1,1)(0,1,1)[12]             : AIC=544.315, Time=0.05 sec\n",
      " ARIMA(0,1,1)(0,1,2)[12]             : AIC=545.522, Time=0.12 sec\n",
      " ARIMA(0,1,1)(0,1,3)[12]             : AIC=546.830, Time=0.28 sec\n",
      " ARIMA(0,1,1)(0,1,4)[12]             : AIC=548.811, Time=0.44 sec\n",
      " ARIMA(0,1,1)(1,1,0)[12]             : AIC=543.888, Time=0.05 sec\n",
      " ARIMA(0,1,1)(1,1,1)[12]             : AIC=545.888, Time=0.07 sec\n",
      " ARIMA(0,1,1)(1,1,2)[12]             : AIC=inf, Time=0.57 sec\n",
      " ARIMA(0,1,1)(1,1,3)[12]             : AIC=inf, Time=1.13 sec\n",
      " ARIMA(0,1,1)(2,1,0)[12]             : AIC=545.888, Time=0.10 sec\n",
      " ARIMA(0,1,1)(2,1,1)[12]             : AIC=inf, Time=0.45 sec\n",
      " ARIMA(0,1,1)(2,1,2)[12]             : AIC=inf, Time=0.59 sec\n",
      " ARIMA(0,1,1)(3,1,0)[12]             : AIC=546.634, Time=0.29 sec\n",
      " ARIMA(0,1,1)(3,1,1)[12]             : AIC=inf, Time=1.41 sec\n",
      " ARIMA(0,1,1)(4,1,0)[12]             : AIC=548.594, Time=0.59 sec\n",
      " ARIMA(0,1,2)(0,1,0)[12]             : AIC=548.528, Time=0.04 sec\n",
      " ARIMA(0,1,2)(0,1,1)[12]             : AIC=546.206, Time=0.09 sec\n",
      " ARIMA(0,1,2)(0,1,2)[12]             : AIC=547.393, Time=0.18 sec\n",
      " ARIMA(0,1,2)(0,1,3)[12]             : AIC=548.716, Time=0.45 sec\n",
      " ARIMA(0,1,2)(1,1,0)[12]             : AIC=545.766, Time=0.06 sec\n",
      " ARIMA(0,1,2)(1,1,1)[12]             : AIC=547.765, Time=0.14 sec\n",
      " ARIMA(0,1,2)(1,1,2)[12]             : AIC=inf, Time=0.72 sec\n",
      " ARIMA(0,1,2)(2,1,0)[12]             : AIC=547.765, Time=0.15 sec\n",
      " ARIMA(0,1,2)(2,1,1)[12]             : AIC=inf, Time=0.62 sec\n",
      " ARIMA(0,1,2)(3,1,0)[12]             : AIC=548.546, Time=0.30 sec\n",
      " ARIMA(0,1,3)(0,1,0)[12]             : AIC=544.953, Time=0.05 sec\n",
      " ARIMA(0,1,3)(0,1,1)[12]             : AIC=543.584, Time=0.10 sec\n",
      " ARIMA(0,1,3)(0,1,2)[12]             : AIC=544.831, Time=0.22 sec\n",
      " ARIMA(0,1,3)(1,1,0)[12]             : AIC=543.101, Time=0.07 sec\n",
      " ARIMA(0,1,3)(1,1,1)[12]             : AIC=545.029, Time=0.18 sec\n",
      " ARIMA(0,1,3)(2,1,0)[12]             : AIC=544.989, Time=0.15 sec\n",
      " ARIMA(0,1,4)(0,1,0)[12]             : AIC=546.912, Time=0.05 sec\n",
      " ARIMA(0,1,4)(0,1,1)[12]             : AIC=545.396, Time=0.13 sec\n",
      " ARIMA(0,1,4)(1,1,0)[12]             : AIC=544.965, Time=0.09 sec\n",
      " ARIMA(0,1,5)(0,1,0)[12]             : AIC=548.702, Time=0.07 sec\n",
      " ARIMA(1,1,0)(0,1,0)[12]             : AIC=546.655, Time=0.02 sec\n",
      " ARIMA(1,1,0)(0,1,1)[12]             : AIC=544.346, Time=0.06 sec\n",
      " ARIMA(1,1,0)(0,1,2)[12]             : AIC=545.591, Time=0.11 sec\n",
      " ARIMA(1,1,0)(0,1,3)[12]             : AIC=546.939, Time=0.28 sec\n",
      " ARIMA(1,1,0)(0,1,4)[12]             : AIC=548.933, Time=0.47 sec\n",
      " ARIMA(1,1,0)(1,1,0)[12]             : AIC=543.935, Time=0.04 sec\n",
      " ARIMA(1,1,0)(1,1,1)[12]             : AIC=545.934, Time=0.08 sec\n",
      " ARIMA(1,1,0)(1,1,2)[12]             : AIC=inf, Time=0.55 sec\n",
      " ARIMA(1,1,0)(1,1,3)[12]             : AIC=inf, Time=1.09 sec\n",
      " ARIMA(1,1,0)(2,1,0)[12]             : AIC=545.934, Time=0.10 sec\n",
      " ARIMA(1,1,0)(2,1,1)[12]             : AIC=inf, Time=0.49 sec\n",
      " ARIMA(1,1,0)(2,1,2)[12]             : AIC=inf, Time=0.62 sec\n",
      " ARIMA(1,1,0)(3,1,0)[12]             : AIC=546.701, Time=0.26 sec\n",
      " ARIMA(1,1,0)(3,1,1)[12]             : AIC=inf, Time=1.18 sec\n",
      " ARIMA(1,1,0)(4,1,0)[12]             : AIC=548.626, Time=0.58 sec\n",
      " ARIMA(1,1,1)(0,1,0)[12]             : AIC=547.560, Time=0.03 sec\n",
      " ARIMA(1,1,1)(0,1,1)[12]             : AIC=545.858, Time=0.10 sec\n",
      " ARIMA(1,1,1)(0,1,2)[12]             : AIC=547.156, Time=0.19 sec\n",
      " ARIMA(1,1,1)(0,1,3)[12]             : AIC=548.792, Time=0.48 sec\n",
      " ARIMA(1,1,1)(1,1,0)[12]             : AIC=545.452, Time=0.07 sec\n",
      " ARIMA(1,1,1)(1,1,1)[12]             : AIC=547.447, Time=0.10 sec\n",
      " ARIMA(1,1,1)(1,1,2)[12]             : AIC=inf, Time=0.63 sec\n",
      " ARIMA(1,1,1)(2,1,0)[12]             : AIC=547.442, Time=0.18 sec\n",
      " ARIMA(1,1,1)(2,1,1)[12]             : AIC=inf, Time=0.63 sec\n",
      " ARIMA(1,1,1)(3,1,0)[12]             : AIC=548.494, Time=0.40 sec\n",
      " ARIMA(1,1,2)(0,1,0)[12]             : AIC=549.447, Time=0.05 sec\n",
      " ARIMA(1,1,2)(0,1,1)[12]             : AIC=547.684, Time=0.13 sec\n",
      " ARIMA(1,1,2)(0,1,2)[12]             : AIC=548.882, Time=0.25 sec\n",
      " ARIMA(1,1,2)(1,1,0)[12]             : AIC=547.234, Time=0.10 sec\n",
      " ARIMA(1,1,2)(1,1,1)[12]             : AIC=549.224, Time=0.19 sec\n",
      " ARIMA(1,1,2)(2,1,0)[12]             : AIC=549.214, Time=0.22 sec\n",
      " ARIMA(1,1,3)(0,1,0)[12]             : AIC=546.924, Time=0.07 sec\n",
      " ARIMA(1,1,3)(0,1,1)[12]             : AIC=545.457, Time=0.15 sec\n",
      " ARIMA(1,1,3)(1,1,0)[12]             : AIC=545.010, Time=0.15 sec\n",
      " ARIMA(1,1,4)(0,1,0)[12]             : AIC=inf, Time=0.21 sec\n",
      " ARIMA(2,1,0)(0,1,0)[12]             : AIC=548.549, Time=0.03 sec\n",
      " ARIMA(2,1,0)(0,1,1)[12]             : AIC=546.303, Time=0.07 sec\n",
      " ARIMA(2,1,0)(0,1,2)[12]             : AIC=547.555, Time=0.15 sec\n",
      " ARIMA(2,1,0)(0,1,3)[12]             : AIC=548.933, Time=0.30 sec\n",
      " ARIMA(2,1,0)(1,1,0)[12]             : AIC=545.892, Time=0.07 sec\n",
      " ARIMA(2,1,0)(1,1,1)[12]             : AIC=547.892, Time=0.11 sec\n",
      " ARIMA(2,1,0)(1,1,2)[12]             : AIC=inf, Time=0.59 sec\n",
      " ARIMA(2,1,0)(2,1,0)[12]             : AIC=547.892, Time=0.14 sec\n",
      " ARIMA(2,1,0)(2,1,1)[12]             : AIC=inf, Time=0.61 sec\n",
      " ARIMA(2,1,0)(3,1,0)[12]             : AIC=548.686, Time=0.33 sec\n",
      " ARIMA(2,1,1)(0,1,0)[12]             : AIC=549.515, Time=0.07 sec\n",
      " ARIMA(2,1,1)(0,1,1)[12]             : AIC=545.769, Time=0.20 sec\n",
      " ARIMA(2,1,1)(0,1,2)[12]             : AIC=547.310, Time=0.33 sec\n",
      " ARIMA(2,1,1)(1,1,0)[12]             : AIC=545.545, Time=0.16 sec\n",
      " ARIMA(2,1,1)(1,1,1)[12]             : AIC=547.516, Time=0.29 sec\n",
      " ARIMA(2,1,1)(2,1,0)[12]             : AIC=547.488, Time=0.34 sec\n",
      " ARIMA(2,1,2)(0,1,0)[12]             : AIC=548.119, Time=0.08 sec\n",
      " ARIMA(2,1,2)(0,1,1)[12]             : AIC=546.562, Time=0.15 sec\n",
      " ARIMA(2,1,2)(1,1,0)[12]             : AIC=546.282, Time=0.20 sec\n",
      " ARIMA(2,1,3)(0,1,0)[12]             : AIC=548.595, Time=0.09 sec\n",
      " ARIMA(3,1,0)(0,1,0)[12]             : AIC=545.311, Time=0.04 sec\n",
      " ARIMA(3,1,0)(0,1,1)[12]             : AIC=544.762, Time=0.08 sec\n",
      " ARIMA(3,1,0)(0,1,2)[12]             : AIC=545.808, Time=0.18 sec\n",
      " ARIMA(3,1,0)(1,1,0)[12]             : AIC=544.312, Time=0.07 sec\n",
      " ARIMA(3,1,0)(1,1,1)[12]             : AIC=546.141, Time=0.16 sec\n",
      " ARIMA(3,1,0)(2,1,0)[12]             : AIC=545.990, Time=0.15 sec\n",
      " ARIMA(3,1,1)(0,1,0)[12]             : AIC=546.902, Time=0.06 sec\n",
      " ARIMA(3,1,1)(0,1,1)[12]             : AIC=545.917, Time=0.16 sec\n",
      " ARIMA(3,1,1)(1,1,0)[12]             : AIC=545.399, Time=0.15 sec\n",
      " ARIMA(3,1,2)(0,1,0)[12]             : AIC=546.139, Time=0.16 sec\n",
      " ARIMA(4,1,0)(0,1,0)[12]             : AIC=546.743, Time=0.04 sec\n",
      " ARIMA(4,1,0)(0,1,1)[12]             : AIC=545.745, Time=0.11 sec\n",
      " ARIMA(4,1,0)(1,1,0)[12]             : AIC=545.208, Time=0.10 sec\n",
      " ARIMA(4,1,1)(0,1,0)[12]             : AIC=548.633, Time=0.09 sec\n",
      " ARIMA(5,1,0)(0,1,0)[12]             : AIC=548.581, Time=0.06 sec\n",
      "\n",
      "Best model:  ARIMA(0,1,3)(1,1,0)[12]          \n",
      "Total fit time: 39.531 seconds\n"
     ]
    }
   ],
   "source": [
    "# implement auto_arima to find the best parameters in the range of 2 to 5 for p & q and d=1\n",
    "auto_arima_model = auto_arima(train['Passengers'], seasonal = True, \n",
    "           trace = True, error_action = 'ignore', suppress_warnings = True,\n",
    "           start_p=2,\n",
    "           start_q=2,\n",
    "           max_p=5, max_q=5, stepwise=False, d=1, max_d=5, \n",
    "           start_P=0, D=1, max_P=5, max_D=5,m=12, start_Q=0, max_Q=5)"
   ]
  },
  {
   "cell_type": "code",
   "execution_count": 31,
   "id": "84de35b1",
   "metadata": {},
   "outputs": [
    {
     "data": {
      "text/plain": [
       "{'maxiter': 50,\n",
       " 'method': 'lbfgs',\n",
       " 'order': (0, 1, 3),\n",
       " 'out_of_sample_size': 0,\n",
       " 'scoring': 'mse',\n",
       " 'scoring_args': {},\n",
       " 'seasonal_order': (1, 1, 0, 12),\n",
       " 'start_params': None,\n",
       " 'suppress_warnings': True,\n",
       " 'trend': None,\n",
       " 'with_intercept': False}"
      ]
     },
     "execution_count": 31,
     "metadata": {},
     "output_type": "execute_result"
    }
   ],
   "source": [
    "auto_arima_model.get_params()"
   ]
  },
  {
   "cell_type": "code",
   "execution_count": 32,
   "id": "5b0bff03",
   "metadata": {},
   "outputs": [],
   "source": [
    "# import the SARIMAX model\n",
    "from statsmodels.tsa.statespace.sarimax import SARIMAX"
   ]
  },
  {
   "cell_type": "code",
   "execution_count": 33,
   "id": "a365a3a5",
   "metadata": {},
   "outputs": [
    {
     "name": "stderr",
     "output_type": "stream",
     "text": [
      "C:\\Users\\bhale\\anaconda3\\lib\\site-packages\\statsmodels\\tsa\\base\\tsa_model.py:471: ValueWarning: No frequency information was provided, so inferred frequency MS will be used.\n",
      "  self._init_dates(dates, freq)\n",
      "C:\\Users\\bhale\\anaconda3\\lib\\site-packages\\statsmodels\\tsa\\base\\tsa_model.py:471: ValueWarning: No frequency information was provided, so inferred frequency MS will be used.\n",
      "  self._init_dates(dates, freq)\n"
     ]
    },
    {
     "data": {
      "text/plain": [
       "2002-03-01    310.769798\n",
       "2002-04-01    310.660301\n",
       "2002-05-01    313.221820\n",
       "2002-06-01    354.658466\n",
       "2002-07-01    401.045341\n",
       "2002-08-01    385.945796\n",
       "2002-09-01    351.183353\n",
       "2002-10-01    315.083808\n",
       "2002-11-01    280.696933\n",
       "2002-12-01    318.133580\n",
       "Freq: MS, Name: SARIMA Forecast, dtype: float64"
      ]
     },
     "execution_count": 33,
     "metadata": {},
     "output_type": "execute_result"
    }
   ],
   "source": [
    "# fit a SARIMAX model with the above best parameters & forecast the test data\n",
    "model = SARIMAX(train['Passengers'], order=(0, 1, 3), seasonal_order=(1, 1, 0, 12))\n",
    "results = model.fit()\n",
    "forecast = results.predict(start=len(train), \n",
    "                            end=len(train)+len(test)-1).rename('SARIMA Forecast')\n",
    "forecast"
   ]
  },
  {
   "cell_type": "code",
   "execution_count": 34,
   "id": "edb9e33e",
   "metadata": {},
   "outputs": [
    {
     "data": {
      "text/html": [
       "<div>\n",
       "<style scoped>\n",
       "    .dataframe tbody tr th:only-of-type {\n",
       "        vertical-align: middle;\n",
       "    }\n",
       "\n",
       "    .dataframe tbody tr th {\n",
       "        vertical-align: top;\n",
       "    }\n",
       "\n",
       "    .dataframe thead th {\n",
       "        text-align: right;\n",
       "    }\n",
       "</style>\n",
       "<table border=\"1\" class=\"dataframe\">\n",
       "  <thead>\n",
       "    <tr style=\"text-align: right;\">\n",
       "      <th></th>\n",
       "      <th>Passengers</th>\n",
       "    </tr>\n",
       "    <tr>\n",
       "      <th>Month</th>\n",
       "      <th></th>\n",
       "    </tr>\n",
       "  </thead>\n",
       "  <tbody>\n",
       "    <tr>\n",
       "      <th>2002-03-01</th>\n",
       "      <td>317</td>\n",
       "    </tr>\n",
       "    <tr>\n",
       "      <th>2002-04-01</th>\n",
       "      <td>313</td>\n",
       "    </tr>\n",
       "    <tr>\n",
       "      <th>2002-05-01</th>\n",
       "      <td>318</td>\n",
       "    </tr>\n",
       "    <tr>\n",
       "      <th>2002-06-01</th>\n",
       "      <td>374</td>\n",
       "    </tr>\n",
       "    <tr>\n",
       "      <th>2002-07-01</th>\n",
       "      <td>413</td>\n",
       "    </tr>\n",
       "    <tr>\n",
       "      <th>2002-08-01</th>\n",
       "      <td>405</td>\n",
       "    </tr>\n",
       "    <tr>\n",
       "      <th>2002-09-01</th>\n",
       "      <td>355</td>\n",
       "    </tr>\n",
       "    <tr>\n",
       "      <th>2002-10-01</th>\n",
       "      <td>306</td>\n",
       "    </tr>\n",
       "    <tr>\n",
       "      <th>2002-11-01</th>\n",
       "      <td>271</td>\n",
       "    </tr>\n",
       "    <tr>\n",
       "      <th>2002-12-01</th>\n",
       "      <td>306</td>\n",
       "    </tr>\n",
       "  </tbody>\n",
       "</table>\n",
       "</div>"
      ],
      "text/plain": [
       "            Passengers\n",
       "Month                 \n",
       "2002-03-01         317\n",
       "2002-04-01         313\n",
       "2002-05-01         318\n",
       "2002-06-01         374\n",
       "2002-07-01         413\n",
       "2002-08-01         405\n",
       "2002-09-01         355\n",
       "2002-10-01         306\n",
       "2002-11-01         271\n",
       "2002-12-01         306"
      ]
     },
     "execution_count": 34,
     "metadata": {},
     "output_type": "execute_result"
    }
   ],
   "source": [
    "df.tail(10)"
   ]
  },
  {
   "cell_type": "code",
   "execution_count": 35,
   "id": "120109af",
   "metadata": {},
   "outputs": [
    {
     "data": {
      "image/png": "[encoded data removed]",
      "text/plain": [
       "<Figure size 864x360 with 1 Axes>"
      ]
     },
     "metadata": {},
     "output_type": "display_data"
    }
   ],
   "source": [
    "# plot the train, test and forecast data\n",
    "train['Passengers'].plot(legend=True, label='TRAIN', figsize=(12,5))\n",
    "test['Passengers'].plot(legend=True, label='TEST', figsize=(12,5))\n",
    "forecast.plot(legend=True, figsize=(12,5));"
   ]
  },
  {
   "cell_type": "code",
   "execution_count": 36,
   "id": "498f978b",
   "metadata": {},
   "outputs": [
    {
     "data": {
      "text/plain": [
       "11.338116080076464"
      ]
     },
     "execution_count": 36,
     "metadata": {},
     "output_type": "execute_result"
    }
   ],
   "source": [
    "# calculate the rmse for the sarimax model\n",
    "rmse_sarimax = rmse(test['Passengers'], forecast)\n",
    "rmse_sarimax"
   ]
  },
  {
   "cell_type": "code",
   "execution_count": 37,
   "id": "5f3333b4",
   "metadata": {},
   "outputs": [
    {
     "data": {
      "text/plain": [
       "3.354055654233274"
      ]
     },
     "execution_count": 37,
     "metadata": {},
     "output_type": "execute_result"
    }
   ],
   "source": [
    "error=11.33*100/337.8\n",
    "error"
   ]
  },
  {
   "cell_type": "markdown",
   "id": "63065192",
   "metadata": {},
   "source": [
    "#### From the above value of error\n",
    "#### error=3.35% . is less then 5%,  Because of this model is acceptable "
   ]
  },
  {
   "cell_type": "markdown",
   "id": "42abfea7",
   "metadata": {},
   "source": [
    "# Forecasting based on multiple models,like addive ,quadratic,quadratic with additive trend"
   ]
  },
  {
   "cell_type": "code",
   "execution_count": 38,
   "id": "651a2e3d",
   "metadata": {},
   "outputs": [
    {
     "data": {
      "text/html": [
       "<div>\n",
       "<style scoped>\n",
       "    .dataframe tbody tr th:only-of-type {\n",
       "        vertical-align: middle;\n",
       "    }\n",
       "\n",
       "    .dataframe tbody tr th {\n",
       "        vertical-align: top;\n",
       "    }\n",
       "\n",
       "    .dataframe thead th {\n",
       "        text-align: right;\n",
       "    }\n",
       "</style>\n",
       "<table border=\"1\" class=\"dataframe\">\n",
       "  <thead>\n",
       "    <tr style=\"text-align: right;\">\n",
       "      <th></th>\n",
       "      <th>Month</th>\n",
       "      <th>Passengers</th>\n",
       "      <th>Jan</th>\n",
       "      <th>Feb</th>\n",
       "      <th>Mar</th>\n",
       "      <th>apr</th>\n",
       "      <th>may</th>\n",
       "      <th>jun</th>\n",
       "      <th>jul</th>\n",
       "      <th>aug</th>\n",
       "      <th>sep</th>\n",
       "      <th>oct</th>\n",
       "      <th>nov</th>\n",
       "      <th>Dec</th>\n",
       "    </tr>\n",
       "  </thead>\n",
       "  <tbody>\n",
       "    <tr>\n",
       "      <th>0</th>\n",
       "      <td>Jan-95</td>\n",
       "      <td>112</td>\n",
       "      <td>1</td>\n",
       "      <td>0</td>\n",
       "      <td>0</td>\n",
       "      <td>0</td>\n",
       "      <td>0</td>\n",
       "      <td>0</td>\n",
       "      <td>0</td>\n",
       "      <td>0</td>\n",
       "      <td>0</td>\n",
       "      <td>0</td>\n",
       "      <td>0</td>\n",
       "      <td>0</td>\n",
       "    </tr>\n",
       "    <tr>\n",
       "      <th>1</th>\n",
       "      <td>Feb-95</td>\n",
       "      <td>118</td>\n",
       "      <td>0</td>\n",
       "      <td>1</td>\n",
       "      <td>0</td>\n",
       "      <td>0</td>\n",
       "      <td>0</td>\n",
       "      <td>0</td>\n",
       "      <td>0</td>\n",
       "      <td>0</td>\n",
       "      <td>0</td>\n",
       "      <td>0</td>\n",
       "      <td>0</td>\n",
       "      <td>0</td>\n",
       "    </tr>\n",
       "    <tr>\n",
       "      <th>2</th>\n",
       "      <td>Mar-95</td>\n",
       "      <td>132</td>\n",
       "      <td>0</td>\n",
       "      <td>0</td>\n",
       "      <td>1</td>\n",
       "      <td>0</td>\n",
       "      <td>0</td>\n",
       "      <td>0</td>\n",
       "      <td>0</td>\n",
       "      <td>0</td>\n",
       "      <td>0</td>\n",
       "      <td>0</td>\n",
       "      <td>0</td>\n",
       "      <td>0</td>\n",
       "    </tr>\n",
       "    <tr>\n",
       "      <th>3</th>\n",
       "      <td>Apr-95</td>\n",
       "      <td>129</td>\n",
       "      <td>0</td>\n",
       "      <td>0</td>\n",
       "      <td>0</td>\n",
       "      <td>1</td>\n",
       "      <td>0</td>\n",
       "      <td>0</td>\n",
       "      <td>0</td>\n",
       "      <td>0</td>\n",
       "      <td>0</td>\n",
       "      <td>0</td>\n",
       "      <td>0</td>\n",
       "      <td>0</td>\n",
       "    </tr>\n",
       "    <tr>\n",
       "      <th>4</th>\n",
       "      <td>May-95</td>\n",
       "      <td>121</td>\n",
       "      <td>0</td>\n",
       "      <td>0</td>\n",
       "      <td>0</td>\n",
       "      <td>0</td>\n",
       "      <td>1</td>\n",
       "      <td>0</td>\n",
       "      <td>0</td>\n",
       "      <td>0</td>\n",
       "      <td>0</td>\n",
       "      <td>0</td>\n",
       "      <td>0</td>\n",
       "      <td>0</td>\n",
       "    </tr>\n",
       "  </tbody>\n",
       "</table>\n",
       "</div>"
      ],
      "text/plain": [
       "    Month  Passengers  Jan  Feb  Mar  apr  may  jun  jul  aug  sep  oct  nov  \\\n",
       "0  Jan-95         112    1    0    0    0    0    0    0    0    0    0    0   \n",
       "1  Feb-95         118    0    1    0    0    0    0    0    0    0    0    0   \n",
       "2  Mar-95         132    0    0    1    0    0    0    0    0    0    0    0   \n",
       "3  Apr-95         129    0    0    0    1    0    0    0    0    0    0    0   \n",
       "4  May-95         121    0    0    0    0    1    0    0    0    0    0    0   \n",
       "\n",
       "   Dec  \n",
       "0    0  \n",
       "1    0  \n",
       "2    0  \n",
       "3    0  \n",
       "4    0  "
      ]
     },
     "execution_count": 38,
     "metadata": {},
     "output_type": "execute_result"
    }
   ],
   "source": [
    "df=pd.read_csv('Airlines+Data1.csv')\n",
    "df.head()"
   ]
  },
  {
   "cell_type": "code",
   "execution_count": 39,
   "id": "abf3f23e",
   "metadata": {},
   "outputs": [
    {
     "data": {
      "text/plain": [
       "(96, 14)"
      ]
     },
     "execution_count": 39,
     "metadata": {},
     "output_type": "execute_result"
    }
   ],
   "source": [
    "df.shape"
   ]
  },
  {
   "cell_type": "code",
   "execution_count": 40,
   "id": "a06e9285",
   "metadata": {
    "scrolled": true
   },
   "outputs": [
    {
     "data": {
      "text/plain": [
       "DatetimeIndex(['1995-01-01', '1995-02-01', '1995-03-01', '1995-04-01',\n",
       "               '1995-05-01', '1995-06-01', '1995-07-01', '1995-08-01',\n",
       "               '1995-09-01', '1995-10-01', '1995-11-01', '1995-12-01',\n",
       "               '1996-01-01', '1996-02-01', '1996-03-01', '1996-04-01',\n",
       "               '1996-05-01', '1996-06-01', '1996-07-01', '1996-08-01',\n",
       "               '1996-09-01', '1996-10-01', '1996-11-01', '1996-12-01',\n",
       "               '1997-01-01', '1997-02-01', '1997-03-01', '1997-04-01',\n",
       "               '1997-05-01', '1997-06-01', '1997-07-01', '1997-08-01',\n",
       "               '1997-09-01', '1997-10-01', '1997-11-01', '1997-12-01',\n",
       "               '1998-01-01', '1998-02-01', '1998-03-01', '1998-04-01',\n",
       "               '1998-05-01', '1998-06-01', '1998-07-01', '1998-08-01',\n",
       "               '1998-09-01', '1998-10-01', '1998-11-01', '1998-12-01',\n",
       "               '1999-01-01', '1999-02-01', '1999-03-01', '1999-04-01',\n",
       "               '1999-05-01', '1999-06-01', '1999-07-01', '1999-08-01',\n",
       "               '1999-09-01', '1999-10-01', '1999-11-01', '1999-12-01',\n",
       "               '2000-01-01', '2000-02-01', '2000-03-01', '2000-04-01',\n",
       "               '2000-05-01', '2000-06-01', '2000-07-01', '2000-08-01',\n",
       "               '2000-09-01', '2000-10-01', '2000-11-01', '2000-12-01',\n",
       "               '2001-01-01', '2001-02-01', '2001-03-01', '2001-04-01',\n",
       "               '2001-05-01', '2001-06-01', '2001-07-01', '2001-08-01',\n",
       "               '2001-09-01', '2001-10-01', '2001-11-01', '2001-12-01',\n",
       "               '2002-01-01', '2002-02-01', '2002-03-01', '2002-04-01',\n",
       "               '2002-05-01', '2002-06-01', '2002-07-01', '2002-08-01',\n",
       "               '2002-09-01', '2002-10-01', '2002-11-01', '2002-12-01'],\n",
       "              dtype='datetime64[ns]', freq='MS')"
      ]
     },
     "execution_count": 40,
     "metadata": {},
     "output_type": "execute_result"
    }
   ],
   "source": [
    "# create a daterange object starting from january 1995 forthe next 96 months\n",
    "date =pd.date_range(start='1995-01-01', periods=96,freq='MS')\n",
    "date"
   ]
  },
  {
   "cell_type": "code",
   "execution_count": 41,
   "id": "70523fd9",
   "metadata": {},
   "outputs": [
    {
     "data": {
      "text/html": [
       "<div>\n",
       "<style scoped>\n",
       "    .dataframe tbody tr th:only-of-type {\n",
       "        vertical-align: middle;\n",
       "    }\n",
       "\n",
       "    .dataframe tbody tr th {\n",
       "        vertical-align: top;\n",
       "    }\n",
       "\n",
       "    .dataframe thead th {\n",
       "        text-align: right;\n",
       "    }\n",
       "</style>\n",
       "<table border=\"1\" class=\"dataframe\">\n",
       "  <thead>\n",
       "    <tr style=\"text-align: right;\">\n",
       "      <th></th>\n",
       "      <th>Month</th>\n",
       "      <th>Passengers</th>\n",
       "      <th>Jan</th>\n",
       "      <th>Feb</th>\n",
       "      <th>Mar</th>\n",
       "      <th>apr</th>\n",
       "      <th>may</th>\n",
       "      <th>jun</th>\n",
       "      <th>jul</th>\n",
       "      <th>aug</th>\n",
       "      <th>sep</th>\n",
       "      <th>oct</th>\n",
       "      <th>nov</th>\n",
       "      <th>Dec</th>\n",
       "    </tr>\n",
       "  </thead>\n",
       "  <tbody>\n",
       "    <tr>\n",
       "      <th>0</th>\n",
       "      <td>1995-01-01</td>\n",
       "      <td>112</td>\n",
       "      <td>1</td>\n",
       "      <td>0</td>\n",
       "      <td>0</td>\n",
       "      <td>0</td>\n",
       "      <td>0</td>\n",
       "      <td>0</td>\n",
       "      <td>0</td>\n",
       "      <td>0</td>\n",
       "      <td>0</td>\n",
       "      <td>0</td>\n",
       "      <td>0</td>\n",
       "      <td>0</td>\n",
       "    </tr>\n",
       "    <tr>\n",
       "      <th>1</th>\n",
       "      <td>1995-02-01</td>\n",
       "      <td>118</td>\n",
       "      <td>0</td>\n",
       "      <td>1</td>\n",
       "      <td>0</td>\n",
       "      <td>0</td>\n",
       "      <td>0</td>\n",
       "      <td>0</td>\n",
       "      <td>0</td>\n",
       "      <td>0</td>\n",
       "      <td>0</td>\n",
       "      <td>0</td>\n",
       "      <td>0</td>\n",
       "      <td>0</td>\n",
       "    </tr>\n",
       "    <tr>\n",
       "      <th>2</th>\n",
       "      <td>1995-03-01</td>\n",
       "      <td>132</td>\n",
       "      <td>0</td>\n",
       "      <td>0</td>\n",
       "      <td>1</td>\n",
       "      <td>0</td>\n",
       "      <td>0</td>\n",
       "      <td>0</td>\n",
       "      <td>0</td>\n",
       "      <td>0</td>\n",
       "      <td>0</td>\n",
       "      <td>0</td>\n",
       "      <td>0</td>\n",
       "      <td>0</td>\n",
       "    </tr>\n",
       "    <tr>\n",
       "      <th>3</th>\n",
       "      <td>1995-04-01</td>\n",
       "      <td>129</td>\n",
       "      <td>0</td>\n",
       "      <td>0</td>\n",
       "      <td>0</td>\n",
       "      <td>1</td>\n",
       "      <td>0</td>\n",
       "      <td>0</td>\n",
       "      <td>0</td>\n",
       "      <td>0</td>\n",
       "      <td>0</td>\n",
       "      <td>0</td>\n",
       "      <td>0</td>\n",
       "      <td>0</td>\n",
       "    </tr>\n",
       "    <tr>\n",
       "      <th>4</th>\n",
       "      <td>1995-05-01</td>\n",
       "      <td>121</td>\n",
       "      <td>0</td>\n",
       "      <td>0</td>\n",
       "      <td>0</td>\n",
       "      <td>0</td>\n",
       "      <td>1</td>\n",
       "      <td>0</td>\n",
       "      <td>0</td>\n",
       "      <td>0</td>\n",
       "      <td>0</td>\n",
       "      <td>0</td>\n",
       "      <td>0</td>\n",
       "      <td>0</td>\n",
       "    </tr>\n",
       "  </tbody>\n",
       "</table>\n",
       "</div>"
      ],
      "text/plain": [
       "       Month  Passengers  Jan  Feb  Mar  apr  may  jun  jul  aug  sep  oct  \\\n",
       "0 1995-01-01         112    1    0    0    0    0    0    0    0    0    0   \n",
       "1 1995-02-01         118    0    1    0    0    0    0    0    0    0    0   \n",
       "2 1995-03-01         132    0    0    1    0    0    0    0    0    0    0   \n",
       "3 1995-04-01         129    0    0    0    1    0    0    0    0    0    0   \n",
       "4 1995-05-01         121    0    0    0    0    1    0    0    0    0    0   \n",
       "\n",
       "   nov  Dec  \n",
       "0    0    0  \n",
       "1    0    0  \n",
       "2    0    0  \n",
       "3    0    0  \n",
       "4    0    0  "
      ]
     },
     "execution_count": 41,
     "metadata": {},
     "output_type": "execute_result"
    }
   ],
   "source": [
    "df['Month']=date\n",
    "df.head()"
   ]
  },
  {
   "cell_type": "code",
   "execution_count": 42,
   "id": "af74b6be",
   "metadata": {},
   "outputs": [],
   "source": [
    "df=df.set_index('Month')"
   ]
  },
  {
   "cell_type": "code",
   "execution_count": 43,
   "id": "b4a00a01",
   "metadata": {},
   "outputs": [
    {
     "data": {
      "text/html": [
       "<div>\n",
       "<style scoped>\n",
       "    .dataframe tbody tr th:only-of-type {\n",
       "        vertical-align: middle;\n",
       "    }\n",
       "\n",
       "    .dataframe tbody tr th {\n",
       "        vertical-align: top;\n",
       "    }\n",
       "\n",
       "    .dataframe thead th {\n",
       "        text-align: right;\n",
       "    }\n",
       "</style>\n",
       "<table border=\"1\" class=\"dataframe\">\n",
       "  <thead>\n",
       "    <tr style=\"text-align: right;\">\n",
       "      <th></th>\n",
       "      <th>Passengers</th>\n",
       "      <th>Jan</th>\n",
       "      <th>Feb</th>\n",
       "      <th>Mar</th>\n",
       "      <th>apr</th>\n",
       "      <th>may</th>\n",
       "      <th>jun</th>\n",
       "      <th>jul</th>\n",
       "      <th>aug</th>\n",
       "      <th>sep</th>\n",
       "      <th>oct</th>\n",
       "      <th>nov</th>\n",
       "      <th>Dec</th>\n",
       "    </tr>\n",
       "    <tr>\n",
       "      <th>Month</th>\n",
       "      <th></th>\n",
       "      <th></th>\n",
       "      <th></th>\n",
       "      <th></th>\n",
       "      <th></th>\n",
       "      <th></th>\n",
       "      <th></th>\n",
       "      <th></th>\n",
       "      <th></th>\n",
       "      <th></th>\n",
       "      <th></th>\n",
       "      <th></th>\n",
       "      <th></th>\n",
       "    </tr>\n",
       "  </thead>\n",
       "  <tbody>\n",
       "    <tr>\n",
       "      <th>1995-01-01</th>\n",
       "      <td>112</td>\n",
       "      <td>1</td>\n",
       "      <td>0</td>\n",
       "      <td>0</td>\n",
       "      <td>0</td>\n",
       "      <td>0</td>\n",
       "      <td>0</td>\n",
       "      <td>0</td>\n",
       "      <td>0</td>\n",
       "      <td>0</td>\n",
       "      <td>0</td>\n",
       "      <td>0</td>\n",
       "      <td>0</td>\n",
       "    </tr>\n",
       "    <tr>\n",
       "      <th>1995-02-01</th>\n",
       "      <td>118</td>\n",
       "      <td>0</td>\n",
       "      <td>1</td>\n",
       "      <td>0</td>\n",
       "      <td>0</td>\n",
       "      <td>0</td>\n",
       "      <td>0</td>\n",
       "      <td>0</td>\n",
       "      <td>0</td>\n",
       "      <td>0</td>\n",
       "      <td>0</td>\n",
       "      <td>0</td>\n",
       "      <td>0</td>\n",
       "    </tr>\n",
       "    <tr>\n",
       "      <th>1995-03-01</th>\n",
       "      <td>132</td>\n",
       "      <td>0</td>\n",
       "      <td>0</td>\n",
       "      <td>1</td>\n",
       "      <td>0</td>\n",
       "      <td>0</td>\n",
       "      <td>0</td>\n",
       "      <td>0</td>\n",
       "      <td>0</td>\n",
       "      <td>0</td>\n",
       "      <td>0</td>\n",
       "      <td>0</td>\n",
       "      <td>0</td>\n",
       "    </tr>\n",
       "    <tr>\n",
       "      <th>1995-04-01</th>\n",
       "      <td>129</td>\n",
       "      <td>0</td>\n",
       "      <td>0</td>\n",
       "      <td>0</td>\n",
       "      <td>1</td>\n",
       "      <td>0</td>\n",
       "      <td>0</td>\n",
       "      <td>0</td>\n",
       "      <td>0</td>\n",
       "      <td>0</td>\n",
       "      <td>0</td>\n",
       "      <td>0</td>\n",
       "      <td>0</td>\n",
       "    </tr>\n",
       "    <tr>\n",
       "      <th>1995-05-01</th>\n",
       "      <td>121</td>\n",
       "      <td>0</td>\n",
       "      <td>0</td>\n",
       "      <td>0</td>\n",
       "      <td>0</td>\n",
       "      <td>1</td>\n",
       "      <td>0</td>\n",
       "      <td>0</td>\n",
       "      <td>0</td>\n",
       "      <td>0</td>\n",
       "      <td>0</td>\n",
       "      <td>0</td>\n",
       "      <td>0</td>\n",
       "    </tr>\n",
       "  </tbody>\n",
       "</table>\n",
       "</div>"
      ],
      "text/plain": [
       "            Passengers  Jan  Feb  Mar  apr  may  jun  jul  aug  sep  oct  nov  \\\n",
       "Month                                                                           \n",
       "1995-01-01         112    1    0    0    0    0    0    0    0    0    0    0   \n",
       "1995-02-01         118    0    1    0    0    0    0    0    0    0    0    0   \n",
       "1995-03-01         132    0    0    1    0    0    0    0    0    0    0    0   \n",
       "1995-04-01         129    0    0    0    1    0    0    0    0    0    0    0   \n",
       "1995-05-01         121    0    0    0    0    1    0    0    0    0    0    0   \n",
       "\n",
       "            Dec  \n",
       "Month            \n",
       "1995-01-01    0  \n",
       "1995-02-01    0  \n",
       "1995-03-01    0  \n",
       "1995-04-01    0  \n",
       "1995-05-01    0  "
      ]
     },
     "execution_count": 43,
     "metadata": {},
     "output_type": "execute_result"
    }
   ],
   "source": [
    "df.head()"
   ]
  },
  {
   "cell_type": "code",
   "execution_count": 44,
   "id": "b682b50a",
   "metadata": {},
   "outputs": [],
   "source": [
    "t=np.arange(1,97)"
   ]
  },
  {
   "cell_type": "code",
   "execution_count": 45,
   "id": "150478a6",
   "metadata": {},
   "outputs": [],
   "source": [
    "df['t']=t"
   ]
  },
  {
   "cell_type": "code",
   "execution_count": 46,
   "id": "83b61561",
   "metadata": {},
   "outputs": [],
   "source": [
    "df['t_sq']=df['t']*df['t']"
   ]
  },
  {
   "cell_type": "code",
   "execution_count": 47,
   "id": "96165c67",
   "metadata": {},
   "outputs": [
    {
     "data": {
      "text/html": [
       "<div>\n",
       "<style scoped>\n",
       "    .dataframe tbody tr th:only-of-type {\n",
       "        vertical-align: middle;\n",
       "    }\n",
       "\n",
       "    .dataframe tbody tr th {\n",
       "        vertical-align: top;\n",
       "    }\n",
       "\n",
       "    .dataframe thead th {\n",
       "        text-align: right;\n",
       "    }\n",
       "</style>\n",
       "<table border=\"1\" class=\"dataframe\">\n",
       "  <thead>\n",
       "    <tr style=\"text-align: right;\">\n",
       "      <th></th>\n",
       "      <th>Passengers</th>\n",
       "      <th>Jan</th>\n",
       "      <th>Feb</th>\n",
       "      <th>Mar</th>\n",
       "      <th>apr</th>\n",
       "      <th>may</th>\n",
       "      <th>jun</th>\n",
       "      <th>jul</th>\n",
       "      <th>aug</th>\n",
       "      <th>sep</th>\n",
       "      <th>oct</th>\n",
       "      <th>nov</th>\n",
       "      <th>Dec</th>\n",
       "      <th>t</th>\n",
       "      <th>t_sq</th>\n",
       "    </tr>\n",
       "    <tr>\n",
       "      <th>Month</th>\n",
       "      <th></th>\n",
       "      <th></th>\n",
       "      <th></th>\n",
       "      <th></th>\n",
       "      <th></th>\n",
       "      <th></th>\n",
       "      <th></th>\n",
       "      <th></th>\n",
       "      <th></th>\n",
       "      <th></th>\n",
       "      <th></th>\n",
       "      <th></th>\n",
       "      <th></th>\n",
       "      <th></th>\n",
       "      <th></th>\n",
       "    </tr>\n",
       "  </thead>\n",
       "  <tbody>\n",
       "    <tr>\n",
       "      <th>1995-01-01</th>\n",
       "      <td>112</td>\n",
       "      <td>1</td>\n",
       "      <td>0</td>\n",
       "      <td>0</td>\n",
       "      <td>0</td>\n",
       "      <td>0</td>\n",
       "      <td>0</td>\n",
       "      <td>0</td>\n",
       "      <td>0</td>\n",
       "      <td>0</td>\n",
       "      <td>0</td>\n",
       "      <td>0</td>\n",
       "      <td>0</td>\n",
       "      <td>1</td>\n",
       "      <td>1</td>\n",
       "    </tr>\n",
       "    <tr>\n",
       "      <th>1995-02-01</th>\n",
       "      <td>118</td>\n",
       "      <td>0</td>\n",
       "      <td>1</td>\n",
       "      <td>0</td>\n",
       "      <td>0</td>\n",
       "      <td>0</td>\n",
       "      <td>0</td>\n",
       "      <td>0</td>\n",
       "      <td>0</td>\n",
       "      <td>0</td>\n",
       "      <td>0</td>\n",
       "      <td>0</td>\n",
       "      <td>0</td>\n",
       "      <td>2</td>\n",
       "      <td>4</td>\n",
       "    </tr>\n",
       "    <tr>\n",
       "      <th>1995-03-01</th>\n",
       "      <td>132</td>\n",
       "      <td>0</td>\n",
       "      <td>0</td>\n",
       "      <td>1</td>\n",
       "      <td>0</td>\n",
       "      <td>0</td>\n",
       "      <td>0</td>\n",
       "      <td>0</td>\n",
       "      <td>0</td>\n",
       "      <td>0</td>\n",
       "      <td>0</td>\n",
       "      <td>0</td>\n",
       "      <td>0</td>\n",
       "      <td>3</td>\n",
       "      <td>9</td>\n",
       "    </tr>\n",
       "    <tr>\n",
       "      <th>1995-04-01</th>\n",
       "      <td>129</td>\n",
       "      <td>0</td>\n",
       "      <td>0</td>\n",
       "      <td>0</td>\n",
       "      <td>1</td>\n",
       "      <td>0</td>\n",
       "      <td>0</td>\n",
       "      <td>0</td>\n",
       "      <td>0</td>\n",
       "      <td>0</td>\n",
       "      <td>0</td>\n",
       "      <td>0</td>\n",
       "      <td>0</td>\n",
       "      <td>4</td>\n",
       "      <td>16</td>\n",
       "    </tr>\n",
       "    <tr>\n",
       "      <th>1995-05-01</th>\n",
       "      <td>121</td>\n",
       "      <td>0</td>\n",
       "      <td>0</td>\n",
       "      <td>0</td>\n",
       "      <td>0</td>\n",
       "      <td>1</td>\n",
       "      <td>0</td>\n",
       "      <td>0</td>\n",
       "      <td>0</td>\n",
       "      <td>0</td>\n",
       "      <td>0</td>\n",
       "      <td>0</td>\n",
       "      <td>0</td>\n",
       "      <td>5</td>\n",
       "      <td>25</td>\n",
       "    </tr>\n",
       "  </tbody>\n",
       "</table>\n",
       "</div>"
      ],
      "text/plain": [
       "            Passengers  Jan  Feb  Mar  apr  may  jun  jul  aug  sep  oct  nov  \\\n",
       "Month                                                                           \n",
       "1995-01-01         112    1    0    0    0    0    0    0    0    0    0    0   \n",
       "1995-02-01         118    0    1    0    0    0    0    0    0    0    0    0   \n",
       "1995-03-01         132    0    0    1    0    0    0    0    0    0    0    0   \n",
       "1995-04-01         129    0    0    0    1    0    0    0    0    0    0    0   \n",
       "1995-05-01         121    0    0    0    0    1    0    0    0    0    0    0   \n",
       "\n",
       "            Dec  t  t_sq  \n",
       "Month                     \n",
       "1995-01-01    0  1     1  \n",
       "1995-02-01    0  2     4  \n",
       "1995-03-01    0  3     9  \n",
       "1995-04-01    0  4    16  \n",
       "1995-05-01    0  5    25  "
      ]
     },
     "execution_count": 47,
     "metadata": {},
     "output_type": "execute_result"
    }
   ],
   "source": [
    "df.head()"
   ]
  },
  {
   "cell_type": "code",
   "execution_count": 48,
   "id": "5c626f9b",
   "metadata": {},
   "outputs": [],
   "source": [
    "log_pass=np.log(df['Passengers'])\n",
    "df['log_pass']=log_pass"
   ]
  },
  {
   "cell_type": "code",
   "execution_count": 49,
   "id": "a0485c26",
   "metadata": {},
   "outputs": [
    {
     "data": {
      "text/html": [
       "<div>\n",
       "<style scoped>\n",
       "    .dataframe tbody tr th:only-of-type {\n",
       "        vertical-align: middle;\n",
       "    }\n",
       "\n",
       "    .dataframe tbody tr th {\n",
       "        vertical-align: top;\n",
       "    }\n",
       "\n",
       "    .dataframe thead th {\n",
       "        text-align: right;\n",
       "    }\n",
       "</style>\n",
       "<table border=\"1\" class=\"dataframe\">\n",
       "  <thead>\n",
       "    <tr style=\"text-align: right;\">\n",
       "      <th></th>\n",
       "      <th>Passengers</th>\n",
       "      <th>Jan</th>\n",
       "      <th>Feb</th>\n",
       "      <th>Mar</th>\n",
       "      <th>apr</th>\n",
       "      <th>may</th>\n",
       "      <th>jun</th>\n",
       "      <th>jul</th>\n",
       "      <th>aug</th>\n",
       "      <th>sep</th>\n",
       "      <th>oct</th>\n",
       "      <th>nov</th>\n",
       "      <th>Dec</th>\n",
       "      <th>t</th>\n",
       "      <th>t_sq</th>\n",
       "      <th>log_pass</th>\n",
       "    </tr>\n",
       "    <tr>\n",
       "      <th>Month</th>\n",
       "      <th></th>\n",
       "      <th></th>\n",
       "      <th></th>\n",
       "      <th></th>\n",
       "      <th></th>\n",
       "      <th></th>\n",
       "      <th></th>\n",
       "      <th></th>\n",
       "      <th></th>\n",
       "      <th></th>\n",
       "      <th></th>\n",
       "      <th></th>\n",
       "      <th></th>\n",
       "      <th></th>\n",
       "      <th></th>\n",
       "      <th></th>\n",
       "    </tr>\n",
       "  </thead>\n",
       "  <tbody>\n",
       "    <tr>\n",
       "      <th>1995-01-01</th>\n",
       "      <td>112</td>\n",
       "      <td>1</td>\n",
       "      <td>0</td>\n",
       "      <td>0</td>\n",
       "      <td>0</td>\n",
       "      <td>0</td>\n",
       "      <td>0</td>\n",
       "      <td>0</td>\n",
       "      <td>0</td>\n",
       "      <td>0</td>\n",
       "      <td>0</td>\n",
       "      <td>0</td>\n",
       "      <td>0</td>\n",
       "      <td>1</td>\n",
       "      <td>1</td>\n",
       "      <td>4.718499</td>\n",
       "    </tr>\n",
       "    <tr>\n",
       "      <th>1995-02-01</th>\n",
       "      <td>118</td>\n",
       "      <td>0</td>\n",
       "      <td>1</td>\n",
       "      <td>0</td>\n",
       "      <td>0</td>\n",
       "      <td>0</td>\n",
       "      <td>0</td>\n",
       "      <td>0</td>\n",
       "      <td>0</td>\n",
       "      <td>0</td>\n",
       "      <td>0</td>\n",
       "      <td>0</td>\n",
       "      <td>0</td>\n",
       "      <td>2</td>\n",
       "      <td>4</td>\n",
       "      <td>4.770685</td>\n",
       "    </tr>\n",
       "    <tr>\n",
       "      <th>1995-03-01</th>\n",
       "      <td>132</td>\n",
       "      <td>0</td>\n",
       "      <td>0</td>\n",
       "      <td>1</td>\n",
       "      <td>0</td>\n",
       "      <td>0</td>\n",
       "      <td>0</td>\n",
       "      <td>0</td>\n",
       "      <td>0</td>\n",
       "      <td>0</td>\n",
       "      <td>0</td>\n",
       "      <td>0</td>\n",
       "      <td>0</td>\n",
       "      <td>3</td>\n",
       "      <td>9</td>\n",
       "      <td>4.882802</td>\n",
       "    </tr>\n",
       "    <tr>\n",
       "      <th>1995-04-01</th>\n",
       "      <td>129</td>\n",
       "      <td>0</td>\n",
       "      <td>0</td>\n",
       "      <td>0</td>\n",
       "      <td>1</td>\n",
       "      <td>0</td>\n",
       "      <td>0</td>\n",
       "      <td>0</td>\n",
       "      <td>0</td>\n",
       "      <td>0</td>\n",
       "      <td>0</td>\n",
       "      <td>0</td>\n",
       "      <td>0</td>\n",
       "      <td>4</td>\n",
       "      <td>16</td>\n",
       "      <td>4.859812</td>\n",
       "    </tr>\n",
       "    <tr>\n",
       "      <th>1995-05-01</th>\n",
       "      <td>121</td>\n",
       "      <td>0</td>\n",
       "      <td>0</td>\n",
       "      <td>0</td>\n",
       "      <td>0</td>\n",
       "      <td>1</td>\n",
       "      <td>0</td>\n",
       "      <td>0</td>\n",
       "      <td>0</td>\n",
       "      <td>0</td>\n",
       "      <td>0</td>\n",
       "      <td>0</td>\n",
       "      <td>0</td>\n",
       "      <td>5</td>\n",
       "      <td>25</td>\n",
       "      <td>4.795791</td>\n",
       "    </tr>\n",
       "  </tbody>\n",
       "</table>\n",
       "</div>"
      ],
      "text/plain": [
       "            Passengers  Jan  Feb  Mar  apr  may  jun  jul  aug  sep  oct  nov  \\\n",
       "Month                                                                           \n",
       "1995-01-01         112    1    0    0    0    0    0    0    0    0    0    0   \n",
       "1995-02-01         118    0    1    0    0    0    0    0    0    0    0    0   \n",
       "1995-03-01         132    0    0    1    0    0    0    0    0    0    0    0   \n",
       "1995-04-01         129    0    0    0    1    0    0    0    0    0    0    0   \n",
       "1995-05-01         121    0    0    0    0    1    0    0    0    0    0    0   \n",
       "\n",
       "            Dec  t  t_sq  log_pass  \n",
       "Month                               \n",
       "1995-01-01    0  1     1  4.718499  \n",
       "1995-02-01    0  2     4  4.770685  \n",
       "1995-03-01    0  3     9  4.882802  \n",
       "1995-04-01    0  4    16  4.859812  \n",
       "1995-05-01    0  5    25  4.795791  "
      ]
     },
     "execution_count": 49,
     "metadata": {},
     "output_type": "execute_result"
    }
   ],
   "source": [
    "df.head()"
   ]
  },
  {
   "cell_type": "code",
   "execution_count": 50,
   "id": "f0a1c6bb",
   "metadata": {},
   "outputs": [
    {
     "data": {
      "image/png": "[encoded data removed]",
      "text/plain": [
       "<Figure size 864x360 with 1 Axes>"
      ]
     },
     "metadata": {},
     "output_type": "display_data"
    }
   ],
   "source": [
    "# plot the timeseries\n",
    "df['Passengers'].plot(figsize=(12, 5), title='Passangers');"
   ]
  },
  {
   "cell_type": "code",
   "execution_count": 51,
   "id": "ec5aba18",
   "metadata": {},
   "outputs": [
    {
     "data": {
      "text/html": [
       "<div>\n",
       "<style scoped>\n",
       "    .dataframe tbody tr th:only-of-type {\n",
       "        vertical-align: middle;\n",
       "    }\n",
       "\n",
       "    .dataframe tbody tr th {\n",
       "        vertical-align: top;\n",
       "    }\n",
       "\n",
       "    .dataframe thead th {\n",
       "        text-align: right;\n",
       "    }\n",
       "</style>\n",
       "<table border=\"1\" class=\"dataframe\">\n",
       "  <thead>\n",
       "    <tr style=\"text-align: right;\">\n",
       "      <th>Month</th>\n",
       "      <th>1</th>\n",
       "      <th>2</th>\n",
       "      <th>3</th>\n",
       "      <th>4</th>\n",
       "      <th>5</th>\n",
       "      <th>6</th>\n",
       "      <th>7</th>\n",
       "      <th>8</th>\n",
       "      <th>9</th>\n",
       "      <th>10</th>\n",
       "      <th>11</th>\n",
       "      <th>12</th>\n",
       "    </tr>\n",
       "    <tr>\n",
       "      <th>Month</th>\n",
       "      <th></th>\n",
       "      <th></th>\n",
       "      <th></th>\n",
       "      <th></th>\n",
       "      <th></th>\n",
       "      <th></th>\n",
       "      <th></th>\n",
       "      <th></th>\n",
       "      <th></th>\n",
       "      <th></th>\n",
       "      <th></th>\n",
       "      <th></th>\n",
       "    </tr>\n",
       "  </thead>\n",
       "  <tbody>\n",
       "    <tr>\n",
       "      <th>1995</th>\n",
       "      <td>112</td>\n",
       "      <td>118</td>\n",
       "      <td>132</td>\n",
       "      <td>129</td>\n",
       "      <td>121</td>\n",
       "      <td>135</td>\n",
       "      <td>148</td>\n",
       "      <td>148</td>\n",
       "      <td>136</td>\n",
       "      <td>119</td>\n",
       "      <td>104</td>\n",
       "      <td>118</td>\n",
       "    </tr>\n",
       "    <tr>\n",
       "      <th>1996</th>\n",
       "      <td>115</td>\n",
       "      <td>126</td>\n",
       "      <td>141</td>\n",
       "      <td>135</td>\n",
       "      <td>125</td>\n",
       "      <td>149</td>\n",
       "      <td>170</td>\n",
       "      <td>170</td>\n",
       "      <td>158</td>\n",
       "      <td>133</td>\n",
       "      <td>114</td>\n",
       "      <td>140</td>\n",
       "    </tr>\n",
       "    <tr>\n",
       "      <th>1997</th>\n",
       "      <td>145</td>\n",
       "      <td>150</td>\n",
       "      <td>178</td>\n",
       "      <td>163</td>\n",
       "      <td>172</td>\n",
       "      <td>178</td>\n",
       "      <td>199</td>\n",
       "      <td>199</td>\n",
       "      <td>184</td>\n",
       "      <td>162</td>\n",
       "      <td>146</td>\n",
       "      <td>166</td>\n",
       "    </tr>\n",
       "    <tr>\n",
       "      <th>1998</th>\n",
       "      <td>171</td>\n",
       "      <td>180</td>\n",
       "      <td>193</td>\n",
       "      <td>181</td>\n",
       "      <td>183</td>\n",
       "      <td>218</td>\n",
       "      <td>230</td>\n",
       "      <td>242</td>\n",
       "      <td>209</td>\n",
       "      <td>191</td>\n",
       "      <td>172</td>\n",
       "      <td>194</td>\n",
       "    </tr>\n",
       "    <tr>\n",
       "      <th>1999</th>\n",
       "      <td>196</td>\n",
       "      <td>196</td>\n",
       "      <td>236</td>\n",
       "      <td>235</td>\n",
       "      <td>229</td>\n",
       "      <td>243</td>\n",
       "      <td>264</td>\n",
       "      <td>272</td>\n",
       "      <td>237</td>\n",
       "      <td>211</td>\n",
       "      <td>180</td>\n",
       "      <td>201</td>\n",
       "    </tr>\n",
       "    <tr>\n",
       "      <th>2000</th>\n",
       "      <td>204</td>\n",
       "      <td>188</td>\n",
       "      <td>235</td>\n",
       "      <td>227</td>\n",
       "      <td>234</td>\n",
       "      <td>264</td>\n",
       "      <td>302</td>\n",
       "      <td>293</td>\n",
       "      <td>259</td>\n",
       "      <td>229</td>\n",
       "      <td>203</td>\n",
       "      <td>229</td>\n",
       "    </tr>\n",
       "    <tr>\n",
       "      <th>2001</th>\n",
       "      <td>242</td>\n",
       "      <td>233</td>\n",
       "      <td>267</td>\n",
       "      <td>269</td>\n",
       "      <td>270</td>\n",
       "      <td>315</td>\n",
       "      <td>364</td>\n",
       "      <td>347</td>\n",
       "      <td>312</td>\n",
       "      <td>274</td>\n",
       "      <td>237</td>\n",
       "      <td>278</td>\n",
       "    </tr>\n",
       "    <tr>\n",
       "      <th>2002</th>\n",
       "      <td>284</td>\n",
       "      <td>277</td>\n",
       "      <td>317</td>\n",
       "      <td>313</td>\n",
       "      <td>318</td>\n",
       "      <td>374</td>\n",
       "      <td>413</td>\n",
       "      <td>405</td>\n",
       "      <td>355</td>\n",
       "      <td>306</td>\n",
       "      <td>271</td>\n",
       "      <td>306</td>\n",
       "    </tr>\n",
       "  </tbody>\n",
       "</table>\n",
       "</div>"
      ],
      "text/plain": [
       "Month   1    2    3    4    5    6    7    8    9    10   11   12\n",
       "Month                                                            \n",
       "1995   112  118  132  129  121  135  148  148  136  119  104  118\n",
       "1996   115  126  141  135  125  149  170  170  158  133  114  140\n",
       "1997   145  150  178  163  172  178  199  199  184  162  146  166\n",
       "1998   171  180  193  181  183  218  230  242  209  191  172  194\n",
       "1999   196  196  236  235  229  243  264  272  237  211  180  201\n",
       "2000   204  188  235  227  234  264  302  293  259  229  203  229\n",
       "2001   242  233  267  269  270  315  364  347  312  274  237  278\n",
       "2002   284  277  317  313  318  374  413  405  355  306  271  306"
      ]
     },
     "execution_count": 51,
     "metadata": {},
     "output_type": "execute_result"
    }
   ],
   "source": [
    "# create a pivot table with year as the index and month as the columns and footfalls as the values\n",
    "df_pivot = df.pivot_table(values='Passengers', index=df.index.year, columns=df.index.month)\n",
    "df_pivot"
   ]
  },
  {
   "cell_type": "code",
   "execution_count": 52,
   "id": "0588d6a0",
   "metadata": {},
   "outputs": [
    {
     "data": {
      "image/png": "[encoded data removed]",
      "text/plain": [
       "<Figure size 864x360 with 2 Axes>"
      ]
     },
     "metadata": {},
     "output_type": "display_data"
    }
   ],
   "source": [
    "# visualize the pivot table as a heatmap\n",
    "plt.figure(figsize=(12, 5))\n",
    "sns.heatmap(df_pivot, annot=True,cmap='coolwarm', fmt='g');"
   ]
  },
  {
   "cell_type": "code",
   "execution_count": 53,
   "id": "d1036bdf",
   "metadata": {},
   "outputs": [
    {
     "data": {
      "image/png": "[encoded data removed]",
      "text/plain": [
       "<Figure size 864x360 with 1 Axes>"
      ]
     },
     "metadata": {},
     "output_type": "display_data"
    }
   ],
   "source": [
    "# boxplot of footfalls for every year\n",
    "plt.figure(figsize=(12, 5))\n",
    "sns.boxplot(data=df, x=df.index.year, y='Passengers');"
   ]
  },
  {
   "cell_type": "code",
   "execution_count": 54,
   "id": "c9192e28",
   "metadata": {},
   "outputs": [
    {
     "data": {
      "image/png": "[encoded data removed]",
      "text/plain": [
       "<Figure size 864x360 with 1 Axes>"
      ]
     },
     "metadata": {},
     "output_type": "display_data"
    }
   ],
   "source": [
    "# boxplot of footfalls for every month\n",
    "plt.figure(figsize=(12, 5))\n",
    "sns.boxplot(data=df, x=df.index.month, y='Passengers');"
   ]
  },
  {
   "cell_type": "code",
   "execution_count": 55,
   "id": "06b110ef",
   "metadata": {},
   "outputs": [],
   "source": [
    "# split the dataset into train and test with last 12 months in the test dataset\n",
    "train=df.iloc[:len(df)-12]\n",
    "test=df.iloc[len(df)-12:]"
   ]
  },
  {
   "cell_type": "code",
   "execution_count": 56,
   "id": "5e738906",
   "metadata": {},
   "outputs": [
    {
     "data": {
      "text/plain": [
       "((84, 16), (12, 16))"
      ]
     },
     "execution_count": 56,
     "metadata": {},
     "output_type": "execute_result"
    }
   ],
   "source": [
    "train.shape ,test.shape"
   ]
  },
  {
   "cell_type": "code",
   "execution_count": 57,
   "id": "6bc39421",
   "metadata": {
    "scrolled": true
   },
   "outputs": [
    {
     "data": {
      "text/html": [
       "<div>\n",
       "<style scoped>\n",
       "    .dataframe tbody tr th:only-of-type {\n",
       "        vertical-align: middle;\n",
       "    }\n",
       "\n",
       "    .dataframe tbody tr th {\n",
       "        vertical-align: top;\n",
       "    }\n",
       "\n",
       "    .dataframe thead th {\n",
       "        text-align: right;\n",
       "    }\n",
       "</style>\n",
       "<table border=\"1\" class=\"dataframe\">\n",
       "  <thead>\n",
       "    <tr style=\"text-align: right;\">\n",
       "      <th></th>\n",
       "      <th>Passengers</th>\n",
       "      <th>Jan</th>\n",
       "      <th>Feb</th>\n",
       "      <th>Mar</th>\n",
       "      <th>apr</th>\n",
       "      <th>may</th>\n",
       "      <th>jun</th>\n",
       "      <th>jul</th>\n",
       "      <th>aug</th>\n",
       "      <th>sep</th>\n",
       "      <th>oct</th>\n",
       "      <th>nov</th>\n",
       "      <th>Dec</th>\n",
       "      <th>t</th>\n",
       "      <th>t_sq</th>\n",
       "      <th>log_pass</th>\n",
       "    </tr>\n",
       "    <tr>\n",
       "      <th>Month</th>\n",
       "      <th></th>\n",
       "      <th></th>\n",
       "      <th></th>\n",
       "      <th></th>\n",
       "      <th></th>\n",
       "      <th></th>\n",
       "      <th></th>\n",
       "      <th></th>\n",
       "      <th></th>\n",
       "      <th></th>\n",
       "      <th></th>\n",
       "      <th></th>\n",
       "      <th></th>\n",
       "      <th></th>\n",
       "      <th></th>\n",
       "      <th></th>\n",
       "    </tr>\n",
       "  </thead>\n",
       "  <tbody>\n",
       "    <tr>\n",
       "      <th>2002-01-01</th>\n",
       "      <td>284</td>\n",
       "      <td>1</td>\n",
       "      <td>0</td>\n",
       "      <td>0</td>\n",
       "      <td>0</td>\n",
       "      <td>0</td>\n",
       "      <td>0</td>\n",
       "      <td>0</td>\n",
       "      <td>0</td>\n",
       "      <td>0</td>\n",
       "      <td>0</td>\n",
       "      <td>0</td>\n",
       "      <td>0</td>\n",
       "      <td>85</td>\n",
       "      <td>7225</td>\n",
       "      <td>5.648974</td>\n",
       "    </tr>\n",
       "    <tr>\n",
       "      <th>2002-02-01</th>\n",
       "      <td>277</td>\n",
       "      <td>0</td>\n",
       "      <td>1</td>\n",
       "      <td>0</td>\n",
       "      <td>0</td>\n",
       "      <td>0</td>\n",
       "      <td>0</td>\n",
       "      <td>0</td>\n",
       "      <td>0</td>\n",
       "      <td>0</td>\n",
       "      <td>0</td>\n",
       "      <td>0</td>\n",
       "      <td>0</td>\n",
       "      <td>86</td>\n",
       "      <td>7396</td>\n",
       "      <td>5.624018</td>\n",
       "    </tr>\n",
       "    <tr>\n",
       "      <th>2002-03-01</th>\n",
       "      <td>317</td>\n",
       "      <td>0</td>\n",
       "      <td>0</td>\n",
       "      <td>1</td>\n",
       "      <td>0</td>\n",
       "      <td>0</td>\n",
       "      <td>0</td>\n",
       "      <td>0</td>\n",
       "      <td>0</td>\n",
       "      <td>0</td>\n",
       "      <td>0</td>\n",
       "      <td>0</td>\n",
       "      <td>0</td>\n",
       "      <td>87</td>\n",
       "      <td>7569</td>\n",
       "      <td>5.758902</td>\n",
       "    </tr>\n",
       "    <tr>\n",
       "      <th>2002-04-01</th>\n",
       "      <td>313</td>\n",
       "      <td>0</td>\n",
       "      <td>0</td>\n",
       "      <td>0</td>\n",
       "      <td>1</td>\n",
       "      <td>0</td>\n",
       "      <td>0</td>\n",
       "      <td>0</td>\n",
       "      <td>0</td>\n",
       "      <td>0</td>\n",
       "      <td>0</td>\n",
       "      <td>0</td>\n",
       "      <td>0</td>\n",
       "      <td>88</td>\n",
       "      <td>7744</td>\n",
       "      <td>5.746203</td>\n",
       "    </tr>\n",
       "    <tr>\n",
       "      <th>2002-05-01</th>\n",
       "      <td>318</td>\n",
       "      <td>0</td>\n",
       "      <td>0</td>\n",
       "      <td>0</td>\n",
       "      <td>0</td>\n",
       "      <td>1</td>\n",
       "      <td>0</td>\n",
       "      <td>0</td>\n",
       "      <td>0</td>\n",
       "      <td>0</td>\n",
       "      <td>0</td>\n",
       "      <td>0</td>\n",
       "      <td>0</td>\n",
       "      <td>89</td>\n",
       "      <td>7921</td>\n",
       "      <td>5.762051</td>\n",
       "    </tr>\n",
       "    <tr>\n",
       "      <th>2002-06-01</th>\n",
       "      <td>374</td>\n",
       "      <td>0</td>\n",
       "      <td>0</td>\n",
       "      <td>0</td>\n",
       "      <td>0</td>\n",
       "      <td>0</td>\n",
       "      <td>1</td>\n",
       "      <td>0</td>\n",
       "      <td>0</td>\n",
       "      <td>0</td>\n",
       "      <td>0</td>\n",
       "      <td>0</td>\n",
       "      <td>0</td>\n",
       "      <td>90</td>\n",
       "      <td>8100</td>\n",
       "      <td>5.924256</td>\n",
       "    </tr>\n",
       "    <tr>\n",
       "      <th>2002-07-01</th>\n",
       "      <td>413</td>\n",
       "      <td>0</td>\n",
       "      <td>0</td>\n",
       "      <td>0</td>\n",
       "      <td>0</td>\n",
       "      <td>0</td>\n",
       "      <td>0</td>\n",
       "      <td>1</td>\n",
       "      <td>0</td>\n",
       "      <td>0</td>\n",
       "      <td>0</td>\n",
       "      <td>0</td>\n",
       "      <td>0</td>\n",
       "      <td>91</td>\n",
       "      <td>8281</td>\n",
       "      <td>6.023448</td>\n",
       "    </tr>\n",
       "    <tr>\n",
       "      <th>2002-08-01</th>\n",
       "      <td>405</td>\n",
       "      <td>0</td>\n",
       "      <td>0</td>\n",
       "      <td>0</td>\n",
       "      <td>0</td>\n",
       "      <td>0</td>\n",
       "      <td>0</td>\n",
       "      <td>0</td>\n",
       "      <td>1</td>\n",
       "      <td>0</td>\n",
       "      <td>0</td>\n",
       "      <td>0</td>\n",
       "      <td>0</td>\n",
       "      <td>92</td>\n",
       "      <td>8464</td>\n",
       "      <td>6.003887</td>\n",
       "    </tr>\n",
       "    <tr>\n",
       "      <th>2002-09-01</th>\n",
       "      <td>355</td>\n",
       "      <td>0</td>\n",
       "      <td>0</td>\n",
       "      <td>0</td>\n",
       "      <td>0</td>\n",
       "      <td>0</td>\n",
       "      <td>0</td>\n",
       "      <td>0</td>\n",
       "      <td>0</td>\n",
       "      <td>1</td>\n",
       "      <td>0</td>\n",
       "      <td>0</td>\n",
       "      <td>0</td>\n",
       "      <td>93</td>\n",
       "      <td>8649</td>\n",
       "      <td>5.872118</td>\n",
       "    </tr>\n",
       "    <tr>\n",
       "      <th>2002-10-01</th>\n",
       "      <td>306</td>\n",
       "      <td>0</td>\n",
       "      <td>0</td>\n",
       "      <td>0</td>\n",
       "      <td>0</td>\n",
       "      <td>0</td>\n",
       "      <td>0</td>\n",
       "      <td>0</td>\n",
       "      <td>0</td>\n",
       "      <td>0</td>\n",
       "      <td>1</td>\n",
       "      <td>0</td>\n",
       "      <td>0</td>\n",
       "      <td>94</td>\n",
       "      <td>8836</td>\n",
       "      <td>5.723585</td>\n",
       "    </tr>\n",
       "    <tr>\n",
       "      <th>2002-11-01</th>\n",
       "      <td>271</td>\n",
       "      <td>0</td>\n",
       "      <td>0</td>\n",
       "      <td>0</td>\n",
       "      <td>0</td>\n",
       "      <td>0</td>\n",
       "      <td>0</td>\n",
       "      <td>0</td>\n",
       "      <td>0</td>\n",
       "      <td>0</td>\n",
       "      <td>0</td>\n",
       "      <td>1</td>\n",
       "      <td>0</td>\n",
       "      <td>95</td>\n",
       "      <td>9025</td>\n",
       "      <td>5.602119</td>\n",
       "    </tr>\n",
       "    <tr>\n",
       "      <th>2002-12-01</th>\n",
       "      <td>306</td>\n",
       "      <td>0</td>\n",
       "      <td>0</td>\n",
       "      <td>0</td>\n",
       "      <td>0</td>\n",
       "      <td>0</td>\n",
       "      <td>0</td>\n",
       "      <td>0</td>\n",
       "      <td>0</td>\n",
       "      <td>0</td>\n",
       "      <td>0</td>\n",
       "      <td>0</td>\n",
       "      <td>1</td>\n",
       "      <td>96</td>\n",
       "      <td>9216</td>\n",
       "      <td>5.723585</td>\n",
       "    </tr>\n",
       "  </tbody>\n",
       "</table>\n",
       "</div>"
      ],
      "text/plain": [
       "            Passengers  Jan  Feb  Mar  apr  may  jun  jul  aug  sep  oct  nov  \\\n",
       "Month                                                                           \n",
       "2002-01-01         284    1    0    0    0    0    0    0    0    0    0    0   \n",
       "2002-02-01         277    0    1    0    0    0    0    0    0    0    0    0   \n",
       "2002-03-01         317    0    0    1    0    0    0    0    0    0    0    0   \n",
       "2002-04-01         313    0    0    0    1    0    0    0    0    0    0    0   \n",
       "2002-05-01         318    0    0    0    0    1    0    0    0    0    0    0   \n",
       "2002-06-01         374    0    0    0    0    0    1    0    0    0    0    0   \n",
       "2002-07-01         413    0    0    0    0    0    0    1    0    0    0    0   \n",
       "2002-08-01         405    0    0    0    0    0    0    0    1    0    0    0   \n",
       "2002-09-01         355    0    0    0    0    0    0    0    0    1    0    0   \n",
       "2002-10-01         306    0    0    0    0    0    0    0    0    0    1    0   \n",
       "2002-11-01         271    0    0    0    0    0    0    0    0    0    0    1   \n",
       "2002-12-01         306    0    0    0    0    0    0    0    0    0    0    0   \n",
       "\n",
       "            Dec   t  t_sq  log_pass  \n",
       "Month                                \n",
       "2002-01-01    0  85  7225  5.648974  \n",
       "2002-02-01    0  86  7396  5.624018  \n",
       "2002-03-01    0  87  7569  5.758902  \n",
       "2002-04-01    0  88  7744  5.746203  \n",
       "2002-05-01    0  89  7921  5.762051  \n",
       "2002-06-01    0  90  8100  5.924256  \n",
       "2002-07-01    0  91  8281  6.023448  \n",
       "2002-08-01    0  92  8464  6.003887  \n",
       "2002-09-01    0  93  8649  5.872118  \n",
       "2002-10-01    0  94  8836  5.723585  \n",
       "2002-11-01    0  95  9025  5.602119  \n",
       "2002-12-01    1  96  9216  5.723585  "
      ]
     },
     "execution_count": 57,
     "metadata": {},
     "output_type": "execute_result"
    }
   ],
   "source": [
    "test.head(12)"
   ]
  },
  {
   "cell_type": "markdown",
   "id": "87972d02",
   "metadata": {},
   "source": [
    "# Forecasting Models"
   ]
  },
  {
   "cell_type": "markdown",
   "id": "5c9a98f9",
   "metadata": {},
   "source": [
    "## 1.Linear Regression"
   ]
  },
  {
   "cell_type": "code",
   "execution_count": 58,
   "id": "0d1e8460",
   "metadata": {},
   "outputs": [],
   "source": [
    "from statsmodels.formula.api import ols\n",
    "from statsmodels.tools.eval_measures import rmse"
   ]
  },
  {
   "cell_type": "code",
   "execution_count": 59,
   "id": "b81b4d7f",
   "metadata": {},
   "outputs": [],
   "source": [
    "# fit the linear model on the train dataset with passengers as the target variable and t as the feature\n",
    "model=ols('Passengers~t',data=train).fit()"
   ]
  },
  {
   "cell_type": "code",
   "execution_count": 60,
   "id": "25cf0ec4",
   "metadata": {},
   "outputs": [
    {
     "name": "stdout",
     "output_type": "stream",
     "text": [
      "RMSE of Linear Model: 53.19923653480267\n"
     ]
    }
   ],
   "source": [
    "# predict the passengers on the test dataset $ compute the RMSE\n",
    "pred=model.predict(test['t'])\n",
    "rmse_lin=rmse(test['Passengers'],pred)\n",
    "print('RMSE of Linear Model:',rmse_lin)"
   ]
  },
  {
   "cell_type": "code",
   "execution_count": 61,
   "id": "9a2dd577",
   "metadata": {},
   "outputs": [
    {
     "data": {
      "text/plain": [
       "16.206926590952833"
      ]
     },
     "execution_count": 61,
     "metadata": {},
     "output_type": "execute_result"
    }
   ],
   "source": [
    "rmse_lin*100/np.mean(test['Passengers'])"
   ]
  },
  {
   "cell_type": "code",
   "execution_count": 62,
   "id": "95e9e040",
   "metadata": {},
   "outputs": [
    {
     "data": {
      "text/plain": [
       "328.25"
      ]
     },
     "execution_count": 62,
     "metadata": {},
     "output_type": "execute_result"
    }
   ],
   "source": [
    "np.mean(test['Passengers'])"
   ]
  },
  {
   "cell_type": "markdown",
   "id": "9f651e41",
   "metadata": {},
   "source": [
    "## 2.Exponential Model"
   ]
  },
  {
   "cell_type": "code",
   "execution_count": 63,
   "id": "870a30f2",
   "metadata": {},
   "outputs": [],
   "source": [
    "# fit the model with log_pass as the target variable and t as the feature variable\n",
    "model=ols('log_pass~t',data=train).fit()"
   ]
  },
  {
   "cell_type": "code",
   "execution_count": 64,
   "id": "59e12d38",
   "metadata": {},
   "outputs": [
    {
     "name": "stdout",
     "output_type": "stream",
     "text": [
      "RMSE of Exponential Model: 46.05736110315608\n"
     ]
    }
   ],
   "source": [
    "# predict the passengers on the test dataset & compute the RMSE\n",
    "pred=model.predict(test['t'])\n",
    "rmse_log=rmse(test['Passengers'],np.exp(pred))\n",
    "print('RMSE of Exponential Model:',rmse_log)"
   ]
  },
  {
   "cell_type": "code",
   "execution_count": 65,
   "id": "13d6209d",
   "metadata": {},
   "outputs": [
    {
     "data": {
      "text/plain": [
       "14.031183885196064"
      ]
     },
     "execution_count": 65,
     "metadata": {},
     "output_type": "execute_result"
    }
   ],
   "source": [
    "rmse_log*100/np.mean(test['Passengers'])"
   ]
  },
  {
   "cell_type": "markdown",
   "id": "79441fc8",
   "metadata": {},
   "source": [
    "## 3.Quadratic Model"
   ]
  },
  {
   "cell_type": "code",
   "execution_count": 66,
   "id": "c6cbfcfc",
   "metadata": {},
   "outputs": [],
   "source": [
    "# fit the model with passengers as the target and t, t^2 as the feature\n",
    "model=ols('Passengers~t+I(t**2)',data=train).fit()"
   ]
  },
  {
   "cell_type": "code",
   "execution_count": 67,
   "id": "e549785c",
   "metadata": {},
   "outputs": [
    {
     "name": "stdout",
     "output_type": "stream",
     "text": [
      "RMSE of Quadratic Model:  48.05188897933096\n"
     ]
    }
   ],
   "source": [
    "# predict the Passengers on the test dataset & compute the rmse\n",
    "pred=model.predict(test[['t','t_sq']])\n",
    "rmse_quad=rmse(test['Passengers'],pred)\n",
    "print('RMSE of Quadratic Model: ', rmse_quad)"
   ]
  },
  {
   "cell_type": "markdown",
   "id": "eba7bdc4",
   "metadata": {},
   "source": [
    "## 4.Additive Seasonality Model"
   ]
  },
  {
   "cell_type": "code",
   "execution_count": 68,
   "id": "de1cc7e8",
   "metadata": {},
   "outputs": [],
   "source": [
    "# fit a model with passengers as the target and the months as the features\n",
    "model = ols('Passengers ~ Jan + Feb + Mar + apr + may + jun + jul + aug + sep + oct + nov + Dec',data=train).fit()"
   ]
  },
  {
   "cell_type": "code",
   "execution_count": 69,
   "id": "ae9ca97f",
   "metadata": {},
   "outputs": [
    {
     "name": "stdout",
     "output_type": "stream",
     "text": [
      "RMSE of Additive Model:  132.8197848142182\n"
     ]
    }
   ],
   "source": [
    "# predict the passengers on the test dataset & compute the RMSE\n",
    "pred = model.predict(test[['Jan', 'Feb', 'Mar', 'apr', 'may', 'jun', 'jul', 'aug', 'sep', 'oct', 'nov', 'Dec']])\n",
    "rmse_additive = rmse(test['Passengers'], pred)\n",
    "print('RMSE of Additive Model: ', rmse_additive)"
   ]
  },
  {
   "cell_type": "markdown",
   "id": "08179e09",
   "metadata": {},
   "source": [
    "## 5. Quadratic Model with Additive Seasonality"
   ]
  },
  {
   "cell_type": "code",
   "execution_count": 70,
   "id": "a0a8a1d9",
   "metadata": {},
   "outputs": [],
   "source": [
    "# fit a model with passengers as the target and the months as the features\n",
    "model = ols('Passengers ~ Jan + Feb + Mar + apr + may + jun + jul + aug + sep + oct + nov + Dec+t+t_sq',data=train).fit()"
   ]
  },
  {
   "cell_type": "code",
   "execution_count": 71,
   "id": "95655f75",
   "metadata": {},
   "outputs": [
    {
     "name": "stdout",
     "output_type": "stream",
     "text": [
      "RMSE of Quadratic with Additive Model:  26.360817612102018\n"
     ]
    }
   ],
   "source": [
    "# predict the Passengers on the test dataset & compute the RMSE\n",
    "pred = model.predict(test[['Jan', 'Feb', 'Mar', 'apr', 'may', 'jun', 'jul', 'aug', 'sep', 'oct', 'nov', 'Dec', 't', 't_sq']])\n",
    "rmse_quad__with_additive = rmse(test['Passengers'], pred)\n",
    "print('RMSE of Quadratic with Additive Model: ', rmse_quad__with_additive)"
   ]
  },
  {
   "cell_type": "code",
   "execution_count": 72,
   "id": "e8d9cae8",
   "metadata": {},
   "outputs": [
    {
     "data": {
      "text/plain": [
       "8.030713667053167"
      ]
     },
     "execution_count": 72,
     "metadata": {},
     "output_type": "execute_result"
    }
   ],
   "source": [
    "rmse_quad__with_additive*100/np.mean(test['Passengers'])"
   ]
  },
  {
   "cell_type": "markdown",
   "id": "dc37593f",
   "metadata": {},
   "source": [
    "## 6. Multiplicative seasonality Model"
   ]
  },
  {
   "cell_type": "code",
   "execution_count": 73,
   "id": "f739278a",
   "metadata": {},
   "outputs": [],
   "source": [
    "# fit a model with log_pass as the target with months as the features\n",
    "model = ols('log_pass ~ Jan + Feb + Mar + apr + may + jun + jul + aug + sep + oct + nov + Dec', data=train).fit()"
   ]
  },
  {
   "cell_type": "code",
   "execution_count": 74,
   "id": "d0c249d4",
   "metadata": {},
   "outputs": [
    {
     "name": "stdout",
     "output_type": "stream",
     "text": [
      "RMSE of Multiplicative seasonality Model:  140.06320204708646\n"
     ]
    }
   ],
   "source": [
    "# predict the passengers on the test dataset & compute the RMSE\n",
    "pred = model.predict(test[['Jan', 'Feb', 'Mar', 'apr', 'may', 'jun', 'jul', 'aug', 'sep', 'oct', 'nov', 'Dec']])\n",
    "rmse_Multi = rmse(test['Passengers'], np.exp(pred))\n",
    "print('RMSE of Multiplicative seasonality Model: ', rmse_Multi)"
   ]
  },
  {
   "cell_type": "markdown",
   "id": "65e44c5b",
   "metadata": {},
   "source": [
    "## 7. Multiplicative Seasonality with additive trend"
   ]
  },
  {
   "cell_type": "code",
   "execution_count": 75,
   "id": "88bf2583",
   "metadata": {},
   "outputs": [],
   "source": [
    "# fit the model with log_pass as the target fature where as the month and t  as the feature variable\n",
    "model=ols('log_pass~Jan+Feb+Mar+apr+may+jun+jul+aug+sep+oct+nov+Dec+t',data=train).fit()"
   ]
  },
  {
   "cell_type": "code",
   "execution_count": 76,
   "id": "003c18ef",
   "metadata": {},
   "outputs": [
    {
     "name": "stdout",
     "output_type": "stream",
     "text": [
      "RMSE of MultiPlitive Model with Additive trend: 10.51917254432326\n"
     ]
    }
   ],
   "source": [
    "# predict the passengers on the test dataset and compute the Rmse value\n",
    "pred=model.predict(test[['Jan','Feb','Mar','apr','may','jun','jul','aug','sep','oct','nov','Dec','t']])\n",
    "rmse_multi_with_additive=rmse(test['Passengers'],np.exp(pred))\n",
    "print('RMSE of MultiPlitive Model with Additive trend:',rmse_multi_with_additive)"
   ]
  },
  {
   "cell_type": "code",
   "execution_count": 77,
   "id": "55c1fe74",
   "metadata": {},
   "outputs": [
    {
     "data": {
      "text/plain": [
       "3.2046222526498886"
      ]
     },
     "execution_count": 77,
     "metadata": {},
     "output_type": "execute_result"
    }
   ],
   "source": [
    "rmse_multi_with_additive*100/np.mean(test['Passengers'])"
   ]
  },
  {
   "cell_type": "markdown",
   "id": "16f8ee8b",
   "metadata": {},
   "source": [
    "# Model Comparison"
   ]
  },
  {
   "cell_type": "code",
   "execution_count": 78,
   "id": "c40c9d2c",
   "metadata": {},
   "outputs": [
    {
     "data": {
      "text/html": [
       "<div>\n",
       "<style scoped>\n",
       "    .dataframe tbody tr th:only-of-type {\n",
       "        vertical-align: middle;\n",
       "    }\n",
       "\n",
       "    .dataframe tbody tr th {\n",
       "        vertical-align: top;\n",
       "    }\n",
       "\n",
       "    .dataframe thead th {\n",
       "        text-align: right;\n",
       "    }\n",
       "</style>\n",
       "<table border=\"1\" class=\"dataframe\">\n",
       "  <thead>\n",
       "    <tr style=\"text-align: right;\">\n",
       "      <th></th>\n",
       "      <th>Model</th>\n",
       "      <th>RMSE</th>\n",
       "    </tr>\n",
       "  </thead>\n",
       "  <tbody>\n",
       "    <tr>\n",
       "      <th>0</th>\n",
       "      <td>Linear</td>\n",
       "      <td>53.199237</td>\n",
       "    </tr>\n",
       "    <tr>\n",
       "      <th>1</th>\n",
       "      <td>Exponential</td>\n",
       "      <td>46.057361</td>\n",
       "    </tr>\n",
       "    <tr>\n",
       "      <th>2</th>\n",
       "      <td>Quadratic</td>\n",
       "      <td>48.051889</td>\n",
       "    </tr>\n",
       "    <tr>\n",
       "      <th>3</th>\n",
       "      <td>Additive</td>\n",
       "      <td>132.819785</td>\n",
       "    </tr>\n",
       "    <tr>\n",
       "      <th>4</th>\n",
       "      <td>Quadratic Model with Additive Seasonality</td>\n",
       "      <td>48.051889</td>\n",
       "    </tr>\n",
       "    <tr>\n",
       "      <th>5</th>\n",
       "      <td>Multiplicative Model</td>\n",
       "      <td>140.063202</td>\n",
       "    </tr>\n",
       "    <tr>\n",
       "      <th>6</th>\n",
       "      <td>Multiplicative Model with Additive Trend</td>\n",
       "      <td>10.519173</td>\n",
       "    </tr>\n",
       "  </tbody>\n",
       "</table>\n",
       "</div>"
      ],
      "text/plain": [
       "                                       Model        RMSE\n",
       "0                                     Linear   53.199237\n",
       "1                                Exponential   46.057361\n",
       "2                                  Quadratic   48.051889\n",
       "3                                   Additive  132.819785\n",
       "4  Quadratic Model with Additive Seasonality   48.051889\n",
       "5                       Multiplicative Model  140.063202\n",
       "6   Multiplicative Model with Additive Trend   10.519173"
      ]
     },
     "execution_count": 78,
     "metadata": {},
     "output_type": "execute_result"
    }
   ],
   "source": [
    "# compare the RMSE of all the models in a dataframe \n",
    "rmse_df=pd.DataFrame({'Model':['Linear',\n",
    "                              'Exponential',\n",
    "                              'Quadratic',\n",
    "                              'Additive',\n",
    "                              'Quadratic Model with Additive Seasonality',\n",
    "                              'Multiplicative Model',\n",
    "                              'Multiplicative Model with Additive Trend'],\n",
    "                     'RMSE':[rmse_lin,\n",
    "                            rmse_log,\n",
    "                            rmse_quad,\n",
    "                            rmse_additive,\n",
    "                            rmse_quad,\n",
    "                            rmse_Multi,\n",
    "                            rmse_multi_with_additive]})\n",
    "rmse_df"
   ]
  },
  {
   "cell_type": "code",
   "execution_count": 79,
   "id": "eb09ff7a",
   "metadata": {},
   "outputs": [
    {
     "data": {
      "text/html": [
       "<div>\n",
       "<style scoped>\n",
       "    .dataframe tbody tr th:only-of-type {\n",
       "        vertical-align: middle;\n",
       "    }\n",
       "\n",
       "    .dataframe tbody tr th {\n",
       "        vertical-align: top;\n",
       "    }\n",
       "\n",
       "    .dataframe thead th {\n",
       "        text-align: right;\n",
       "    }\n",
       "</style>\n",
       "<table border=\"1\" class=\"dataframe\">\n",
       "  <thead>\n",
       "    <tr style=\"text-align: right;\">\n",
       "      <th></th>\n",
       "      <th>Model</th>\n",
       "      <th>RMSE</th>\n",
       "    </tr>\n",
       "  </thead>\n",
       "  <tbody>\n",
       "    <tr>\n",
       "      <th>6</th>\n",
       "      <td>Multiplicative Model with Additive Trend</td>\n",
       "      <td>10.519173</td>\n",
       "    </tr>\n",
       "    <tr>\n",
       "      <th>1</th>\n",
       "      <td>Exponential</td>\n",
       "      <td>46.057361</td>\n",
       "    </tr>\n",
       "    <tr>\n",
       "      <th>2</th>\n",
       "      <td>Quadratic</td>\n",
       "      <td>48.051889</td>\n",
       "    </tr>\n",
       "    <tr>\n",
       "      <th>4</th>\n",
       "      <td>Quadratic Model with Additive Seasonality</td>\n",
       "      <td>48.051889</td>\n",
       "    </tr>\n",
       "    <tr>\n",
       "      <th>0</th>\n",
       "      <td>Linear</td>\n",
       "      <td>53.199237</td>\n",
       "    </tr>\n",
       "    <tr>\n",
       "      <th>3</th>\n",
       "      <td>Additive</td>\n",
       "      <td>132.819785</td>\n",
       "    </tr>\n",
       "    <tr>\n",
       "      <th>5</th>\n",
       "      <td>Multiplicative Model</td>\n",
       "      <td>140.063202</td>\n",
       "    </tr>\n",
       "  </tbody>\n",
       "</table>\n",
       "</div>"
      ],
      "text/plain": [
       "                                       Model        RMSE\n",
       "6   Multiplicative Model with Additive Trend   10.519173\n",
       "1                                Exponential   46.057361\n",
       "2                                  Quadratic   48.051889\n",
       "4  Quadratic Model with Additive Seasonality   48.051889\n",
       "0                                     Linear   53.199237\n",
       "3                                   Additive  132.819785\n",
       "5                       Multiplicative Model  140.063202"
      ]
     },
     "execution_count": 79,
     "metadata": {},
     "output_type": "execute_result"
    }
   ],
   "source": [
    "# sort the dataframe by RMSE in descending order\n",
    "rmse_df.sort_values(by='RMSE', ascending=True)"
   ]
  },
  {
   "cell_type": "markdown",
   "id": "21854d7c",
   "metadata": {},
   "source": [
    " #### From the above Dataframe we select the Multiplicative model with additive trend because it has minimum RMSE value"
   ]
  }
 ],
 "metadata": {
  "kernelspec": {
   "display_name": "Python 3 (ipykernel)",
   "language": "python",
   "name": "python3"
  },
  "language_info": {
   "codemirror_mode": {
    "name": "ipython",
    "version": 3
   },
   "file_extension": ".py",
   "mimetype": "text/x-python",
   "name": "python",
   "nbconvert_exporter": "python",
   "pygments_lexer": "ipython3",
   "version": "3.9.12"
  },
  "varInspector": {
   "cols": {
    "lenName": 16,
    "lenType": 16,
    "lenVar": 40
   },
   "kernels_config": {
    "python": {
     "delete_cmd_postfix": "",
     "delete_cmd_prefix": "del ",
     "library": "var_list.py",
     "varRefreshCmd": "print(var_dic_list())"
    },
    "r": {
     "delete_cmd_postfix": ") ",
     "delete_cmd_prefix": "rm(",
     "library": "var_list.r",
     "varRefreshCmd": "cat(var_dic_list()) "
    }
   },
   "types_to_exclude": [
    "module",
    "function",
    "builtin_function_or_method",
    "instance",
    "_Feature"
   ],
   "window_display": false
  }
 },
 "nbformat": 4,
 "nbformat_minor": 5
}
