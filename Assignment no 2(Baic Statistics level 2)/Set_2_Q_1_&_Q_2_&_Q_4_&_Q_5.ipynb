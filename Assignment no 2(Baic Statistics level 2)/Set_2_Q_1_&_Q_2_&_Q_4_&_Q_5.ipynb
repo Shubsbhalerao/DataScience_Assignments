{
 "cells": [
  {
   "cell_type": "markdown",
   "id": "ac4c40e0",
   "metadata": {},
   "source": [
    "## 1.\tThe time required for servicing transmissions is normally distributed with  = 45 minutes and  = 8 minutes. The service manager plans to have work begin on the transmission of a customer’s car 10 minutes after the car is dropped off and the customer is told that the car will be ready within 1 hour from drop-off. What is the probability that the service manager cannot meet his commitment? \n",
    "\n",
    "        A.\t0.3875   \n",
    "        B.\t0.2676   \n",
    "        C.\t0.5   \n",
    "        D.\t0.6987 \n"
   ]
  },
  {
   "cell_type": "code",
   "execution_count": 1,
   "id": "a0917225",
   "metadata": {},
   "outputs": [],
   "source": [
    "from scipy import stats\n",
    "from scipy.stats import norm "
   ]
  },
  {
   "cell_type": "code",
   "execution_count": 2,
   "id": "f4e586ca",
   "metadata": {},
   "outputs": [
    {
     "data": {
      "text/plain": [
       "0.625"
      ]
     },
     "execution_count": 2,
     "metadata": {},
     "output_type": "execute_result"
    }
   ],
   "source": [
    "# find Z scores at x=50;\n",
    "Z = (50-45)/8\n",
    "Z"
   ]
  },
  {
   "cell_type": "code",
   "execution_count": 3,
   "id": "75009b47",
   "metadata": {},
   "outputs": [
    {
     "data": {
      "text/plain": [
       "0.26598552904870054"
      ]
     },
     "execution_count": 3,
     "metadata": {},
     "output_type": "execute_result"
    }
   ],
   "source": [
    "# find probability P(x>50)\n",
    "p_value=1- stats.norm.cdf(abs(Z))\n",
    "p_value"
   ]
  },
  {
   "cell_type": "code",
   "execution_count": 4,
   "id": "0ef23534",
   "metadata": {},
   "outputs": [
    {
     "data": {
      "text/plain": [
       "0.7340144709512995"
      ]
     },
     "execution_count": 4,
     "metadata": {},
     "output_type": "execute_result"
    }
   ],
   "source": [
    "# find probability p(x<=50)\n",
    "p_value = stats.norm.cdf(abs(Z))\n",
    "p_value"
   ]
  },
  {
   "cell_type": "code",
   "execution_count": 5,
   "id": "f82b0142",
   "metadata": {},
   "outputs": [
    {
     "name": "stdout",
     "output_type": "stream",
     "text": [
      "Help on built-in function abs in module builtins:\n",
      "\n",
      "abs(x, /)\n",
      "    Return the absolute value of the argument.\n",
      "\n"
     ]
    }
   ],
   "source": [
    "help(abs)"
   ]
  },
  {
   "cell_type": "code",
   "execution_count": 6,
   "id": "29e96a9b",
   "metadata": {},
   "outputs": [
    {
     "data": {
      "text/plain": [
       "0.26598552904870054"
      ]
     },
     "execution_count": 6,
     "metadata": {},
     "output_type": "execute_result"
    }
   ],
   "source": [
    "# p(x>50)=1-p(x<=50)\n",
    "1-p_value"
   ]
  },
  {
   "cell_type": "markdown",
   "id": "4decfcb2",
   "metadata": {},
   "source": [
    "###  The probability that the service manager cannot meet his commitment is 0.265"
   ]
  },
  {
   "cell_type": "markdown",
   "id": "36ce319d",
   "metadata": {},
   "source": [
    "## Q_2.\tThe current age (in years) of 400 clerical employees at an insurance claims processing center is normally distributed with mean  = 38 and Standard deviation  =6. For each statement below, please specify True/False. If false, briefly explain why.\n",
    "     A.\tMore employees at the processing center are          older than 44 than between 38 and 44.\n",
    "     B.\tA training program for employees under the age        of 30 at the center would be expected to attract        about 36 employees.\n"
   ]
  },
  {
   "cell_type": "code",
   "execution_count": 7,
   "id": "1d2785f5",
   "metadata": {},
   "outputs": [],
   "source": [
    "from scipy.stats import norm"
   ]
  },
  {
   "cell_type": "markdown",
   "id": "8c2eccaf",
   "metadata": {},
   "source": [
    "## A. More employees at the processing center are older than 44 than between 38 and 44."
   ]
  },
  {
   "cell_type": "code",
   "execution_count": 8,
   "id": "8f23f09f",
   "metadata": {},
   "outputs": [
    {
     "data": {
      "text/plain": [
       "0.15865525393145707"
      ]
     },
     "execution_count": 8,
     "metadata": {},
     "output_type": "execute_result"
    }
   ],
   "source": [
    "# employees are more than 44\n",
    "P =1-stats.norm.cdf(x=44,loc=38,scale=6)\n",
    "P"
   ]
  },
  {
   "cell_type": "code",
   "execution_count": 9,
   "id": "6a3a819d",
   "metadata": {},
   "outputs": [
    {
     "data": {
      "text/plain": [
       "0.3413447460685429"
      ]
     },
     "execution_count": 9,
     "metadata": {},
     "output_type": "execute_result"
    }
   ],
   "source": [
    "# employees are in between 38 and 44\n",
    "P=stats.norm.cdf(x=44,loc=38,scale=6)-stats.norm.cdf(x=38,loc=38,scale=6)\n",
    "P"
   ]
  },
  {
   "cell_type": "markdown",
   "id": "2dd23ab3",
   "metadata": {},
   "source": [
    "### B. A training program for employees under the age  of 30 at the center would be expected to attract   about 36 employees."
   ]
  },
  {
   "cell_type": "code",
   "execution_count": 10,
   "id": "7c8e0c29",
   "metadata": {},
   "outputs": [
    {
     "data": {
      "text/plain": [
       "0.09121121972586788"
      ]
     },
     "execution_count": 10,
     "metadata": {},
     "output_type": "execute_result"
    }
   ],
   "source": [
    "# employees under the age of 30\n",
    "p=stats.norm.cdf(x=30,loc=38,scale=6)\n",
    "p"
   ]
  },
  {
   "cell_type": "code",
   "execution_count": 11,
   "id": "ba002fea",
   "metadata": {},
   "outputs": [
    {
     "data": {
      "text/plain": [
       "36.484487890347154"
      ]
     },
     "execution_count": 11,
     "metadata": {},
     "output_type": "execute_result"
    }
   ],
   "source": [
    "# no. of employees attending training program from 400 nos. which is under the age of 30 years\n",
    "400*p"
   ]
  },
  {
   "cell_type": "markdown",
   "id": "b7bf95a0",
   "metadata": {},
   "source": [
    "## Q4.\tLet X ~ N(100, 20square). Find two values, a and b, symmetric about the mean, such that the probability of the random variable taking a value between them is 0.99. \n",
    "\n",
    "        A.\t90.5, 105.9 \n",
    "        B.\t80.2, 119.8 \n",
    "        C.\t22, 78 \n",
    "        D.\t48.5, 151.5 \n",
    "        E.\t90.1, 109.9\n"
   ]
  },
  {
   "cell_type": "code",
   "execution_count": 12,
   "id": "07970972",
   "metadata": {},
   "outputs": [
    {
     "data": {
      "text/plain": [
       "(48.48341392902199, 151.516586070978)"
      ]
     },
     "execution_count": 12,
     "metadata": {},
     "output_type": "execute_result"
    }
   ],
   "source": [
    "stats.norm.interval(0.99,loc=100,scale=20)"
   ]
  },
  {
   "cell_type": "markdown",
   "id": "e24cf2b8",
   "metadata": {},
   "source": [
    "##  Q5.\tConsider a company that has two different divisions. The annual profits from the two divisions are independent and have distributions Profit1 ~ N(5, 32) and Profit2 ~ N(7, 42) respectively. Both the profits are in   Million. Answer the following  questions about the total profit of the company in Rupees. Assume that 1 dollar = Rs. 45\n",
    "         A.\tSpecify a Rupee range (centered on the mean) such that it contains 95% probability for the annual profit of the company.\n",
    "         B.\tSpecify the 5th percentile of profit (in Rupees) for the company\n",
    "         C.\tWhich of the two divisions has a larger probability of making a loss in a given year?\n"
   ]
  },
  {
   "cell_type": "code",
   "execution_count": 13,
   "id": "89cd7808",
   "metadata": {},
   "outputs": [
    {
     "name": "stdout",
     "output_type": "stream",
     "text": [
      "mean profit is Rs 540 million\n"
     ]
    }
   ],
   "source": [
    "# mean profits from two different divisions of a company=mean1+mean2\n",
    "mean=(5+7)*45\n",
    "#mean is in rs million\n",
    "print('mean profit is Rs',mean,'million')"
   ]
  },
  {
   "cell_type": "code",
   "execution_count": 16,
   "id": "76df200b",
   "metadata": {},
   "outputs": [
    {
     "name": "stdout",
     "output_type": "stream",
     "text": [
      "Standard Deviation is Rs 225.0 Million\n"
     ]
    }
   ],
   "source": [
    "# variance of profits from two different divisions of a company=sd^2=sd1^2+sd2^2\n",
    "SD=(np.sqrt((9)+(16)))*45\n",
    "print('Standard Deviation is Rs',SD,'Million')"
   ]
  },
  {
   "cell_type": "markdown",
   "id": "c6b2fee5",
   "metadata": {},
   "source": [
    "## A.    Specify a Rupee range (centered on the mean) such that it contains 95% probability for the annual profit of the company."
   ]
  },
  {
   "cell_type": "code",
   "execution_count": 17,
   "id": "20d9e46c",
   "metadata": {},
   "outputs": [
    {
     "name": "stdout",
     "output_type": "stream",
     "text": [
      "Range in Rs (99.00810347848784, 980.9918965215122) in Millions\n"
     ]
    }
   ],
   "source": [
    "A=stats.norm.interval(0.95,loc=540,scale=225)\n",
    "print('Range in Rs',A,'in Millions')"
   ]
  },
  {
   "cell_type": "markdown",
   "id": "a5bb766c",
   "metadata": {},
   "source": [
    "## B.\tSpecify the 5th percentile of profit (in Rupees) for the company"
   ]
  },
  {
   "cell_type": "code",
   "execution_count": 18,
   "id": "3fe68e76",
   "metadata": {},
   "outputs": [
    {
     "name": "stdout",
     "output_type": "stream",
     "text": [
      "5th percentile of profit (in Millions Rupees) for the company is 169.875\n"
     ]
    }
   ],
   "source": [
    "X=540+(-1.645)*(225)\n",
    "print('5th percentile of profit (in Millions Rupees) for the company is',X)"
   ]
  },
  {
   "cell_type": "code",
   "execution_count": 20,
   "id": "679be70c",
   "metadata": {},
   "outputs": [
    {
     "data": {
      "text/plain": [
       "170.0"
      ]
     },
     "execution_count": 20,
     "metadata": {},
     "output_type": "execute_result"
    }
   ],
   "source": [
    "np.round(X,0)"
   ]
  },
  {
   "cell_type": "markdown",
   "id": "67d853cc",
   "metadata": {},
   "source": [
    "## C.\tWhich of the two divisions has a larger probability of making a loss in a given year?"
   ]
  },
  {
   "cell_type": "code",
   "execution_count": 21,
   "id": "76417616",
   "metadata": {},
   "outputs": [
    {
     "data": {
      "text/plain": [
       "0.0477903522728147"
      ]
     },
     "execution_count": 21,
     "metadata": {},
     "output_type": "execute_result"
    }
   ],
   "source": [
    "# probability of Division 1 making a loss P(x<0)\n",
    "stats.norm.cdf(x=0,loc=5,scale=3)"
   ]
  },
  {
   "cell_type": "code",
   "execution_count": 23,
   "id": "58b72086",
   "metadata": {},
   "outputs": [
    {
     "data": {
      "text/plain": [
       "0.040059156863817086"
      ]
     },
     "execution_count": 23,
     "metadata": {},
     "output_type": "execute_result"
    }
   ],
   "source": [
    "# probability of Division 2 making a loss p(x<0)\n",
    "stats.norm.cdf(x=0,scale=4,loc=7)"
   ]
  },
  {
   "cell_type": "code",
   "execution_count": null,
   "id": "f94e1227",
   "metadata": {},
   "outputs": [],
   "source": []
  }
 ],
 "metadata": {
  "kernelspec": {
   "display_name": "Python 3 (ipykernel)",
   "language": "python",
   "name": "python3"
  },
  "language_info": {
   "codemirror_mode": {
    "name": "ipython",
    "version": 3
   },
   "file_extension": ".py",
   "mimetype": "text/x-python",
   "name": "python",
   "nbconvert_exporter": "python",
   "pygments_lexer": "ipython3",
   "version": "3.9.12"
  },
  "varInspector": {
   "cols": {
    "lenName": 16,
    "lenType": 16,
    "lenVar": 40
   },
   "kernels_config": {
    "python": {
     "delete_cmd_postfix": "",
     "delete_cmd_prefix": "del ",
     "library": "var_list.py",
     "varRefreshCmd": "print(var_dic_list())"
    },
    "r": {
     "delete_cmd_postfix": ") ",
     "delete_cmd_prefix": "rm(",
     "library": "var_list.r",
     "varRefreshCmd": "cat(var_dic_list()) "
    }
   },
   "types_to_exclude": [
    "module",
    "function",
    "builtin_function_or_method",
    "instance",
    "_Feature"
   ],
   "window_display": false
  }
 },
 "nbformat": 4,
 "nbformat_minor": 5
}
