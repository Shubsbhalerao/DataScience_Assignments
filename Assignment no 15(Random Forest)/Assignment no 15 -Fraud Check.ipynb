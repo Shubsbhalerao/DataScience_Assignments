{
 "cells": [
  {
   "cell_type": "markdown",
   "id": "1ae0b431",
   "metadata": {},
   "source": [
    "# Use Random Forest to prepare a model on fraud data"
   ]
  },
  {
   "cell_type": "code",
   "execution_count": 1,
   "id": "ae6c641d",
   "metadata": {},
   "outputs": [],
   "source": [
    "import pandas as pd\n",
    "import numpy as np\n",
    "import matplotlib.pyplot as plt\n",
    "import seaborn as sns\n",
    "from sklearn.model_selection import train_test_split\n",
    "from sklearn.metrics import accuracy_score,confusion_matrix\n",
    "from sklearn.ensemble import RandomForestClassifier as rf"
   ]
  },
  {
   "cell_type": "code",
   "execution_count": 2,
   "id": "f145cd6b",
   "metadata": {},
   "outputs": [],
   "source": [
    "df=pd.read_csv('Fraud_check.csv')"
   ]
  },
  {
   "cell_type": "code",
   "execution_count": 3,
   "id": "be2e2aaf",
   "metadata": {},
   "outputs": [
    {
     "data": {
      "text/html": [
       "<div>\n",
       "<style scoped>\n",
       "    .dataframe tbody tr th:only-of-type {\n",
       "        vertical-align: middle;\n",
       "    }\n",
       "\n",
       "    .dataframe tbody tr th {\n",
       "        vertical-align: top;\n",
       "    }\n",
       "\n",
       "    .dataframe thead th {\n",
       "        text-align: right;\n",
       "    }\n",
       "</style>\n",
       "<table border=\"1\" class=\"dataframe\">\n",
       "  <thead>\n",
       "    <tr style=\"text-align: right;\">\n",
       "      <th></th>\n",
       "      <th>Undergrad</th>\n",
       "      <th>Marital.Status</th>\n",
       "      <th>Taxable.Income</th>\n",
       "      <th>City.Population</th>\n",
       "      <th>Work.Experience</th>\n",
       "      <th>Urban</th>\n",
       "    </tr>\n",
       "  </thead>\n",
       "  <tbody>\n",
       "    <tr>\n",
       "      <th>0</th>\n",
       "      <td>NO</td>\n",
       "      <td>Single</td>\n",
       "      <td>68833</td>\n",
       "      <td>50047</td>\n",
       "      <td>10</td>\n",
       "      <td>YES</td>\n",
       "    </tr>\n",
       "    <tr>\n",
       "      <th>1</th>\n",
       "      <td>YES</td>\n",
       "      <td>Divorced</td>\n",
       "      <td>33700</td>\n",
       "      <td>134075</td>\n",
       "      <td>18</td>\n",
       "      <td>YES</td>\n",
       "    </tr>\n",
       "    <tr>\n",
       "      <th>2</th>\n",
       "      <td>NO</td>\n",
       "      <td>Married</td>\n",
       "      <td>36925</td>\n",
       "      <td>160205</td>\n",
       "      <td>30</td>\n",
       "      <td>YES</td>\n",
       "    </tr>\n",
       "    <tr>\n",
       "      <th>3</th>\n",
       "      <td>YES</td>\n",
       "      <td>Single</td>\n",
       "      <td>50190</td>\n",
       "      <td>193264</td>\n",
       "      <td>15</td>\n",
       "      <td>YES</td>\n",
       "    </tr>\n",
       "    <tr>\n",
       "      <th>4</th>\n",
       "      <td>NO</td>\n",
       "      <td>Married</td>\n",
       "      <td>81002</td>\n",
       "      <td>27533</td>\n",
       "      <td>28</td>\n",
       "      <td>NO</td>\n",
       "    </tr>\n",
       "  </tbody>\n",
       "</table>\n",
       "</div>"
      ],
      "text/plain": [
       "  Undergrad Marital.Status  Taxable.Income  City.Population  Work.Experience  \\\n",
       "0        NO         Single           68833            50047               10   \n",
       "1       YES       Divorced           33700           134075               18   \n",
       "2        NO        Married           36925           160205               30   \n",
       "3       YES         Single           50190           193264               15   \n",
       "4        NO        Married           81002            27533               28   \n",
       "\n",
       "  Urban  \n",
       "0   YES  \n",
       "1   YES  \n",
       "2   YES  \n",
       "3   YES  \n",
       "4    NO  "
      ]
     },
     "execution_count": 3,
     "metadata": {},
     "output_type": "execute_result"
    }
   ],
   "source": [
    "df.head()"
   ]
  },
  {
   "cell_type": "code",
   "execution_count": 4,
   "id": "ca54e2a6",
   "metadata": {},
   "outputs": [],
   "source": [
    "df1=df.copy()"
   ]
  },
  {
   "cell_type": "code",
   "execution_count": 5,
   "id": "6fbdf7f9",
   "metadata": {},
   "outputs": [
    {
     "data": {
      "text/html": [
       "<div>\n",
       "<style scoped>\n",
       "    .dataframe tbody tr th:only-of-type {\n",
       "        vertical-align: middle;\n",
       "    }\n",
       "\n",
       "    .dataframe tbody tr th {\n",
       "        vertical-align: top;\n",
       "    }\n",
       "\n",
       "    .dataframe thead th {\n",
       "        text-align: right;\n",
       "    }\n",
       "</style>\n",
       "<table border=\"1\" class=\"dataframe\">\n",
       "  <thead>\n",
       "    <tr style=\"text-align: right;\">\n",
       "      <th></th>\n",
       "      <th>Undergrad</th>\n",
       "      <th>Marital.Status</th>\n",
       "      <th>Taxable.Income</th>\n",
       "      <th>City.Population</th>\n",
       "      <th>Work.Experience</th>\n",
       "      <th>Urban</th>\n",
       "    </tr>\n",
       "  </thead>\n",
       "  <tbody>\n",
       "    <tr>\n",
       "      <th>0</th>\n",
       "      <td>NO</td>\n",
       "      <td>Single</td>\n",
       "      <td>68833</td>\n",
       "      <td>50047</td>\n",
       "      <td>10</td>\n",
       "      <td>YES</td>\n",
       "    </tr>\n",
       "    <tr>\n",
       "      <th>1</th>\n",
       "      <td>YES</td>\n",
       "      <td>Divorced</td>\n",
       "      <td>33700</td>\n",
       "      <td>134075</td>\n",
       "      <td>18</td>\n",
       "      <td>YES</td>\n",
       "    </tr>\n",
       "    <tr>\n",
       "      <th>2</th>\n",
       "      <td>NO</td>\n",
       "      <td>Married</td>\n",
       "      <td>36925</td>\n",
       "      <td>160205</td>\n",
       "      <td>30</td>\n",
       "      <td>YES</td>\n",
       "    </tr>\n",
       "    <tr>\n",
       "      <th>3</th>\n",
       "      <td>YES</td>\n",
       "      <td>Single</td>\n",
       "      <td>50190</td>\n",
       "      <td>193264</td>\n",
       "      <td>15</td>\n",
       "      <td>YES</td>\n",
       "    </tr>\n",
       "    <tr>\n",
       "      <th>4</th>\n",
       "      <td>NO</td>\n",
       "      <td>Married</td>\n",
       "      <td>81002</td>\n",
       "      <td>27533</td>\n",
       "      <td>28</td>\n",
       "      <td>NO</td>\n",
       "    </tr>\n",
       "  </tbody>\n",
       "</table>\n",
       "</div>"
      ],
      "text/plain": [
       "  Undergrad Marital.Status  Taxable.Income  City.Population  Work.Experience  \\\n",
       "0        NO         Single           68833            50047               10   \n",
       "1       YES       Divorced           33700           134075               18   \n",
       "2        NO        Married           36925           160205               30   \n",
       "3       YES         Single           50190           193264               15   \n",
       "4        NO        Married           81002            27533               28   \n",
       "\n",
       "  Urban  \n",
       "0   YES  \n",
       "1   YES  \n",
       "2   YES  \n",
       "3   YES  \n",
       "4    NO  "
      ]
     },
     "execution_count": 5,
     "metadata": {},
     "output_type": "execute_result"
    }
   ],
   "source": [
    "df1.head()"
   ]
  },
  {
   "cell_type": "code",
   "execution_count": 6,
   "id": "42106c40",
   "metadata": {},
   "outputs": [
    {
     "data": {
      "text/html": [
       "<div>\n",
       "<style scoped>\n",
       "    .dataframe tbody tr th:only-of-type {\n",
       "        vertical-align: middle;\n",
       "    }\n",
       "\n",
       "    .dataframe tbody tr th {\n",
       "        vertical-align: top;\n",
       "    }\n",
       "\n",
       "    .dataframe thead th {\n",
       "        text-align: right;\n",
       "    }\n",
       "</style>\n",
       "<table border=\"1\" class=\"dataframe\">\n",
       "  <thead>\n",
       "    <tr style=\"text-align: right;\">\n",
       "      <th></th>\n",
       "      <th>count</th>\n",
       "      <th>mean</th>\n",
       "      <th>std</th>\n",
       "      <th>min</th>\n",
       "      <th>25%</th>\n",
       "      <th>50%</th>\n",
       "      <th>75%</th>\n",
       "      <th>max</th>\n",
       "    </tr>\n",
       "  </thead>\n",
       "  <tbody>\n",
       "    <tr>\n",
       "      <th>Taxable.Income</th>\n",
       "      <td>600.0</td>\n",
       "      <td>55208.375000</td>\n",
       "      <td>26204.827597</td>\n",
       "      <td>10003.0</td>\n",
       "      <td>32871.50</td>\n",
       "      <td>55074.5</td>\n",
       "      <td>78611.75</td>\n",
       "      <td>99619.0</td>\n",
       "    </tr>\n",
       "    <tr>\n",
       "      <th>City.Population</th>\n",
       "      <td>600.0</td>\n",
       "      <td>108747.368333</td>\n",
       "      <td>49850.075134</td>\n",
       "      <td>25779.0</td>\n",
       "      <td>66966.75</td>\n",
       "      <td>106493.5</td>\n",
       "      <td>150114.25</td>\n",
       "      <td>199778.0</td>\n",
       "    </tr>\n",
       "    <tr>\n",
       "      <th>Work.Experience</th>\n",
       "      <td>600.0</td>\n",
       "      <td>15.558333</td>\n",
       "      <td>8.842147</td>\n",
       "      <td>0.0</td>\n",
       "      <td>8.00</td>\n",
       "      <td>15.0</td>\n",
       "      <td>24.00</td>\n",
       "      <td>30.0</td>\n",
       "    </tr>\n",
       "  </tbody>\n",
       "</table>\n",
       "</div>"
      ],
      "text/plain": [
       "                 count           mean           std      min       25%  \\\n",
       "Taxable.Income   600.0   55208.375000  26204.827597  10003.0  32871.50   \n",
       "City.Population  600.0  108747.368333  49850.075134  25779.0  66966.75   \n",
       "Work.Experience  600.0      15.558333      8.842147      0.0      8.00   \n",
       "\n",
       "                      50%        75%       max  \n",
       "Taxable.Income    55074.5   78611.75   99619.0  \n",
       "City.Population  106493.5  150114.25  199778.0  \n",
       "Work.Experience      15.0      24.00      30.0  "
      ]
     },
     "execution_count": 6,
     "metadata": {},
     "output_type": "execute_result"
    }
   ],
   "source": [
    "df1.describe().T"
   ]
  },
  {
   "cell_type": "code",
   "execution_count": 7,
   "id": "e399f1c2",
   "metadata": {},
   "outputs": [
    {
     "data": {
      "text/plain": [
       "Undergrad          0\n",
       "Marital.Status     0\n",
       "Taxable.Income     0\n",
       "City.Population    0\n",
       "Work.Experience    0\n",
       "Urban              0\n",
       "dtype: int64"
      ]
     },
     "execution_count": 7,
     "metadata": {},
     "output_type": "execute_result"
    }
   ],
   "source": [
    "df1.isnull().sum()"
   ]
  },
  {
   "cell_type": "code",
   "execution_count": 8,
   "id": "12e5474c",
   "metadata": {},
   "outputs": [
    {
     "data": {
      "text/plain": [
       "Undergrad          object\n",
       "Marital.Status     object\n",
       "Taxable.Income      int64\n",
       "City.Population     int64\n",
       "Work.Experience     int64\n",
       "Urban              object\n",
       "dtype: object"
      ]
     },
     "execution_count": 8,
     "metadata": {},
     "output_type": "execute_result"
    }
   ],
   "source": [
    "df1.dtypes"
   ]
  },
  {
   "cell_type": "code",
   "execution_count": 9,
   "id": "c032c6d4",
   "metadata": {},
   "outputs": [
    {
     "name": "stderr",
     "output_type": "stream",
     "text": [
      "C:\\Users\\bhale\\anaconda3\\lib\\site-packages\\seaborn\\_decorators.py:36: FutureWarning: Pass the following variable as a keyword arg: x. From version 0.12, the only valid positional argument will be `data`, and passing other arguments without an explicit keyword will result in an error or misinterpretation.\n",
      "  warnings.warn(\n"
     ]
    },
    {
     "data": {
      "text/plain": [
       "<AxesSubplot:xlabel='Taxable.Income'>"
      ]
     },
     "execution_count": 9,
     "metadata": {},
     "output_type": "execute_result"
    },
    {
     "data": {
      "image/png": "[encoded data removed]",
      "text/plain": [
       "<Figure size 432x288 with 1 Axes>"
      ]
     },
     "metadata": {
      "needs_background": "light"
     },
     "output_type": "display_data"
    }
   ],
   "source": [
    "sns.boxplot(df1['Taxable.Income'])"
   ]
  },
  {
   "cell_type": "code",
   "execution_count": 10,
   "id": "eb9fd230",
   "metadata": {},
   "outputs": [
    {
     "name": "stderr",
     "output_type": "stream",
     "text": [
      "C:\\Users\\bhale\\anaconda3\\lib\\site-packages\\seaborn\\_decorators.py:36: FutureWarning: Pass the following variable as a keyword arg: x. From version 0.12, the only valid positional argument will be `data`, and passing other arguments without an explicit keyword will result in an error or misinterpretation.\n",
      "  warnings.warn(\n"
     ]
    },
    {
     "data": {
      "text/plain": [
       "<AxesSubplot:xlabel='City.Population'>"
      ]
     },
     "execution_count": 10,
     "metadata": {},
     "output_type": "execute_result"
    },
    {
     "data": {
      "image/png": "[encoded data removed]",
      "text/plain": [
       "<Figure size 432x288 with 1 Axes>"
      ]
     },
     "metadata": {
      "needs_background": "light"
     },
     "output_type": "display_data"
    }
   ],
   "source": [
    "sns.boxplot(df1['City.Population'])"
   ]
  },
  {
   "cell_type": "code",
   "execution_count": 11,
   "id": "5d70f7fb",
   "metadata": {},
   "outputs": [
    {
     "name": "stderr",
     "output_type": "stream",
     "text": [
      "C:\\Users\\bhale\\anaconda3\\lib\\site-packages\\seaborn\\_decorators.py:36: FutureWarning: Pass the following variable as a keyword arg: x. From version 0.12, the only valid positional argument will be `data`, and passing other arguments without an explicit keyword will result in an error or misinterpretation.\n",
      "  warnings.warn(\n"
     ]
    },
    {
     "data": {
      "text/plain": [
       "<AxesSubplot:xlabel='Work.Experience'>"
      ]
     },
     "execution_count": 11,
     "metadata": {},
     "output_type": "execute_result"
    },
    {
     "data": {
      "image/png": "[encoded data removed]",
      "text/plain": [
       "<Figure size 432x288 with 1 Axes>"
      ]
     },
     "metadata": {
      "needs_background": "light"
     },
     "output_type": "display_data"
    }
   ],
   "source": [
    "sns.boxplot(df1['Work.Experience'])"
   ]
  },
  {
   "cell_type": "markdown",
   "id": "8b65f93c",
   "metadata": {},
   "source": [
    "# There are no outliers in the data"
   ]
  },
  {
   "cell_type": "code",
   "execution_count": 12,
   "id": "32a16822",
   "metadata": {},
   "outputs": [],
   "source": [
    "plt.rcParams[\"figure.figsize\"] = 9,5"
   ]
  },
  {
   "cell_type": "code",
   "execution_count": 15,
   "id": "ec0d9c2d",
   "metadata": {},
   "outputs": [
    {
     "data": {
      "text/plain": [
       "([<matplotlib.axis.XTick at 0x20e1a3068e0>,\n",
       "  <matplotlib.axis.XTick at 0x20e1a3063a0>,\n",
       "  <matplotlib.axis.XTick at 0x20e10afb130>,\n",
       "  <matplotlib.axis.XTick at 0x20e17ada9d0>,\n",
       "  <matplotlib.axis.XTick at 0x20e17b035e0>,\n",
       "  <matplotlib.axis.XTick at 0x20e17a7d910>,\n",
       "  <matplotlib.axis.XTick at 0x20e17a7d160>,\n",
       "  <matplotlib.axis.XTick at 0x20e18de2c40>,\n",
       "  <matplotlib.axis.XTick at 0x20e1a302490>],\n",
       " [Text(0, 0, ''),\n",
       "  Text(0, 0, ''),\n",
       "  Text(0, 0, ''),\n",
       "  Text(0, 0, ''),\n",
       "  Text(0, 0, ''),\n",
       "  Text(0, 0, ''),\n",
       "  Text(0, 0, ''),\n",
       "  Text(0, 0, ''),\n",
       "  Text(0, 0, '')])"
      ]
     },
     "execution_count": 15,
     "metadata": {},
     "output_type": "execute_result"
    },
    {
     "data": {
      "image/png": "[encoded data removed]",
      "text/plain": [
       "<Figure size 1080x360 with 1 Axes>"
      ]
     },
     "metadata": {
      "needs_background": "light"
     },
     "output_type": "display_data"
    }
   ],
   "source": [
    "plt.figure(figsize=(15,5))\n",
    "sns.kdeplot(df1['Taxable.Income'],shade=True,color='b')\n",
    "plt.xticks([i for i in range(10000,100000,10000)])"
   ]
  },
  {
   "cell_type": "code",
   "execution_count": 16,
   "id": "a6892de0",
   "metadata": {},
   "outputs": [
    {
     "name": "stdout",
     "output_type": "stream",
     "text": [
      "Skewness= 0.030014788906377175\n",
      "Kurtosis= -1.1997824607083138\n"
     ]
    }
   ],
   "source": [
    "skew=df1['Taxable.Income'].skew()\n",
    "kurt=df1['Taxable.Income'].kurtosis()\n",
    "print('Skewness=',skew)\n",
    "print('Kurtosis=',kurt)"
   ]
  },
  {
   "cell_type": "markdown",
   "id": "134c2af2",
   "metadata": {},
   "source": [
    "# The data is skewed on the right \n",
    "# The data has negative Kurtosis"
   ]
  },
  {
   "cell_type": "code",
   "execution_count": 17,
   "id": "a575fa75",
   "metadata": {},
   "outputs": [],
   "source": [
    "obj_colum = df1.select_dtypes(include='object').columns.tolist()"
   ]
  },
  {
   "cell_type": "code",
   "execution_count": 18,
   "id": "60c0fac0",
   "metadata": {},
   "outputs": [
    {
     "data": {
      "text/plain": [
       "['Undergrad', 'Marital.Status', 'Urban']"
      ]
     },
     "execution_count": 18,
     "metadata": {},
     "output_type": "execute_result"
    }
   ],
   "source": [
    "obj_colum"
   ]
  },
  {
   "cell_type": "code",
   "execution_count": 19,
   "id": "4ca05512",
   "metadata": {},
   "outputs": [
    {
     "data": {
      "image/png": "[encoded data removed]",
      "text/plain": [
       "<Figure size 1152x720 with 4 Axes>"
      ]
     },
     "metadata": {
      "needs_background": "light"
     },
     "output_type": "display_data"
    }
   ],
   "source": [
    "plt.figure(figsize=(16,10))\n",
    "for i,col in enumerate(obj_colum,1):\n",
    "    plt.subplot(2,2,i)\n",
    "    sns.countplot(data=df1,y=col)\n",
    "    plt.subplot(2,2,i+1)\n",
    "    df1[col].value_counts(normalize=True).plot.bar()\n",
    "    plt.ylabel(col)\n",
    "    plt.xlabel('% distribution per category')\n",
    "plt.tight_layout()\n",
    "plt.show()  "
   ]
  },
  {
   "cell_type": "code",
   "execution_count": 20,
   "id": "3c15b5b3",
   "metadata": {},
   "outputs": [],
   "source": [
    "num_columns = df1.select_dtypes(exclude='object').columns.tolist()"
   ]
  },
  {
   "cell_type": "code",
   "execution_count": 21,
   "id": "04737a24",
   "metadata": {},
   "outputs": [
    {
     "data": {
      "text/plain": [
       "['Taxable.Income', 'City.Population', 'Work.Experience']"
      ]
     },
     "execution_count": 21,
     "metadata": {},
     "output_type": "execute_result"
    }
   ],
   "source": [
    "num_columns"
   ]
  },
  {
   "cell_type": "code",
   "execution_count": 22,
   "id": "9b91a158",
   "metadata": {},
   "outputs": [
    {
     "data": {
      "image/png": "[encoded data removed]",
      "text/plain": [
       "<Figure size 1296x2880 with 6 Axes>"
      ]
     },
     "metadata": {
      "needs_background": "light"
     },
     "output_type": "display_data"
    },
    {
     "data": {
      "text/html": [
       "<div>\n",
       "<style scoped>\n",
       "    .dataframe tbody tr th:only-of-type {\n",
       "        vertical-align: middle;\n",
       "    }\n",
       "\n",
       "    .dataframe tbody tr th {\n",
       "        vertical-align: top;\n",
       "    }\n",
       "\n",
       "    .dataframe thead th {\n",
       "        text-align: right;\n",
       "    }\n",
       "</style>\n",
       "<table border=\"1\" class=\"dataframe\">\n",
       "  <thead>\n",
       "    <tr style=\"text-align: right;\">\n",
       "      <th></th>\n",
       "      <th>Taxable.Income</th>\n",
       "      <th>City.Population</th>\n",
       "      <th>Work.Experience</th>\n",
       "    </tr>\n",
       "  </thead>\n",
       "  <tbody>\n",
       "    <tr>\n",
       "      <th>skewness</th>\n",
       "      <td>0.030015</td>\n",
       "      <td>0.125009</td>\n",
       "      <td>0.018529</td>\n",
       "    </tr>\n",
       "    <tr>\n",
       "      <th>kurtosis</th>\n",
       "      <td>-1.199782</td>\n",
       "      <td>-1.120154</td>\n",
       "      <td>-1.167524</td>\n",
       "    </tr>\n",
       "  </tbody>\n",
       "</table>\n",
       "</div>"
      ],
      "text/plain": [
       "          Taxable.Income  City.Population  Work.Experience\n",
       "skewness        0.030015         0.125009         0.018529\n",
       "kurtosis       -1.199782        -1.120154        -1.167524"
      ]
     },
     "execution_count": 22,
     "metadata": {},
     "output_type": "execute_result"
    }
   ],
   "source": [
    "plt.figure(figsize=(18,40))\n",
    "for i,col in enumerate(num_columns,1):\n",
    "    plt.subplot(8,4,i)\n",
    "    sns.kdeplot(df[col],color='g',shade=True)\n",
    "    plt.subplot(8,4,i+10)\n",
    "    df[col].plot.box()\n",
    "plt.tight_layout() \n",
    "plt.show()\n",
    "num_data = df[num_columns]\n",
    "pd.DataFrame(data=[num_data.skew(),num_data.kurtosis()],index=['skewness','kurtosis'])"
   ]
  },
  {
   "cell_type": "code",
   "execution_count": 23,
   "id": "51159c62",
   "metadata": {},
   "outputs": [],
   "source": [
    "df1 = pd.get_dummies(df1, columns = ['Undergrad','Marital.Status','Urban'])"
   ]
  },
  {
   "cell_type": "code",
   "execution_count": 24,
   "id": "dca7d488",
   "metadata": {},
   "outputs": [],
   "source": [
    "corel=df1.corr()"
   ]
  },
  {
   "cell_type": "code",
   "execution_count": 25,
   "id": "e48453b1",
   "metadata": {},
   "outputs": [
    {
     "data": {
      "text/html": [
       "<div>\n",
       "<style scoped>\n",
       "    .dataframe tbody tr th:only-of-type {\n",
       "        vertical-align: middle;\n",
       "    }\n",
       "\n",
       "    .dataframe tbody tr th {\n",
       "        vertical-align: top;\n",
       "    }\n",
       "\n",
       "    .dataframe thead th {\n",
       "        text-align: right;\n",
       "    }\n",
       "</style>\n",
       "<table border=\"1\" class=\"dataframe\">\n",
       "  <thead>\n",
       "    <tr style=\"text-align: right;\">\n",
       "      <th></th>\n",
       "      <th>Taxable.Income</th>\n",
       "      <th>City.Population</th>\n",
       "      <th>Work.Experience</th>\n",
       "      <th>Undergrad_NO</th>\n",
       "      <th>Undergrad_YES</th>\n",
       "      <th>Marital.Status_Divorced</th>\n",
       "      <th>Marital.Status_Married</th>\n",
       "      <th>Marital.Status_Single</th>\n",
       "      <th>Urban_NO</th>\n",
       "      <th>Urban_YES</th>\n",
       "    </tr>\n",
       "  </thead>\n",
       "  <tbody>\n",
       "    <tr>\n",
       "      <th>Taxable.Income</th>\n",
       "      <td>1.000000</td>\n",
       "      <td>-0.064387</td>\n",
       "      <td>-0.001818</td>\n",
       "      <td>0.049232</td>\n",
       "      <td>-0.049232</td>\n",
       "      <td>0.062099</td>\n",
       "      <td>-0.100611</td>\n",
       "      <td>0.037910</td>\n",
       "      <td>-0.070628</td>\n",
       "      <td>0.070628</td>\n",
       "    </tr>\n",
       "    <tr>\n",
       "      <th>City.Population</th>\n",
       "      <td>-0.064387</td>\n",
       "      <td>1.000000</td>\n",
       "      <td>0.013135</td>\n",
       "      <td>-0.079579</td>\n",
       "      <td>0.079579</td>\n",
       "      <td>0.004925</td>\n",
       "      <td>-0.007035</td>\n",
       "      <td>0.002087</td>\n",
       "      <td>0.040098</td>\n",
       "      <td>-0.040098</td>\n",
       "    </tr>\n",
       "    <tr>\n",
       "      <th>Work.Experience</th>\n",
       "      <td>-0.001818</td>\n",
       "      <td>0.013135</td>\n",
       "      <td>1.000000</td>\n",
       "      <td>0.005362</td>\n",
       "      <td>-0.005362</td>\n",
       "      <td>-0.014833</td>\n",
       "      <td>0.033347</td>\n",
       "      <td>-0.018123</td>\n",
       "      <td>0.094559</td>\n",
       "      <td>-0.094559</td>\n",
       "    </tr>\n",
       "    <tr>\n",
       "      <th>Undergrad_NO</th>\n",
       "      <td>0.049232</td>\n",
       "      <td>-0.079579</td>\n",
       "      <td>0.005362</td>\n",
       "      <td>1.000000</td>\n",
       "      <td>-1.000000</td>\n",
       "      <td>0.045101</td>\n",
       "      <td>-0.015120</td>\n",
       "      <td>-0.028883</td>\n",
       "      <td>-0.000267</td>\n",
       "      <td>0.000267</td>\n",
       "    </tr>\n",
       "    <tr>\n",
       "      <th>Undergrad_YES</th>\n",
       "      <td>-0.049232</td>\n",
       "      <td>0.079579</td>\n",
       "      <td>-0.005362</td>\n",
       "      <td>-1.000000</td>\n",
       "      <td>1.000000</td>\n",
       "      <td>-0.045101</td>\n",
       "      <td>0.015120</td>\n",
       "      <td>0.028883</td>\n",
       "      <td>0.000267</td>\n",
       "      <td>-0.000267</td>\n",
       "    </tr>\n",
       "    <tr>\n",
       "      <th>Marital.Status_Divorced</th>\n",
       "      <td>0.062099</td>\n",
       "      <td>0.004925</td>\n",
       "      <td>-0.014833</td>\n",
       "      <td>0.045101</td>\n",
       "      <td>-0.045101</td>\n",
       "      <td>1.000000</td>\n",
       "      <td>-0.468757</td>\n",
       "      <td>-0.510435</td>\n",
       "      <td>0.065518</td>\n",
       "      <td>-0.065518</td>\n",
       "    </tr>\n",
       "    <tr>\n",
       "      <th>Marital.Status_Married</th>\n",
       "      <td>-0.100611</td>\n",
       "      <td>-0.007035</td>\n",
       "      <td>0.033347</td>\n",
       "      <td>-0.015120</td>\n",
       "      <td>0.015120</td>\n",
       "      <td>-0.468757</td>\n",
       "      <td>1.000000</td>\n",
       "      <td>-0.520317</td>\n",
       "      <td>-0.016771</td>\n",
       "      <td>0.016771</td>\n",
       "    </tr>\n",
       "    <tr>\n",
       "      <th>Marital.Status_Single</th>\n",
       "      <td>0.037910</td>\n",
       "      <td>0.002087</td>\n",
       "      <td>-0.018123</td>\n",
       "      <td>-0.028883</td>\n",
       "      <td>0.028883</td>\n",
       "      <td>-0.510435</td>\n",
       "      <td>-0.520317</td>\n",
       "      <td>1.000000</td>\n",
       "      <td>-0.047014</td>\n",
       "      <td>0.047014</td>\n",
       "    </tr>\n",
       "    <tr>\n",
       "      <th>Urban_NO</th>\n",
       "      <td>-0.070628</td>\n",
       "      <td>0.040098</td>\n",
       "      <td>0.094559</td>\n",
       "      <td>-0.000267</td>\n",
       "      <td>0.000267</td>\n",
       "      <td>0.065518</td>\n",
       "      <td>-0.016771</td>\n",
       "      <td>-0.047014</td>\n",
       "      <td>1.000000</td>\n",
       "      <td>-1.000000</td>\n",
       "    </tr>\n",
       "    <tr>\n",
       "      <th>Urban_YES</th>\n",
       "      <td>0.070628</td>\n",
       "      <td>-0.040098</td>\n",
       "      <td>-0.094559</td>\n",
       "      <td>0.000267</td>\n",
       "      <td>-0.000267</td>\n",
       "      <td>-0.065518</td>\n",
       "      <td>0.016771</td>\n",
       "      <td>0.047014</td>\n",
       "      <td>-1.000000</td>\n",
       "      <td>1.000000</td>\n",
       "    </tr>\n",
       "  </tbody>\n",
       "</table>\n",
       "</div>"
      ],
      "text/plain": [
       "                         Taxable.Income  City.Population  Work.Experience  \\\n",
       "Taxable.Income                 1.000000        -0.064387        -0.001818   \n",
       "City.Population               -0.064387         1.000000         0.013135   \n",
       "Work.Experience               -0.001818         0.013135         1.000000   \n",
       "Undergrad_NO                   0.049232        -0.079579         0.005362   \n",
       "Undergrad_YES                 -0.049232         0.079579        -0.005362   \n",
       "Marital.Status_Divorced        0.062099         0.004925        -0.014833   \n",
       "Marital.Status_Married        -0.100611        -0.007035         0.033347   \n",
       "Marital.Status_Single          0.037910         0.002087        -0.018123   \n",
       "Urban_NO                      -0.070628         0.040098         0.094559   \n",
       "Urban_YES                      0.070628        -0.040098        -0.094559   \n",
       "\n",
       "                         Undergrad_NO  Undergrad_YES  Marital.Status_Divorced  \\\n",
       "Taxable.Income               0.049232      -0.049232                 0.062099   \n",
       "City.Population             -0.079579       0.079579                 0.004925   \n",
       "Work.Experience              0.005362      -0.005362                -0.014833   \n",
       "Undergrad_NO                 1.000000      -1.000000                 0.045101   \n",
       "Undergrad_YES               -1.000000       1.000000                -0.045101   \n",
       "Marital.Status_Divorced      0.045101      -0.045101                 1.000000   \n",
       "Marital.Status_Married      -0.015120       0.015120                -0.468757   \n",
       "Marital.Status_Single       -0.028883       0.028883                -0.510435   \n",
       "Urban_NO                    -0.000267       0.000267                 0.065518   \n",
       "Urban_YES                    0.000267      -0.000267                -0.065518   \n",
       "\n",
       "                         Marital.Status_Married  Marital.Status_Single  \\\n",
       "Taxable.Income                        -0.100611               0.037910   \n",
       "City.Population                       -0.007035               0.002087   \n",
       "Work.Experience                        0.033347              -0.018123   \n",
       "Undergrad_NO                          -0.015120              -0.028883   \n",
       "Undergrad_YES                          0.015120               0.028883   \n",
       "Marital.Status_Divorced               -0.468757              -0.510435   \n",
       "Marital.Status_Married                 1.000000              -0.520317   \n",
       "Marital.Status_Single                 -0.520317               1.000000   \n",
       "Urban_NO                              -0.016771              -0.047014   \n",
       "Urban_YES                              0.016771               0.047014   \n",
       "\n",
       "                         Urban_NO  Urban_YES  \n",
       "Taxable.Income          -0.070628   0.070628  \n",
       "City.Population          0.040098  -0.040098  \n",
       "Work.Experience          0.094559  -0.094559  \n",
       "Undergrad_NO            -0.000267   0.000267  \n",
       "Undergrad_YES            0.000267  -0.000267  \n",
       "Marital.Status_Divorced  0.065518  -0.065518  \n",
       "Marital.Status_Married  -0.016771   0.016771  \n",
       "Marital.Status_Single   -0.047014   0.047014  \n",
       "Urban_NO                 1.000000  -1.000000  \n",
       "Urban_YES               -1.000000   1.000000  "
      ]
     },
     "execution_count": 25,
     "metadata": {},
     "output_type": "execute_result"
    }
   ],
   "source": [
    "corel"
   ]
  },
  {
   "cell_type": "code",
   "execution_count": 28,
   "id": "272c7ab4",
   "metadata": {},
   "outputs": [
    {
     "data": {
      "text/plain": [
       "<AxesSubplot:>"
      ]
     },
     "execution_count": 28,
     "metadata": {},
     "output_type": "execute_result"
    },
    {
     "data": {
      "image/png": "[encoded data removed]",
      "text/plain": [
       "<Figure size 1080x720 with 2 Axes>"
      ]
     },
     "metadata": {
      "needs_background": "light"
     },
     "output_type": "display_data"
    }
   ],
   "source": [
    "plt.figure(figsize=(15,10))\n",
    "sns.heatmap(annot=True,\n",
    "           data=corel,\n",
    "           vmin=-1,\n",
    "           vmax=1,\n",
    "           cmap='coolwarm')"
   ]
  },
  {
   "cell_type": "markdown",
   "id": "e0062025",
   "metadata": {},
   "source": [
    "## Since the target variable is continious, we create a class of taxable_income <= 30000 as \"Risky\" and others are \"Good"
   ]
  },
  {
   "cell_type": "code",
   "execution_count": 29,
   "id": "01d49052",
   "metadata": {},
   "outputs": [],
   "source": [
    "df1['Taxable.Income']=pd.cut(df1['Taxable.Income'],bins=[0,30000,100000],labels=['risky','good'])"
   ]
  },
  {
   "cell_type": "code",
   "execution_count": 33,
   "id": "40e8cd77",
   "metadata": {},
   "outputs": [],
   "source": [
    "X = df1.iloc[:,1:10]\n",
    "y = df1.iloc[:,0]"
   ]
  },
  {
   "cell_type": "code",
   "execution_count": 36,
   "id": "1dd9c500",
   "metadata": {},
   "outputs": [],
   "source": [
    "x_train,x_test,y_train,y_test = train_test_split(X,y,test_size = 0.2,random_state=101)"
   ]
  },
  {
   "cell_type": "code",
   "execution_count": 37,
   "id": "cde45926",
   "metadata": {},
   "outputs": [
    {
     "data": {
      "text/plain": [
       "good     381\n",
       "risky     99\n",
       "Name: Taxable.Income, dtype: int64"
      ]
     },
     "execution_count": 37,
     "metadata": {},
     "output_type": "execute_result"
    }
   ],
   "source": [
    "y_train.value_counts()"
   ]
  },
  {
   "cell_type": "code",
   "execution_count": 39,
   "id": "86cc94c5",
   "metadata": {},
   "outputs": [
    {
     "data": {
      "text/plain": [
       "0.74375"
      ]
     },
     "execution_count": 39,
     "metadata": {},
     "output_type": "execute_result"
    }
   ],
   "source": [
    "model =rf(n_jobs=4,n_estimators = 150, oob_score =True,criterion ='entropy') \n",
    "model.fit(x_train,y_train)\n",
    "model.oob_score_"
   ]
  },
  {
   "cell_type": "code",
   "execution_count": 40,
   "id": "08afd5ba",
   "metadata": {},
   "outputs": [],
   "source": [
    "pred_train=model.predict(x_train)"
   ]
  },
  {
   "cell_type": "code",
   "execution_count": 41,
   "id": "8e800a44",
   "metadata": {},
   "outputs": [
    {
     "data": {
      "text/plain": [
       "1.0"
      ]
     },
     "execution_count": 41,
     "metadata": {},
     "output_type": "execute_result"
    }
   ],
   "source": [
    "accuracy_score(y_train,pred_train)"
   ]
  },
  {
   "cell_type": "code",
   "execution_count": 42,
   "id": "9557ec68",
   "metadata": {},
   "outputs": [
    {
     "data": {
      "text/plain": [
       "array([[381,   0],\n",
       "       [  0,  99]], dtype=int64)"
      ]
     },
     "execution_count": 42,
     "metadata": {},
     "output_type": "execute_result"
    }
   ],
   "source": [
    "confusion_matrix(y_train,pred_train)"
   ]
  },
  {
   "cell_type": "code",
   "execution_count": 43,
   "id": "3f42ea0d",
   "metadata": {},
   "outputs": [],
   "source": [
    "pred_test=model.predict(x_test)"
   ]
  },
  {
   "cell_type": "code",
   "execution_count": 44,
   "id": "0dc2be13",
   "metadata": {},
   "outputs": [
    {
     "data": {
      "text/plain": [
       "0.7333333333333333"
      ]
     },
     "execution_count": 44,
     "metadata": {},
     "output_type": "execute_result"
    }
   ],
   "source": [
    "accuracy_score(y_test,pred_test)"
   ]
  },
  {
   "cell_type": "code",
   "execution_count": 45,
   "id": "ed42a4ac",
   "metadata": {},
   "outputs": [
    {
     "data": {
      "text/plain": [
       "array([[87,  8],\n",
       "       [24,  1]], dtype=int64)"
      ]
     },
     "execution_count": 45,
     "metadata": {},
     "output_type": "execute_result"
    }
   ],
   "source": [
    "confusion_matrix(y_test,pred_test)"
   ]
  },
  {
   "cell_type": "markdown",
   "id": "05b5418c",
   "metadata": {},
   "source": [
    "## As seen in the confusion matrix of test data 88 instances are predicted correctly and 32 instances are predicted wrongly."
   ]
  },
  {
   "cell_type": "code",
   "execution_count": 46,
   "id": "75d18554",
   "metadata": {},
   "outputs": [],
   "source": [
    "df_t=pd.DataFrame({'Actual':y_test, 'Predicted':pred_test})"
   ]
  },
  {
   "cell_type": "code",
   "execution_count": 47,
   "id": "eb6e5795",
   "metadata": {},
   "outputs": [
    {
     "data": {
      "text/html": [
       "<div>\n",
       "<style scoped>\n",
       "    .dataframe tbody tr th:only-of-type {\n",
       "        vertical-align: middle;\n",
       "    }\n",
       "\n",
       "    .dataframe tbody tr th {\n",
       "        vertical-align: top;\n",
       "    }\n",
       "\n",
       "    .dataframe thead th {\n",
       "        text-align: right;\n",
       "    }\n",
       "</style>\n",
       "<table border=\"1\" class=\"dataframe\">\n",
       "  <thead>\n",
       "    <tr style=\"text-align: right;\">\n",
       "      <th></th>\n",
       "      <th>Actual</th>\n",
       "      <th>Predicted</th>\n",
       "    </tr>\n",
       "  </thead>\n",
       "  <tbody>\n",
       "    <tr>\n",
       "      <th>240</th>\n",
       "      <td>good</td>\n",
       "      <td>good</td>\n",
       "    </tr>\n",
       "    <tr>\n",
       "      <th>304</th>\n",
       "      <td>good</td>\n",
       "      <td>good</td>\n",
       "    </tr>\n",
       "    <tr>\n",
       "      <th>411</th>\n",
       "      <td>good</td>\n",
       "      <td>good</td>\n",
       "    </tr>\n",
       "    <tr>\n",
       "      <th>336</th>\n",
       "      <td>good</td>\n",
       "      <td>good</td>\n",
       "    </tr>\n",
       "    <tr>\n",
       "      <th>271</th>\n",
       "      <td>good</td>\n",
       "      <td>good</td>\n",
       "    </tr>\n",
       "    <tr>\n",
       "      <th>...</th>\n",
       "      <td>...</td>\n",
       "      <td>...</td>\n",
       "    </tr>\n",
       "    <tr>\n",
       "      <th>282</th>\n",
       "      <td>good</td>\n",
       "      <td>good</td>\n",
       "    </tr>\n",
       "    <tr>\n",
       "      <th>31</th>\n",
       "      <td>good</td>\n",
       "      <td>good</td>\n",
       "    </tr>\n",
       "    <tr>\n",
       "      <th>318</th>\n",
       "      <td>good</td>\n",
       "      <td>good</td>\n",
       "    </tr>\n",
       "    <tr>\n",
       "      <th>527</th>\n",
       "      <td>good</td>\n",
       "      <td>good</td>\n",
       "    </tr>\n",
       "    <tr>\n",
       "      <th>118</th>\n",
       "      <td>risky</td>\n",
       "      <td>good</td>\n",
       "    </tr>\n",
       "  </tbody>\n",
       "</table>\n",
       "<p>120 rows × 2 columns</p>\n",
       "</div>"
      ],
      "text/plain": [
       "    Actual Predicted\n",
       "240   good      good\n",
       "304   good      good\n",
       "411   good      good\n",
       "336   good      good\n",
       "271   good      good\n",
       "..     ...       ...\n",
       "282   good      good\n",
       "31    good      good\n",
       "318   good      good\n",
       "527   good      good\n",
       "118  risky      good\n",
       "\n",
       "[120 rows x 2 columns]"
      ]
     },
     "execution_count": 47,
     "metadata": {},
     "output_type": "execute_result"
    }
   ],
   "source": [
    "df_t"
   ]
  },
  {
   "cell_type": "code",
   "execution_count": 48,
   "id": "f0fc9f32",
   "metadata": {},
   "outputs": [],
   "source": [
    "from sklearn.tree import DecisionTreeClassifier"
   ]
  },
  {
   "cell_type": "code",
   "execution_count": 49,
   "id": "fa071a5f",
   "metadata": {},
   "outputs": [],
   "source": [
    "dt=DecisionTreeClassifier(criterion='entropy',random_state=0)"
   ]
  },
  {
   "cell_type": "code",
   "execution_count": 50,
   "id": "ff16e1a1",
   "metadata": {},
   "outputs": [
    {
     "data": {
      "text/plain": [
       "DecisionTreeClassifier(criterion='entropy', random_state=0)"
      ]
     },
     "execution_count": 50,
     "metadata": {},
     "output_type": "execute_result"
    }
   ],
   "source": [
    "dt.fit(x_train,y_train)"
   ]
  },
  {
   "cell_type": "code",
   "execution_count": 51,
   "id": "4a3ae013",
   "metadata": {},
   "outputs": [],
   "source": [
    "y_pred_dt=dt.predict(x_test)"
   ]
  },
  {
   "cell_type": "code",
   "execution_count": 52,
   "id": "bad0c198",
   "metadata": {},
   "outputs": [],
   "source": [
    "from  sklearn.metrics import classification_report"
   ]
  },
  {
   "cell_type": "code",
   "execution_count": 53,
   "id": "ab7c3072",
   "metadata": {},
   "outputs": [
    {
     "name": "stdout",
     "output_type": "stream",
     "text": [
      "              precision    recall  f1-score   support\n",
      "\n",
      "        good       0.78      0.76      0.77        95\n",
      "       risky       0.18      0.20      0.19        25\n",
      "\n",
      "    accuracy                           0.64       120\n",
      "   macro avg       0.48      0.48      0.48       120\n",
      "weighted avg       0.66      0.64      0.65       120\n",
      "\n"
     ]
    }
   ],
   "source": [
    "print(classification_report(y_test,y_pred_dt))"
   ]
  },
  {
   "cell_type": "code",
   "execution_count": 54,
   "id": "10afd7eb",
   "metadata": {},
   "outputs": [
    {
     "name": "stdout",
     "output_type": "stream",
     "text": [
      "              precision    recall  f1-score   support\n",
      "\n",
      "        good       1.00      1.00      1.00       381\n",
      "       risky       1.00      1.00      1.00        99\n",
      "\n",
      "    accuracy                           1.00       480\n",
      "   macro avg       1.00      1.00      1.00       480\n",
      "weighted avg       1.00      1.00      1.00       480\n",
      "\n"
     ]
    }
   ],
   "source": [
    "print(classification_report(y_train,pred_train))"
   ]
  },
  {
   "cell_type": "markdown",
   "id": "22ab103e",
   "metadata": {},
   "source": [
    "# Conclusion"
   ]
  },
  {
   "cell_type": "markdown",
   "id": "af5aed85",
   "metadata": {},
   "source": [
    "## Since the accuracy of the training set is 100% , while the accuracy of the test set is 64%"
   ]
  },
  {
   "cell_type": "code",
   "execution_count": 55,
   "id": "0cd36044",
   "metadata": {},
   "outputs": [
    {
     "data": {
      "text/plain": [
       "array([0.5192935 , 0.3578597 , 0.01667814, 0.01865172, 0.01710601,\n",
       "       0.02017005, 0.01669423, 0.0181104 , 0.01543626])"
      ]
     },
     "execution_count": 55,
     "metadata": {},
     "output_type": "execute_result"
    }
   ],
   "source": [
    "model.feature_importances_"
   ]
  },
  {
   "cell_type": "code",
   "execution_count": 56,
   "id": "8b0f2c09",
   "metadata": {},
   "outputs": [],
   "source": [
    "fi= pd.DataFrame({'feature': list(x_train.columns),\n",
    "                   'importance': model.feature_importances_}).\\\n",
    "                    sort_values('importance', ascending = False)"
   ]
  },
  {
   "cell_type": "code",
   "execution_count": 57,
   "id": "491da15d",
   "metadata": {},
   "outputs": [
    {
     "data": {
      "text/html": [
       "<div>\n",
       "<style scoped>\n",
       "    .dataframe tbody tr th:only-of-type {\n",
       "        vertical-align: middle;\n",
       "    }\n",
       "\n",
       "    .dataframe tbody tr th {\n",
       "        vertical-align: top;\n",
       "    }\n",
       "\n",
       "    .dataframe thead th {\n",
       "        text-align: right;\n",
       "    }\n",
       "</style>\n",
       "<table border=\"1\" class=\"dataframe\">\n",
       "  <thead>\n",
       "    <tr style=\"text-align: right;\">\n",
       "      <th></th>\n",
       "      <th>feature</th>\n",
       "      <th>importance</th>\n",
       "    </tr>\n",
       "  </thead>\n",
       "  <tbody>\n",
       "    <tr>\n",
       "      <th>0</th>\n",
       "      <td>City.Population</td>\n",
       "      <td>0.519293</td>\n",
       "    </tr>\n",
       "    <tr>\n",
       "      <th>1</th>\n",
       "      <td>Work.Experience</td>\n",
       "      <td>0.357860</td>\n",
       "    </tr>\n",
       "    <tr>\n",
       "      <th>5</th>\n",
       "      <td>Marital.Status_Married</td>\n",
       "      <td>0.020170</td>\n",
       "    </tr>\n",
       "    <tr>\n",
       "      <th>3</th>\n",
       "      <td>Undergrad_YES</td>\n",
       "      <td>0.018652</td>\n",
       "    </tr>\n",
       "    <tr>\n",
       "      <th>7</th>\n",
       "      <td>Urban_NO</td>\n",
       "      <td>0.018110</td>\n",
       "    </tr>\n",
       "    <tr>\n",
       "      <th>4</th>\n",
       "      <td>Marital.Status_Divorced</td>\n",
       "      <td>0.017106</td>\n",
       "    </tr>\n",
       "    <tr>\n",
       "      <th>6</th>\n",
       "      <td>Marital.Status_Single</td>\n",
       "      <td>0.016694</td>\n",
       "    </tr>\n",
       "    <tr>\n",
       "      <th>2</th>\n",
       "      <td>Undergrad_NO</td>\n",
       "      <td>0.016678</td>\n",
       "    </tr>\n",
       "    <tr>\n",
       "      <th>8</th>\n",
       "      <td>Urban_YES</td>\n",
       "      <td>0.015436</td>\n",
       "    </tr>\n",
       "  </tbody>\n",
       "</table>\n",
       "</div>"
      ],
      "text/plain": [
       "                   feature  importance\n",
       "0          City.Population    0.519293\n",
       "1          Work.Experience    0.357860\n",
       "5   Marital.Status_Married    0.020170\n",
       "3            Undergrad_YES    0.018652\n",
       "7                 Urban_NO    0.018110\n",
       "4  Marital.Status_Divorced    0.017106\n",
       "6    Marital.Status_Single    0.016694\n",
       "2             Undergrad_NO    0.016678\n",
       "8                Urban_YES    0.015436"
      ]
     },
     "execution_count": 57,
     "metadata": {},
     "output_type": "execute_result"
    }
   ],
   "source": [
    "fi"
   ]
  },
  {
   "cell_type": "markdown",
   "id": "d1214743",
   "metadata": {},
   "source": [
    "# As seen in the above table price is most important feature"
   ]
  },
  {
   "cell_type": "code",
   "execution_count": null,
   "id": "73364a5f",
   "metadata": {},
   "outputs": [],
   "source": []
  }
 ],
 "metadata": {
  "kernelspec": {
   "display_name": "Python 3 (ipykernel)",
   "language": "python",
   "name": "python3"
  },
  "language_info": {
   "codemirror_mode": {
    "name": "ipython",
    "version": 3
   },
   "file_extension": ".py",
   "mimetype": "text/x-python",
   "name": "python",
   "nbconvert_exporter": "python",
   "pygments_lexer": "ipython3",
   "version": "3.9.12"
  },
  "varInspector": {
   "cols": {
    "lenName": 16,
    "lenType": 16,
    "lenVar": 40
   },
   "kernels_config": {
    "python": {
     "delete_cmd_postfix": "",
     "delete_cmd_prefix": "del ",
     "library": "var_list.py",
     "varRefreshCmd": "print(var_dic_list())"
    },
    "r": {
     "delete_cmd_postfix": ") ",
     "delete_cmd_prefix": "rm(",
     "library": "var_list.r",
     "varRefreshCmd": "cat(var_dic_list()) "
    }
   },
   "types_to_exclude": [
    "module",
    "function",
    "builtin_function_or_method",
    "instance",
    "_Feature"
   ],
   "window_display": false
  }
 },
 "nbformat": 4,
 "nbformat_minor": 5
}
