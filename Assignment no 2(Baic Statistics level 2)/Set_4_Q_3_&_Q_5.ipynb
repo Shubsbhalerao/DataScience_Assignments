{
 "cells": [
  {
   "cell_type": "code",
   "execution_count": 2,
   "id": "f4e7bb80",
   "metadata": {},
   "outputs": [],
   "source": [
    "import pandas as pd\n",
    "import numpy as np\n",
    "from scipy import stats \n",
    "from scipy.stats import norm"
   ]
  },
  {
   "cell_type": "markdown",
   "id": "3655a471",
   "metadata": {},
   "source": [
    "## 3.\tAuditors at a small community bank randomly sample 100 withdrawal transactions made during the week at an ATM machine located near the bank’s main branch. Over the past 2 years, the average withdrawal amount has been 50 with a standard deviation of 40. Since audit investigations are typically expensive, the auditors decide to not initiate further investigations if the mean transaction amount of the sample is between 45 and 55. What is the probability that in any given week, there will be an investigation?\n",
    "\n",
    "    A.\t1.25%\n",
    "    B.\t2.5%\n",
    "    C.\t10.55%\n",
    "    D.\t21.1%\n",
    "    E.\t50%\n"
   ]
  },
  {
   "cell_type": "code",
   "execution_count": 3,
   "id": "e0f11ec6",
   "metadata": {},
   "outputs": [
    {
     "data": {
      "text/plain": [
       "0.7887004526662893"
      ]
     },
     "execution_count": 3,
     "metadata": {},
     "output_type": "execute_result"
    }
   ],
   "source": [
    "p=norm.cdf(x=55,loc=50,scale=40/np.sqrt(100))-norm.cdf(x=45,loc=50,scale=40/np.sqrt(100))\n",
    "p"
   ]
  },
  {
   "cell_type": "code",
   "execution_count": 4,
   "id": "c71213be",
   "metadata": {},
   "outputs": [
    {
     "data": {
      "text/plain": [
       "21.129954733371072"
      ]
     },
     "execution_count": 4,
     "metadata": {},
     "output_type": "execute_result"
    }
   ],
   "source": [
    "p_value=(1-p)*100\n",
    "p_value"
   ]
  },
  {
   "cell_type": "code",
   "execution_count": 5,
   "id": "feab5fcd",
   "metadata": {},
   "outputs": [],
   "source": [
    "# answer is 21.12%"
   ]
  },
  {
   "cell_type": "markdown",
   "id": "fe600d4a",
   "metadata": {},
   "source": [
    "## 4.\tThe auditors from the above example would like to maintain the probability of investigation to 5%. Which of the following represents the minimum number transactions that they should sample if they do not want to change the thresholds of 45 and 55? Assume that the sample statistics remain unchanged.\n",
    "\n",
    "     A.\t144\n",
    "     B.\t150\n",
    "     C.\t196\n",
    "     D.\t250\n",
    "     E.\tNot enough information\n"
   ]
  },
  {
   "cell_type": "code",
   "execution_count": 10,
   "id": "e4aa65ec",
   "metadata": {},
   "outputs": [],
   "source": [
    "# answer is 196"
   ]
  },
  {
   "cell_type": "markdown",
   "id": "e32efde6",
   "metadata": {},
   "source": [
    "## 5.\tAn educational startup that helps MBA aspirants write their essays is targeting individuals who have taken GMAT in 2012 and have expressed interest in applying to FT top 20 b-schools. There are 40000 such individuals with an average GMAT score of 720 and a standard deviation of 120. The scores are distributed between 650 and 790 with a very long and thin tail towards the higher end resulting in substantial skewness. Which of the following is likely to be true for randomly chosen samples of aspirants?\n",
    "\n",
    "     A.\tThe standard deviation of the scores within any sample will be 120.\n",
    "     B.\tThe standard deviation of the mean of across several samples will be 120.\n",
    "     C.\tThe mean score in any sample will be 720.\n",
    "     D.\tThe average of the mean across several samples will be 720.\n"
   ]
  },
  {
   "cell_type": "code",
   "execution_count": 12,
   "id": "6a701d79",
   "metadata": {},
   "outputs": [
    {
     "data": {
      "text/plain": [
       "0.4403310728005885"
      ]
     },
     "execution_count": 12,
     "metadata": {},
     "output_type": "execute_result"
    }
   ],
   "source": [
    "norm.cdf(x=790,loc=720,scale=120)-norm.cdf(x=650,loc=720,scale=120)"
   ]
  },
  {
   "cell_type": "code",
   "execution_count": null,
   "id": "c04e363f",
   "metadata": {},
   "outputs": [],
   "source": []
  }
 ],
 "metadata": {
  "kernelspec": {
   "display_name": "Python 3 (ipykernel)",
   "language": "python",
   "name": "python3"
  },
  "language_info": {
   "codemirror_mode": {
    "name": "ipython",
    "version": 3
   },
   "file_extension": ".py",
   "mimetype": "text/x-python",
   "name": "python",
   "nbconvert_exporter": "python",
   "pygments_lexer": "ipython3",
   "version": "3.9.12"
  },
  "varInspector": {
   "cols": {
    "lenName": 16,
    "lenType": 16,
    "lenVar": 40
   },
   "kernels_config": {
    "python": {
     "delete_cmd_postfix": "",
     "delete_cmd_prefix": "del ",
     "library": "var_list.py",
     "varRefreshCmd": "print(var_dic_list())"
    },
    "r": {
     "delete_cmd_postfix": ") ",
     "delete_cmd_prefix": "rm(",
     "library": "var_list.r",
     "varRefreshCmd": "cat(var_dic_list()) "
    }
   },
   "types_to_exclude": [
    "module",
    "function",
    "builtin_function_or_method",
    "instance",
    "_Feature"
   ],
   "window_display": false
  }
 },
 "nbformat": 4,
 "nbformat_minor": 5
}
