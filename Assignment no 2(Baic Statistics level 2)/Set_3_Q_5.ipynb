{
 "cells": [
  {
   "cell_type": "markdown",
   "id": "dd729966",
   "metadata": {},
   "source": [
    "## Assignment no 2 set 3 Q5"
   ]
  },
  {
   "cell_type": "code",
   "execution_count": 5,
   "id": "20353e29",
   "metadata": {},
   "outputs": [],
   "source": [
    "import numpy as np\n",
    "from scipy import stats\n",
    "from scipy.stats import norm"
   ]
  },
  {
   "cell_type": "code",
   "execution_count": 2,
   "id": "a1d4339d",
   "metadata": {},
   "outputs": [],
   "source": [
    "# apply one sample one tail z-test\n",
    "z_scores = (0.046-0.05)/(np.sqrt((0.05*(1-0.05))/2000))"
   ]
  },
  {
   "cell_type": "code",
   "execution_count": 3,
   "id": "453e5217",
   "metadata": {},
   "outputs": [
    {
     "data": {
      "text/plain": [
       "-0.820782681668124"
      ]
     },
     "execution_count": 3,
     "metadata": {},
     "output_type": "execute_result"
    }
   ],
   "source": [
    "z_scores"
   ]
  },
  {
   "cell_type": "code",
   "execution_count": 6,
   "id": "ab72c55f",
   "metadata": {},
   "outputs": [
    {
     "data": {
      "text/plain": [
       "0.20588503245107104"
      ]
     },
     "execution_count": 6,
     "metadata": {},
     "output_type": "execute_result"
    }
   ],
   "source": [
    "p_value=1-stats.norm.cdf(abs(z_scores))\n",
    "p_value"
   ]
  },
  {
   "cell_type": "code",
   "execution_count": 9,
   "id": "8f0954cc",
   "metadata": {},
   "outputs": [
    {
     "data": {
      "text/plain": [
       "324.01841321281626"
      ]
     },
     "execution_count": 9,
     "metadata": {},
     "output_type": "execute_result"
    }
   ],
   "source": [
    "# Q8\n",
    "p=norm.ppf(0.95,loc=250,scale=45)\n",
    "p"
   ]
  },
  {
   "cell_type": "code",
   "execution_count": 18,
   "id": "54cd16b5",
   "metadata": {},
   "outputs": [],
   "source": [
    "p=norm.ppf(0.04,loc=700,scale=60)"
   ]
  },
  {
   "cell_type": "code",
   "execution_count": 19,
   "id": "b484b285",
   "metadata": {},
   "outputs": [
    {
     "data": {
      "text/plain": [
       "594.9588357248698"
      ]
     },
     "execution_count": 19,
     "metadata": {},
     "output_type": "execute_result"
    }
   ],
   "source": [
    "p"
   ]
  },
  {
   "cell_type": "code",
   "execution_count": null,
   "id": "1b4dd9f0",
   "metadata": {},
   "outputs": [],
   "source": []
  },
  {
   "cell_type": "code",
   "execution_count": null,
   "id": "8757738c",
   "metadata": {},
   "outputs": [],
   "source": []
  }
 ],
 "metadata": {
  "kernelspec": {
   "display_name": "Python 3 (ipykernel)",
   "language": "python",
   "name": "python3"
  },
  "language_info": {
   "codemirror_mode": {
    "name": "ipython",
    "version": 3
   },
   "file_extension": ".py",
   "mimetype": "text/x-python",
   "name": "python",
   "nbconvert_exporter": "python",
   "pygments_lexer": "ipython3",
   "version": "3.9.12"
  },
  "varInspector": {
   "cols": {
    "lenName": 16,
    "lenType": 16,
    "lenVar": 40
   },
   "kernels_config": {
    "python": {
     "delete_cmd_postfix": "",
     "delete_cmd_prefix": "del ",
     "library": "var_list.py",
     "varRefreshCmd": "print(var_dic_list())"
    },
    "r": {
     "delete_cmd_postfix": ") ",
     "delete_cmd_prefix": "rm(",
     "library": "var_list.r",
     "varRefreshCmd": "cat(var_dic_list()) "
    }
   },
   "types_to_exclude": [
    "module",
    "function",
    "builtin_function_or_method",
    "instance",
    "_Feature"
   ],
   "window_display": false
  }
 },
 "nbformat": 4,
 "nbformat_minor": 5
}
